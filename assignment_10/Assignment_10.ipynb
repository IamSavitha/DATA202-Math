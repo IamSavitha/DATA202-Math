{
 "cells": [
  {
   "cell_type": "markdown",
   "metadata": {},
   "source": [
    "Calculate the posterior probability of having a disease given a positive\n",
    "diagnostic test result, using Bayes' theorem."
   ]
  },
  {
   "cell_type": "code",
   "execution_count": 15,
   "metadata": {},
   "outputs": [],
   "source": [
    "from probability import posterior_probability"
   ]
  },
  {
   "cell_type": "markdown",
   "metadata": {},
   "source": [
    "Function : posterior_probability(prior, sensitivity, specificity)\n",
    "\n",
    "P(Disease∣Positive)= P(Positive∣Disease) * P(Disease) /\n",
    "P(Positive∣Disease)*P(Disease) + (1- P(Positive∣Disease')* (1-P(Disease')))\n",
    "​\n",
    "\n",
    "\n",
    "CODE :\n",
    "\n",
    "\n",
    "def posterior_probability(prior, sensitivity, specificity):\n",
    "    \n",
    "    \n",
    "    return (sensitivity * prior) / ((sensitivity * prior) + ((1 - specificity) * (1 - prior)))\n",
    "\n",
    "\n",
    "Parameters\n",
    "-  prior - P(Disease): Prior probability of the disease (prevalence).\n",
    "-  sensitivity- P(Positive∣Disease) : True‑positive rate of the diagnostic test.\n",
    "-  specificity- P(Negative∣Disease') : True‑negative rate of the diagnostic test.\n",
    "\n",
    "Returns : Posterior probability that an individual has the disease\n",
    "    after testing positive.-  P(Disease | Positive Test)"
   ]
  },
  {
   "cell_type": "code",
   "execution_count": 9,
   "metadata": {},
   "outputs": [],
   "source": [
    "prior       = 1 / 10_000     # 0.0001\n",
    "sensitivity = 0.99           # 99 %\n",
    "specificity = 0.95           # 95 "
   ]
  },
  {
   "cell_type": "code",
   "execution_count": 13,
   "metadata": {},
   "outputs": [
    {
     "name": "stdout",
     "output_type": "stream",
     "text": [
      "Probability that an individual has the disease and testing positive: 0.0019762845849802353\n"
     ]
    }
   ],
   "source": [
    "posterior = posterior_probability(prior, sensitivity, specificity)\n",
    "print(\"Probability that an individual has the disease and testing positive:\", posterior) "
   ]
  }
 ],
 "metadata": {
  "kernelspec": {
   "display_name": "base",
   "language": "python",
   "name": "python3"
  },
  "language_info": {
   "codemirror_mode": {
    "name": "ipython",
    "version": 3
   },
   "file_extension": ".py",
   "mimetype": "text/x-python",
   "name": "python",
   "nbconvert_exporter": "python",
   "pygments_lexer": "ipython3",
   "version": "3.12.7"
  }
 },
 "nbformat": 4,
 "nbformat_minor": 2
}
