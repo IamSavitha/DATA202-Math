{
 "cells": [
  {
   "cell_type": "code",
   "execution_count": 1,
   "metadata": {},
   "outputs": [],
   "source": [
    "import matplotlib.pyplot as plt\n",
    "\n",
    "def show_scatter_plot(title, \n",
    "                      x_label, y_label, \n",
    "                      x_values, y_values):\n",
    "    \"\"\"\n",
    "    @param title the chart title.\n",
    "    @param x_label the x-axis label.\n",
    "    @param y_label the y-axis label.\n",
    "    @param x_values the independent x values to plot.\n",
    "    @param y_values the dependent y values to plot.\n",
    "    \"\"\"\n",
    "    plt.scatter(x_values, y_values)\n",
    "    plt.title(title)\n",
    "    plt.ylabel(x_label)\n",
    "    plt.xlabel(y_label)\n",
    "    plt.show()"
   ]
  },
  {
   "cell_type": "code",
   "execution_count": 2,
   "metadata": {},
   "outputs": [],
   "source": [
    "import numpy as np\n",
    "\n",
    "def calculate_ss(x_values, y_values):\n",
    "    \"\"\"\n",
    "    Calculate the residual and total sums of squares.\n",
    "    @param x_values the independent x values.\n",
    "    @param y_values the dependent y values.\n",
    "    @return a list of the residual and total sums of squares.\n",
    "    \"\"\"\n",
    "    x = np.array(x_values)\n",
    "    y = np.array(y_values)\n",
    "    \n",
    "    n = len(x)\n",
    "    sum_x  = np.sum(x)\n",
    "    sum_y  = np.sum(y)\n",
    "    sum_xx = np.sum(x*x)\n",
    "    sum_yy = np.sum(y*y)\n",
    "    sum_xy = np.sum(x*y)\n",
    "    mean_x = np.mean(x)\n",
    "    mean_y = np.mean(y)\n",
    "    \n",
    "    numerator = sum_xy - (sum_x*sum_y)/n\n",
    "    denominator = sum_xx - ((sum_x*sum_x)/n)\n",
    "    \n",
    "    m = numerator/denominator\n",
    "    b = mean_y - m*mean_x\n",
    "    \n",
    "    ss_residual = sum_yy - b*sum_y - m*sum_xy\n",
    "    ss_total    = sum_yy - (sum_y*sum_y)/n\n",
    "    \n",
    "    return ss_residual, ss_total"
   ]
  },
  {
   "cell_type": "code",
   "execution_count": 3,
   "metadata": {},
   "outputs": [],
   "source": [
    "def calculate_r2(ss_residual, ss_total):\n",
    "    \"\"\"\n",
    "    Calculate the coefficient of determination.\n",
    "    @param ss_residual the residual sum of squares.\n",
    "    @param ss_total the total sum of squares.\n",
    "    @return the coefficient of determination.\n",
    "    \"\"\"\n",
    "    cofd = 1 - ss_residual/ss_total\n",
    "    return cofd"
   ]
  },
  {
   "cell_type": "code",
   "execution_count": 4,
   "metadata": {},
   "outputs": [
    {
     "data": {
      "image/png": "[encoded data removed]",
      "text/plain": [
       "<Figure size 640x480 with 1 Axes>"
      ]
     },
     "metadata": {},
     "output_type": "display_data"
    }
   ],
   "source": [
    "xs = [35.43, 36.10, 35.74, 35.30, 35.40, 35.91, 35.48, 36.28]\n",
    "ys = [30.0,  24.2,  25.4,  29.8,  30.7,  24.0,  28.5,  22.7]\n",
    "\n",
    "show_scatter_plot('Scatter Plot', 'Dependent variable', \n",
    "                  'Independent variable', xs, ys )"
   ]
  },
  {
   "cell_type": "code",
   "execution_count": 5,
   "metadata": {},
   "outputs": [
    {
     "name": "stdout",
     "output_type": "stream",
     "text": [
      "ss_residual =  6.11253\n",
      "ss_total    = 70.60875\n"
     ]
    }
   ],
   "source": [
    "ss_residual, ss_total = calculate_ss(xs, ys)\n",
    "\n",
    "print(f'ss_residual = {ss_residual:8.5f}')\n",
    "print(f'ss_total    = {ss_total:8.5f}')"
   ]
  },
  {
   "cell_type": "code",
   "execution_count": 6,
   "metadata": {},
   "outputs": [
    {
     "name": "stdout",
     "output_type": "stream",
     "text": [
      "coefficient of determination = 0.913\n"
     ]
    }
   ],
   "source": [
    "r2 = calculate_r2(ss_residual, ss_total)\n",
    "\n",
    "print(f'coefficient of determination = {r2:.3f}')"
   ]
  },
  {
   "cell_type": "markdown",
   "metadata": {},
   "source": [
    "Coeff of det  0<=  Rsq <= 1\n",
    "\n",
    "0 is poor \n",
    "1 is perfect"
   ]
  },
  {
   "cell_type": "code",
   "execution_count": null,
   "metadata": {},
   "outputs": [],
   "source": []
  }
 ],
 "metadata": {
  "kernelspec": {
   "display_name": "base",
   "language": "python",
   "name": "python3"
  },
  "language_info": {
   "codemirror_mode": {
    "name": "ipython",
    "version": 3
   },
   "file_extension": ".py",
   "mimetype": "text/x-python",
   "name": "python",
   "nbconvert_exporter": "python",
   "pygments_lexer": "ipython3",
   "version": "3.12.7"
  }
 },
 "nbformat": 4,
 "nbformat_minor": 4
}
