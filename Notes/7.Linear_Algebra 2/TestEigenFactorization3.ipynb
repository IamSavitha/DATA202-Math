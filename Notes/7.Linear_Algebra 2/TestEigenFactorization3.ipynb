{
 "cells": [
  {
   "cell_type": "code",
   "execution_count": 7,
   "metadata": {},
   "outputs": [],
   "source": [
    "import math\n",
    "import numpy as np\n",
    "from numpy.linalg import norm, eig\n",
    "\n",
    "%precision 3\n",
    "np.set_printoptions(precision=3, suppress=True)"
   ]
  },
  {
   "cell_type": "code",
   "execution_count": 8,
   "metadata": {},
   "outputs": [],
   "source": [
    "def verify(values, vectors):\n",
    "    for i in range(len(values)):\n",
    "        value = values[i]\n",
    "        vector = vectors[:, i]\n",
    "        \n",
    "        print()\n",
    "        print(f'norm({vector}) = {norm(vector):.3f}')\n",
    "        print(f'Av = {A@vector}')\n",
    "        print(f'𝜆v = {value*vector}')"
   ]
  },
  {
   "cell_type": "code",
   "execution_count": 9,
   "metadata": {},
   "outputs": [],
   "source": [
    "def test_eig(A):\n",
    "    values, vectors = eig(A)\n",
    "    \n",
    "    print('Eigenvalues:')\n",
    "    print(values)\n",
    "    print()\n",
    "    print('Eigenvectors:')\n",
    "    print(vectors)    \n",
    "    \n",
    "    verify(values, vectors)"
   ]
  },
  {
   "cell_type": "code",
   "execution_count": 10,
   "metadata": {},
   "outputs": [],
   "source": [
    "A = np.array([[1, 2,  3],\n",
    "              [3, 2,  1],\n",
    "              [1, 0, -1]])\n"
   ]
  },
  {
   "cell_type": "code",
   "execution_count": 11,
   "metadata": {},
   "outputs": [
    {
     "name": "stdout",
     "output_type": "stream",
     "text": [
      "Eigenvalues:\n",
      "[ 4.317 -2.317  0.   ]\n",
      "\n",
      "Eigenvectors:\n",
      "[[ 0.584  0.736  0.408]\n",
      " [ 0.804 -0.382 -0.816]\n",
      " [ 0.11  -0.559  0.408]]\n",
      "\n",
      "norm([0.584 0.804 0.11 ]) = 1.000\n",
      "Av = [2.522 3.471 0.474]\n",
      "𝜆v = [2.522 3.471 0.474]\n",
      "\n",
      "norm([ 0.736 -0.382 -0.559]) = 1.000\n",
      "Av = [-1.705  0.885  1.295]\n",
      "𝜆v = [-1.705  0.885  1.295]\n",
      "\n",
      "norm([ 0.408 -0.816  0.408]) = 1.000\n",
      "Av = [-0. -0. -0.]\n",
      "𝜆v = [ 0. -0.  0.]\n"
     ]
    }
   ],
   "source": [
    "test_eig(A)"
   ]
  },
  {
   "cell_type": "code",
   "execution_count": 12,
   "metadata": {},
   "outputs": [],
   "source": [
    "A = np.array([[1, 0, 0,   0],\n",
    "              [0, 1, 5, -10],\n",
    "              [1, 0, 2,   0],\n",
    "              [1, 0, 0,  3]])\n"
   ]
  },
  {
   "cell_type": "code",
   "execution_count": 13,
   "metadata": {},
   "outputs": [
    {
     "name": "stdout",
     "output_type": "stream",
     "text": [
      "Eigenvalues:\n",
      "[1. 3. 2. 1.]\n",
      "\n",
      "Eigenvectors:\n",
      "[[ 0.     0.     0.     0.667]\n",
      " [ 1.    -0.981  0.981  0.   ]\n",
      " [ 0.     0.     0.196 -0.667]\n",
      " [ 0.     0.196  0.    -0.333]]\n",
      "\n",
      "norm([0. 1. 0. 0.]) = 1.000\n",
      "Av = [0. 1. 0. 0.]\n",
      "𝜆v = [0. 1. 0. 0.]\n",
      "\n",
      "norm([ 0.    -0.981  0.     0.196]) = 1.000\n",
      "Av = [ 0.    -2.942  0.     0.588]\n",
      "𝜆v = [ 0.    -2.942  0.     0.588]\n",
      "\n",
      "norm([0.    0.981 0.196 0.   ]) = 1.000\n",
      "Av = [0.    1.961 0.392 0.   ]\n",
      "𝜆v = [0.    1.961 0.392 0.   ]\n",
      "\n",
      "norm([ 0.667  0.    -0.667 -0.333]) = 1.000\n",
      "Av = [ 0.667  0.    -0.667 -0.333]\n",
      "𝜆v = [ 0.667  0.    -0.667 -0.333]\n"
     ]
    }
   ],
   "source": [
    "test_eig(A)"
   ]
  },
  {
   "cell_type": "code",
   "execution_count": 14,
   "metadata": {},
   "outputs": [],
   "source": [
    "# must have x[1] = 1\n",
    "# need high tolerance = 1.0e-12\n",
    "\n",
    "A = np.array([[1, -3, 3],\n",
    "              [3, -5, 3],\n",
    "              [6, -6, 4]])\n"
   ]
  },
  {
   "cell_type": "code",
   "execution_count": 15,
   "metadata": {},
   "outputs": [
    {
     "name": "stdout",
     "output_type": "stream",
     "text": [
      "Eigenvalues:\n",
      "[ 4. -2. -2.]\n",
      "\n",
      "Eigenvectors:\n",
      "[[ 0.408 -0.408 -0.305]\n",
      " [ 0.408  0.408 -0.808]\n",
      " [ 0.816  0.816 -0.503]]\n",
      "\n",
      "norm([0.408 0.408 0.816]) = 1.000\n",
      "Av = [1.633 1.633 3.266]\n",
      "𝜆v = [1.633 1.633 3.266]\n",
      "\n",
      "norm([-0.408  0.408  0.816]) = 1.000\n",
      "Av = [ 0.816 -0.816 -1.633]\n",
      "𝜆v = [ 0.816 -0.816 -1.633]\n",
      "\n",
      "norm([-0.305 -0.808 -0.503]) = 1.000\n",
      "Av = [0.61  1.617 1.007]\n",
      "𝜆v = [0.61  1.617 1.007]\n"
     ]
    }
   ],
   "source": [
    "test_eig(A)"
   ]
  },
  {
   "cell_type": "code",
   "execution_count": 16,
   "metadata": {},
   "outputs": [],
   "source": [
    "# wrong eigenvectors unless x[1] = 1\n",
    "\n",
    "A = np.array([[ 92, -32, -15],\n",
    "              [-64,  34,  39],\n",
    "              [176, -68, -99]])\n"
   ]
  },
  {
   "cell_type": "code",
   "execution_count": 17,
   "metadata": {},
   "outputs": [
    {
     "name": "stdout",
     "output_type": "stream",
     "text": [
      "Eigenvalues:\n",
      "[ 88.519 -70.791   9.272]\n",
      "\n",
      "Eigenvectors:\n",
      "[[ 0.655  0.02   0.361]\n",
      " [-0.261 -0.338  0.933]\n",
      " [ 0.709  0.941  0.001]]\n",
      "\n",
      "norm([ 0.655 -0.261  0.709]) = 1.000\n",
      "Av = [ 57.958 -23.125  62.783]\n",
      "𝜆v = [ 57.958 -23.125  62.783]\n",
      "\n",
      "norm([ 0.02  -0.338  0.941]) = 1.000\n",
      "Av = [ -1.437  23.914 -66.614]\n",
      "𝜆v = [ -1.437  23.914 -66.614]\n",
      "\n",
      "norm([0.361 0.933 0.001]) = 1.000\n",
      "Av = [3.347 8.647 0.009]\n",
      "𝜆v = [3.347 8.647 0.009]\n"
     ]
    }
   ],
   "source": [
    "test_eig(A)"
   ]
  },
  {
   "cell_type": "code",
   "execution_count": 18,
   "metadata": {},
   "outputs": [],
   "source": [
    "# sigular unless x[1] = 1\n",
    "\n",
    "A = np.array([[1, -2, 1],\n",
    "              [0,  0, 0],\n",
    "              [0,  1, 1]])\n"
   ]
  },
  {
   "cell_type": "code",
   "execution_count": 19,
   "metadata": {},
   "outputs": [
    {
     "name": "stdout",
     "output_type": "stream",
     "text": [
      "Eigenvalues:\n",
      "[1. 1. 0.]\n",
      "\n",
      "Eigenvectors:\n",
      "[[ 1.    -1.     0.905]\n",
      " [ 0.     0.     0.302]\n",
      " [ 0.     0.    -0.302]]\n",
      "\n",
      "norm([1. 0. 0.]) = 1.000\n",
      "Av = [1. 0. 0.]\n",
      "𝜆v = [1. 0. 0.]\n",
      "\n",
      "norm([-1.  0.  0.]) = 1.000\n",
      "Av = [-1.  0.  0.]\n",
      "𝜆v = [-1.  0.  0.]\n",
      "\n",
      "norm([ 0.905  0.302 -0.302]) = 1.000\n",
      "Av = [0. 0. 0.]\n",
      "𝜆v = [ 0.  0. -0.]\n"
     ]
    }
   ],
   "source": [
    "test_eig(A)"
   ]
  },
  {
   "cell_type": "code",
   "execution_count": 20,
   "metadata": {},
   "outputs": [],
   "source": [
    "# singular unless x[1] = 1\n",
    "\n",
    "A = np.array([[6, 3, -9],\n",
    "              [0, 9, 15],\n",
    "              [0, 0, 15]])\n"
   ]
  },
  {
   "cell_type": "code",
   "execution_count": 21,
   "metadata": {},
   "outputs": [
    {
     "name": "stdout",
     "output_type": "stream",
     "text": [
      "Eigenvalues:\n",
      "[ 6.  9. 15.]\n",
      "\n",
      "Eigenvectors:\n",
      "[[ 1.     0.707 -0.062]\n",
      " [ 0.     0.707  0.927]\n",
      " [ 0.     0.     0.371]]\n",
      "\n",
      "norm([1. 0. 0.]) = 1.000\n",
      "Av = [6. 0. 0.]\n",
      "𝜆v = [6. 0. 0.]\n",
      "\n",
      "norm([0.707 0.707 0.   ]) = 1.000\n",
      "Av = [6.364 6.364 0.   ]\n",
      "𝜆v = [6.364 6.364 0.   ]\n",
      "\n",
      "norm([-0.062  0.927  0.371]) = 1.000\n",
      "Av = [-0.927 13.901  5.56 ]\n",
      "𝜆v = [-0.927 13.901  5.56 ]\n"
     ]
    }
   ],
   "source": [
    "test_eig(A)"
   ]
  },
  {
   "cell_type": "code",
   "execution_count": 22,
   "metadata": {},
   "outputs": [],
   "source": [
    "# singular always\n",
    "\n",
    "A = np.array([[2,  0],\n",
    "              [0, -1]])\n"
   ]
  },
  {
   "cell_type": "code",
   "execution_count": 23,
   "metadata": {},
   "outputs": [
    {
     "name": "stdout",
     "output_type": "stream",
     "text": [
      "Eigenvalues:\n",
      "[ 2. -1.]\n",
      "\n",
      "Eigenvectors:\n",
      "[[1. 0.]\n",
      " [0. 1.]]\n",
      "\n",
      "norm([1. 0.]) = 1.000\n",
      "Av = [2. 0.]\n",
      "𝜆v = [2. 0.]\n",
      "\n",
      "norm([0. 1.]) = 1.000\n",
      "Av = [ 0. -1.]\n",
      "𝜆v = [-0. -1.]\n"
     ]
    }
   ],
   "source": [
    "test_eig(A)"
   ]
  },
  {
   "cell_type": "code",
   "execution_count": 24,
   "metadata": {},
   "outputs": [],
   "source": [
    "# singular always\n",
    "\n",
    "A = np.array([[1, 0, 0], \n",
    "              [1, 1, 0], \n",
    "              [0, 0, 1]])"
   ]
  },
  {
   "cell_type": "code",
   "execution_count": 25,
   "metadata": {},
   "outputs": [
    {
     "name": "stdout",
     "output_type": "stream",
     "text": [
      "Eigenvalues:\n",
      "[1. 1. 1.]\n",
      "\n",
      "Eigenvectors:\n",
      "[[ 0.  0.  0.]\n",
      " [ 1. -1.  0.]\n",
      " [ 0.  0.  1.]]\n",
      "\n",
      "norm([0. 1. 0.]) = 1.000\n",
      "Av = [0. 1. 0.]\n",
      "𝜆v = [0. 1. 0.]\n",
      "\n",
      "norm([ 0. -1.  0.]) = 1.000\n",
      "Av = [ 0. -1.  0.]\n",
      "𝜆v = [ 0. -1.  0.]\n",
      "\n",
      "norm([0. 0. 1.]) = 1.000\n",
      "Av = [0. 0. 1.]\n",
      "𝜆v = [0. 0. 1.]\n"
     ]
    }
   ],
   "source": [
    "test_eig(A)"
   ]
  },
  {
   "cell_type": "code",
   "execution_count": null,
   "metadata": {},
   "outputs": [],
   "source": []
  }
 ],
 "metadata": {
  "kernelspec": {
   "display_name": "Python 3",
   "language": "python",
   "name": "python3"
  },
  "language_info": {
   "codemirror_mode": {
    "name": "ipython",
    "version": 3
   },
   "file_extension": ".py",
   "mimetype": "text/x-python",
   "name": "python",
   "nbconvert_exporter": "python",
   "pygments_lexer": "ipython3",
   "version": "3.8.8"
  }
 },
 "nbformat": 4,
 "nbformat_minor": 4
}
