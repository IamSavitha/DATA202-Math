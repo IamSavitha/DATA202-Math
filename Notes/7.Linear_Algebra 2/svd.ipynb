{
 "cells": [
  {
   "cell_type": "code",
   "execution_count": 4,
   "id": "145ce855-fb60-4fad-a7f7-1f4e6ba60654",
   "metadata": {},
   "outputs": [
    {
     "name": "stdout",
     "output_type": "stream",
     "text": [
      "[[1 1 1 0 0]\n",
      " [3 3 3 0 0]\n",
      " [4 4 4 0 0]\n",
      " [5 5 5 0 0]\n",
      " [0 2 0 4 4]\n",
      " [0 0 0 5 5]\n",
      " [0 1 0 2 2]]\n"
     ]
    }
   ],
   "source": [
    "import numpy as np\n",
    "import matplotlib.pyplot as plt\n",
    "import scipy.linalg as la\n",
    "from sklearn import preprocessing\n",
    "from scipy.linalg import svd as SVD\n",
    "from  mpl_toolkits.mplot3d import Axes3D\n",
    "\n",
    "A = np.array([\n",
    "    [1, 1, 1, 0, 0],\n",
    "    [3, 3, 3, 0, 0],\n",
    "    [4, 4, 4, 0, 0],\n",
    "    [5, 5, 5, 0, 0],\n",
    "    [0, 2, 0, 4, 4],\n",
    "    [0, 0, 0, 5, 5],\n",
    "    [0, 1, 0, 2, 2]\n",
    "])\n",
    "print(A)"
   ]
  },
  {
   "cell_type": "code",
   "execution_count": 5,
   "id": "6a2c8afb-6821-4c57-8e20-e335d3d25524",
   "metadata": {},
   "outputs": [
    {
     "data": {
      "text/plain": [
       "((7, 7), (5,), (5, 5))"
      ]
     },
     "execution_count": 5,
     "metadata": {},
     "output_type": "execute_result"
    }
   ],
   "source": [
    "U, S, V = SVD(A)\n",
    "U.shape, S.shape, V.shape"
   ]
  },
  {
   "cell_type": "code",
   "execution_count": 7,
   "id": "de4ba50b-4b30-4fcb-83f0-27f708e3ad8c",
   "metadata": {},
   "outputs": [
    {
     "name": "stdout",
     "output_type": "stream",
     "text": [
      "[1.24810147e+01 9.50861406e+00 1.34555971e+00 1.84716760e-16\n",
      " 9.74452038e-33]\n"
     ]
    }
   ],
   "source": [
    "print(S)"
   ]
  },
  {
   "cell_type": "code",
   "execution_count": 13,
   "id": "b874b8b8-4d24-4124-84f1-ad5e6b786b62",
   "metadata": {},
   "outputs": [
    {
     "name": "stdout",
     "output_type": "stream",
     "text": [
      "[[1.24810147e+01 0.00000000e+00 0.00000000e+00 0.00000000e+00\n",
      "  0.00000000e+00]\n",
      " [0.00000000e+00 9.50861406e+00 0.00000000e+00 0.00000000e+00\n",
      "  0.00000000e+00]\n",
      " [0.00000000e+00 0.00000000e+00 1.34555971e+00 0.00000000e+00\n",
      "  0.00000000e+00]\n",
      " [0.00000000e+00 0.00000000e+00 0.00000000e+00 1.84716760e-16\n",
      "  0.00000000e+00]\n",
      " [0.00000000e+00 0.00000000e+00 0.00000000e+00 0.00000000e+00\n",
      "  9.74452038e-33]\n",
      " [0.00000000e+00 0.00000000e+00 0.00000000e+00 0.00000000e+00\n",
      "  0.00000000e+00]\n",
      " [0.00000000e+00 0.00000000e+00 0.00000000e+00 0.00000000e+00\n",
      "  0.00000000e+00]]\n"
     ]
    }
   ],
   "source": [
    "sigma = np.zeros((7, 5))\n",
    "for i in range(5):\n",
    "    sigma[i, i] = S[i]\n",
    "    \n",
    "print(sigma)"
   ]
  },
  {
   "cell_type": "code",
   "execution_count": 14,
   "id": "4c282880-54b2-4400-b3b8-cf2cac570124",
   "metadata": {},
   "outputs": [
    {
     "data": {
      "text/plain": [
       "12.481014693580397"
      ]
     },
     "execution_count": 14,
     "metadata": {},
     "output_type": "execute_result"
    }
   ],
   "source": [
    "S[0]"
   ]
  },
  {
   "cell_type": "code",
   "execution_count": 15,
   "id": "ad40e9b9-57c5-49ef-a411-4fba04d7fda2",
   "metadata": {},
   "outputs": [
    {
     "data": {
      "text/plain": [
       "9.508614056636775"
      ]
     },
     "execution_count": 15,
     "metadata": {},
     "output_type": "execute_result"
    }
   ],
   "source": [
    "S[1]"
   ]
  },
  {
   "cell_type": "code",
   "execution_count": 16,
   "id": "7ebf2244-1cd9-4189-bcdc-bd47ce3dcf6c",
   "metadata": {},
   "outputs": [
    {
     "name": "stdout",
     "output_type": "stream",
     "text": [
      "[[ 1.  1.  1.  0.  0.]\n",
      " [ 3.  3.  3. -0. -0.]\n",
      " [ 4.  4.  4.  0. -0.]\n",
      " [ 5.  5.  5. -0. -0.]\n",
      " [ 0.  2. -0.  4.  4.]\n",
      " [ 0.  0. -0.  5.  5.]\n",
      " [ 0.  1. -0.  2.  2.]]\n"
     ]
    }
   ],
   "source": [
    "AR = U@sigma@V\n",
    "print(np.round(AR))"
   ]
  },
  {
   "cell_type": "code",
   "execution_count": null,
   "id": "75f7d7dd-75d3-481d-a84b-3bb59f3502b4",
   "metadata": {},
   "outputs": [],
   "source": []
  }
 ],
 "metadata": {
  "kernelspec": {
   "display_name": "Python 3",
   "language": "python",
   "name": "python3"
  },
  "language_info": {
   "codemirror_mode": {
    "name": "ipython",
    "version": 3
   },
   "file_extension": ".py",
   "mimetype": "text/x-python",
   "name": "python",
   "nbconvert_exporter": "python",
   "pygments_lexer": "ipython3",
   "version": "3.8.8"
  }
 },
 "nbformat": 4,
 "nbformat_minor": 5
}
