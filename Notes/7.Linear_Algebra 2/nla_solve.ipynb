{
 "cells": [
  {
   "cell_type": "code",
   "execution_count": 4,
   "id": "8686c11a-f267-4b7a-a48f-453694f928f0",
   "metadata": {},
   "outputs": [],
   "source": [
    "import numpy as np\n",
    "import numpy.linalg as nla\n",
    "import scipy.linalg as la\n",
    "import matplotlib.pyplot as plt\n"
   ]
  },
  {
   "cell_type": "code",
   "execution_count": 7,
   "id": "5dc653ea-5269-4257-8691-85a33f5d84ab",
   "metadata": {},
   "outputs": [
    {
     "name": "stdout",
     "output_type": "stream",
     "text": [
      "[-2.9  3.6  1. ]\n"
     ]
    }
   ],
   "source": [
    "A = np.array([[6, 4, 8], [2, 3, 1], [0, 0, 3]])\n",
    "b = np.array([5, 6, 3])\n",
    "x = la.solve(A, b)\n",
    "print(x)"
   ]
  },
  {
   "cell_type": "code",
   "execution_count": 9,
   "id": "e7504f5d-9d1f-4281-9ae0-5428297e7c1a",
   "metadata": {},
   "outputs": [
    {
     "name": "stdout",
     "output_type": "stream",
     "text": [
      "[-2.9  3.6  1. ]\n"
     ]
    }
   ],
   "source": [
    "xx = nla.solve(A, b)\n",
    "print(xx)"
   ]
  },
  {
   "cell_type": "code",
   "execution_count": null,
   "id": "abfaa9b5-acb1-4bba-a3ad-6a0347b69c78",
   "metadata": {},
   "outputs": [],
   "source": []
  }
 ],
 "metadata": {
  "kernelspec": {
   "display_name": "Python 3",
   "language": "python",
   "name": "python3"
  },
  "language_info": {
   "codemirror_mode": {
    "name": "ipython",
    "version": 3
   },
   "file_extension": ".py",
   "mimetype": "text/x-python",
   "name": "python",
   "nbconvert_exporter": "python",
   "pygments_lexer": "ipython3",
   "version": "3.8.8"
  }
 },
 "nbformat": 4,
 "nbformat_minor": 5
}
