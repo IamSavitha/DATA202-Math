{
 "cells": [
  {
   "cell_type": "code",
   "execution_count": 1,
   "metadata": {},
   "outputs": [],
   "source": [
    "import numpy as np\n",
    "\n",
    "xs = [32, 37, 38, 40, 45, 50, 50, 54, 54, 55, \n",
    "      61, 63, 63, 64, 64, 70, 70, 75, 76]\n",
    "ys = [18.3, 18.9, 19.0, 20.9, 21.4, 20.5, 20.1, 20.1, 20.8, 20.5, \n",
    "      19.9, 20.5, 20.6, 22.1, 21.9, 21.2, 20.5, 22.7, 22.8]\n",
    "\n",
    "b = np.array(ys)\n",
    "ones = np.array([1 for _ in range(len(xs))])"
   ]
  },
  {
   "cell_type": "code",
   "execution_count": 2,
   "metadata": {},
   "outputs": [
    {
     "data": {
      "text/plain": [
       "array([[ 1, 32],\n",
       "       [ 1, 37],\n",
       "       [ 1, 38],\n",
       "       [ 1, 40],\n",
       "       [ 1, 45],\n",
       "       [ 1, 50],\n",
       "       [ 1, 50],\n",
       "       [ 1, 54],\n",
       "       [ 1, 54],\n",
       "       [ 1, 55],\n",
       "       [ 1, 61],\n",
       "       [ 1, 63],\n",
       "       [ 1, 63],\n",
       "       [ 1, 64],\n",
       "       [ 1, 64],\n",
       "       [ 1, 70],\n",
       "       [ 1, 70],\n",
       "       [ 1, 75],\n",
       "       [ 1, 76]])"
      ]
     },
     "execution_count": 2,
     "metadata": {},
     "output_type": "execute_result"
    }
   ],
   "source": [
    "A = np.array([ones, np.array(xs)]).T\n",
    "A"
   ]
  },
  {
   "cell_type": "code",
   "execution_count": 3,
   "metadata": {},
   "outputs": [
    {
     "data": {
      "text/plain": [
       "array([[ 1,  1,  1,  1,  1,  1,  1,  1,  1,  1,  1,  1,  1,  1,  1,  1,\n",
       "         1,  1,  1],\n",
       "       [32, 37, 38, 40, 45, 50, 50, 54, 54, 55, 61, 63, 63, 64, 64, 70,\n",
       "        70, 75, 76]])"
      ]
     },
     "execution_count": 3,
     "metadata": {},
     "output_type": "execute_result"
    }
   ],
   "source": [
    "A.T"
   ]
  },
  {
   "cell_type": "code",
   "execution_count": 4,
   "metadata": {},
   "outputs": [
    {
     "data": {
      "text/plain": [
       "array([[   19,  1061],\n",
       "       [ 1061, 62371]])"
      ]
     },
     "execution_count": 4,
     "metadata": {},
     "output_type": "execute_result"
    }
   ],
   "source": [
    "ATA = A.T@A\n",
    "ATA"
   ]
  },
  {
   "cell_type": "code",
   "execution_count": 5,
   "metadata": {},
   "outputs": [
    {
     "data": {
      "text/plain": [
       "array([[ 1.051e+00, -1.788e-02],\n",
       "       [-1.788e-02,  3.203e-04]])"
      ]
     },
     "execution_count": 5,
     "metadata": {},
     "output_type": "execute_result"
    }
   ],
   "source": [
    "from numpy.linalg import inv\n",
    "%precision 3\n",
    "\n",
    "ATAinv = inv(ATA)\n",
    "ATAinv"
   ]
  },
  {
   "cell_type": "code",
   "execution_count": 6,
   "metadata": {},
   "outputs": [
    {
     "data": {
      "text/plain": [
       "array([  392.7, 22145.5])"
      ]
     },
     "execution_count": 6,
     "metadata": {},
     "output_type": "execute_result"
    }
   ],
   "source": [
    "ATb = A.T@b\n",
    "ATb"
   ]
  },
  {
   "cell_type": "code",
   "execution_count": 7,
   "metadata": {},
   "outputs": [
    {
     "data": {
      "text/plain": [
       "array([16.8  ,  0.069])"
      ]
     },
     "execution_count": 7,
     "metadata": {},
     "output_type": "execute_result"
    }
   ],
   "source": [
    "xhat = ATAinv@ATb\n",
    "xhat"
   ]
  },
  {
   "cell_type": "code",
   "execution_count": null,
   "metadata": {},
   "outputs": [],
   "source": []
  }
 ],
 "metadata": {
  "kernelspec": {
   "display_name": "Python 3",
   "language": "python",
   "name": "python3"
  },
  "language_info": {
   "codemirror_mode": {
    "name": "ipython",
    "version": 3
   },
   "file_extension": ".py",
   "mimetype": "text/x-python",
   "name": "python",
   "nbconvert_exporter": "python",
   "pygments_lexer": "ipython3",
   "version": "3.8.8"
  }
 },
 "nbformat": 4,
 "nbformat_minor": 4
}
