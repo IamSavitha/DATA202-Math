{
 "cells": [
  {
   "cell_type": "code",
   "execution_count": 1,
   "metadata": {},
   "outputs": [],
   "source": [
    "x_list  = [4, 7, 4, 0, -3, 4, 7]\n",
    "x_tuple = (4, 7, 4, 0, -3, 4, 7)"
   ]
  },
  {
   "cell_type": "markdown",
   "metadata": {},
   "source": [
    "## Compute sums explicitly"
   ]
  },
  {
   "cell_type": "code",
   "execution_count": 2,
   "metadata": {},
   "outputs": [
    {
     "name": "stdout",
     "output_type": "stream",
     "text": [
      "The total of x_list  = 23\n",
      "The total of x_tuple = 23\n"
     ]
    }
   ],
   "source": [
    "list_total = 0\n",
    "for x in x_list:\n",
    "    list_total += x  # list_total = list_total + x\n",
    "    \n",
    "tuple_total = 0\n",
    "for t in x_tuple:\n",
    "    tuple_total += t\n",
    "    \n",
    "print(f'The total of x_list  = {list_total}')\n",
    "print(f'The total of x_tuple = {tuple_total}')"
   ]
  },
  {
   "cell_type": "markdown",
   "metadata": {},
   "source": [
    "## Built-in sum function"
   ]
  },
  {
   "cell_type": "code",
   "execution_count": 3,
   "metadata": {},
   "outputs": [
    {
     "name": "stdout",
     "output_type": "stream",
     "text": [
      "sum(x_list)  = 23\n",
      "sum(x_tuple) = 23\n"
     ]
    }
   ],
   "source": [
    "sum_list  = sum(x_list)\n",
    "sum_tuple = sum(x_tuple)\n",
    "\n",
    "print(f'sum(x_list)  = {sum_list}')\n",
    "print(f'sum(x_tuple) = {sum_tuple}')"
   ]
  },
  {
   "cell_type": "markdown",
   "metadata": {},
   "source": [
    "## Create a NumPy array"
   ]
  },
  {
   "cell_type": "code",
   "execution_count": 4,
   "metadata": {},
   "outputs": [],
   "source": [
    "import numpy as np\n",
    "x_array = np.array(x_list)"
   ]
  },
  {
   "cell_type": "markdown",
   "metadata": {},
   "source": [
    "## np.sum and np.ndarray.sum functions"
   ]
  },
  {
   "cell_type": "code",
   "execution_count": 5,
   "metadata": {},
   "outputs": [
    {
     "name": "stdout",
     "output_type": "stream",
     "text": [
      "np.sum(x_list)  = 23\n",
      "np.sum(x_tuple) = 23\n",
      "np.sum(x_array) = 23\n",
      "np.ndarray.sum(x_array) = 23\n"
     ]
    }
   ],
   "source": [
    "np_sum_list       = np.sum(x_list)           # operate on a list\n",
    "np_sum_tuple      = np.sum(x_tuple)          # operate on a tuple\n",
    "np_sum_array      = np.sum(x_array)          # operate on an array\n",
    "ndarray_sum_array = np.ndarray.sum(x_array)  # operate on an array only\n",
    "\n",
    "print(f'np.sum(x_list)  = {np_sum_list}')\n",
    "print(f'np.sum(x_tuple) = {np_sum_tuple}')\n",
    "print(f'np.sum(x_array) = {np_sum_array}')\n",
    "print(f'np.ndarray.sum(x_array) = {ndarray_sum_array}')"
   ]
  },
  {
   "cell_type": "markdown",
   "metadata": {},
   "source": [
    "## 2-d array"
   ]
  },
  {
   "cell_type": "code",
   "execution_count": 6,
   "metadata": {},
   "outputs": [
    {
     "name": "stdout",
     "output_type": "stream",
     "text": [
      "np.sum(matrix) [all]          = 21\n",
      "np.sum(matrix, axis=0) [cols] = [ 3 12  6]\n",
      "np.sum(matrix, axis=1) [rows] = [13  8]\n"
     ]
    }
   ],
   "source": [
    "matrix = np.array([[2, 5, 6],\n",
    "                   [1, 7, 0]])\n",
    "\n",
    "sum_of_all  = np.sum(matrix)\n",
    "sum_of_cols = np.sum(matrix, axis=0)  # column axis\n",
    "sum_of_rows = np.sum(matrix, axis=1)  # row axis\n",
    "\n",
    "print(f'np.sum(matrix) [all]          = {sum_of_all}')\n",
    "print(f'np.sum(matrix, axis=0) [cols] = {sum_of_cols}')\n",
    "print(f'np.sum(matrix, axis=1) [rows] = {sum_of_rows}')"
   ]
  },
  {
   "cell_type": "code",
   "execution_count": null,
   "metadata": {},
   "outputs": [],
   "source": []
  }
 ],
 "metadata": {
  "kernelspec": {
   "display_name": "Python 3",
   "language": "python",
   "name": "python3"
  },
  "language_info": {
   "codemirror_mode": {
    "name": "ipython",
    "version": 3
   },
   "file_extension": ".py",
   "mimetype": "text/x-python",
   "name": "python",
   "nbconvert_exporter": "python",
   "pygments_lexer": "ipython3",
   "version": "3.8.8"
  }
 },
 "nbformat": 4,
 "nbformat_minor": 4
}
