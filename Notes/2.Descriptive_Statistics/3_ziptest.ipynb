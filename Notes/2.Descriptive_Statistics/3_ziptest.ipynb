{
 "cells": [
  {
   "cell_type": "code",
   "execution_count": 1,
   "metadata": {},
   "outputs": [
    {
     "name": "stdout",
     "output_type": "stream",
     "text": [
      "names = ['Bob', 'Cindy', 'Ron']\n",
      " ages = [15, 12, 5]\n"
     ]
    }
   ],
   "source": [
    "names = ['Bob', 'Cindy', 'Ron']\n",
    "ages  = [15, 12, 5]\n",
    "\n",
    "print(f'names = {names}')\n",
    "print(f' ages = {ages}')"
   ]
  },
  {
   "cell_type": "code",
   "execution_count": 2,
   "metadata": {},
   "outputs": [
    {
     "data": {
      "text/plain": [
       "<zip at 0x20bc45a8a00>"
      ]
     },
     "execution_count": 2,
     "metadata": {},
     "output_type": "execute_result"
    }
   ],
   "source": [
    "zip(names, ages)"
   ]
  },
  {
   "cell_type": "code",
   "execution_count": 3,
   "metadata": {},
   "outputs": [
    {
     "data": {
      "text/plain": [
       "[('Bob', 15), ('Cindy', 12), ('Ron', 5)]"
      ]
     },
     "execution_count": 3,
     "metadata": {},
     "output_type": "execute_result"
    }
   ],
   "source": [
    "list(zip(names, ages))"
   ]
  },
  {
   "cell_type": "code",
   "execution_count": 4,
   "metadata": {},
   "outputs": [
    {
     "name": "stdout",
     "output_type": "stream",
     "text": [
      "pair = ('Bob', 15)\n",
      "pair = ('Cindy', 12)\n",
      "pair = ('Ron', 5)\n"
     ]
    }
   ],
   "source": [
    "for pair in list(zip(names, ages)):\n",
    "    print(f'pair = {pair}')"
   ]
  },
  {
   "cell_type": "code",
   "execution_count": 5,
   "metadata": {},
   "outputs": [
    {
     "name": "stdout",
     "output_type": "stream",
     "text": [
      "pair = ('Bob', 15)\n",
      "pair = ('Cindy', 12)\n",
      "pair = ('Ron', 5)\n"
     ]
    }
   ],
   "source": [
    "for pair in zip(names, ages):\n",
    "    print(f'pair = {pair}')"
   ]
  },
  {
   "cell_type": "code",
   "execution_count": 6,
   "metadata": {},
   "outputs": [
    {
     "name": "stdout",
     "output_type": "stream",
     "text": [
      "Bob is 15 years old.\n",
      "Cindy is 12 years old.\n",
      "Ron is 5 years old.\n"
     ]
    }
   ],
   "source": [
    "#Unpack each tuple.\n",
    "for name, age in zip(names, ages):\n",
    "    print(f'{name} is {age} years old.')"
   ]
  },
  {
   "cell_type": "code",
   "execution_count": null,
   "metadata": {},
   "outputs": [],
   "source": []
  }
 ],
 "metadata": {
  "kernelspec": {
   "display_name": "Python 3",
   "language": "python",
   "name": "python3"
  },
  "language_info": {
   "codemirror_mode": {
    "name": "ipython",
    "version": 3
   },
   "file_extension": ".py",
   "mimetype": "text/x-python",
   "name": "python",
   "nbconvert_exporter": "python",
   "pygments_lexer": "ipython3",
   "version": "3.8.8"
  }
 },
 "nbformat": 4,
 "nbformat_minor": 4
}
