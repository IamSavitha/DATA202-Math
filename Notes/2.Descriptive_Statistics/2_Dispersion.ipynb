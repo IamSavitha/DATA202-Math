{
 "cells": [
  {
   "cell_type": "markdown",
   "metadata": {},
   "source": [
    "# 2. Dispersion\n",
    "\n",
    "# Range\n",
    "\n",
    "## Definition of Range\n",
    "\n",
    "Range is the simplest measure of dispersion in statistics. It is defined as the difference between the highest and lowest values in a dataset. The range gives an idea of the spread or variability of the data, but it is sensitive to outliers and does not give information about the spread of the rest of the data.\n",
    "\n",
    "## Example of Calculating Range\n",
    "\n",
    "Consider the dataset: `5, 7, 10, 15, 18, 21, 24`.\n",
    "\n",
    "The range can be calculated as follows:\n",
    "\n",
    "1. Identify the highest value in the dataset.\n",
    "2. Identify the lowest value in the dataset.\n",
    "3. Subtract the lowest value from the highest value.\n",
    "\n",
    "## Python Code for Calculating Range\n",
    "\n",
    "We will use Python to calculate the range of the given dataset."
   ]
  },
  {
   "cell_type": "code",
   "execution_count": 2,
   "metadata": {},
   "outputs": [
    {
     "name": "stdout",
     "output_type": "stream",
     "text": [
      "Range of the dataset: 19\n"
     ]
    }
   ],
   "source": [
    "# Import necessary library\n",
    "import numpy as np\n",
    "\n",
    "# Given data\n",
    "data = [5, 7, 10, 15, 18, 21, 24]\n",
    "\n",
    "# Calculating the range\n",
    "data_range = np.ptp(data)\n",
    "\n",
    "# Displaying the result\n",
    "print('Range of the dataset:', data_range)"
   ]
  },
  {
   "cell_type": "markdown",
   "metadata": {},
   "source": [
    "## Function to compute the range of a list of values"
   ]
  },
  {
   "cell_type": "code",
   "execution_count": null,
   "metadata": {},
   "outputs": [],
   "source": [
    "def my_list_range(values):\n",
    "    \"\"\"\n",
    "    Compute the range of a list of values.\n",
    "    @param values the list of values.\n",
    "    @return the range\n",
    "    \"\"\"\n",
    "    \n",
    "    return max(values) - min(values)"
   ]
  },
  {
   "cell_type": "code",
   "execution_count": null,
   "metadata": {},
   "outputs": [],
   "source": [
    "import random\n",
    "x_list  = [int(random.uniform(0, 25)) for _ in range(0, 100)]\n",
    "x_range = my_list_range(x_list)\n",
    "\n",
    "print(f'min(x_list)           = {min(x_list)}')\n",
    "print(f'max(x_list)           = {max(x_list)}')\n",
    "print(f'my_list_range(x_list) = {x_range}')"
   ]
  },
  {
   "cell_type": "markdown",
   "metadata": {},
   "source": [
    "## Function to compute the range of a list or an array of values"
   ]
  },
  {
   "cell_type": "code",
   "execution_count": null,
   "metadata": {},
   "outputs": [],
   "source": [
    "import numpy as np\n",
    "\n",
    "def my_array_range(values):\n",
    "    \"\"\"\n",
    "    Compute the range of a list or array of values.\n",
    "    @param values the list or array of values.\n",
    "    @return the range\n",
    "    \"\"\"\n",
    "\n",
    "    return np.amax(values) - np.amin(values)"
   ]
  },
  {
   "cell_type": "code",
   "execution_count": null,
   "metadata": {},
   "outputs": [],
   "source": [
    "np_list_range = my_array_range(x_list)\n",
    "\n",
    "print(f'np.amin(x_list)        = {np.amin(x_list)}')\n",
    "print(f'np.amax(x_list)        = {np.amax(x_list)}')\n",
    "print(f'my_array_range(x_list) = {np_list_range}')"
   ]
  },
  {
   "cell_type": "code",
   "execution_count": null,
   "metadata": {},
   "outputs": [],
   "source": [
    "x_array = np.array(x_list)\n",
    "np_array_range = my_array_range(x_array)\n",
    "\n",
    "print(f'np.amin(x_array)        = {np.amin(x_array)}')\n",
    "print(f'np.amax(x_array)        = {np.amax(x_array)}')\n",
    "print(f'my_array_range(x_array) = {np_array_range}')"
   ]
  },
  {
   "cell_type": "markdown",
   "metadata": {},
   "source": [
    "## 2-d array"
   ]
  },
  {
   "cell_type": "code",
   "execution_count": 3,
   "metadata": {},
   "outputs": [
    {
     "name": "stdout",
     "output_type": "stream",
     "text": [
      "np.amin(matrix [all]           = 0\n",
      "np.amin(matrix, axis=0) [cols] = [1 1 0 3]\n",
      "np.amax(matrix, axis=1) [rows] = [6 7 6]\n"
     ]
    }
   ],
   "source": [
    "matrix = np.array([[2, 5, 6, 3],\n",
    "                   [1, 7, 0, 4],\n",
    "                   [3, 1, 2, 6]])\n",
    "\n",
    "min_of_all  = np.amin(matrix)\n",
    "min_of_cols = np.amin(matrix, axis=0)\n",
    "max_of_rows = np.amax(matrix, axis=1)\n",
    "\n",
    "print(f'np.amin(matrix) [all]           = {min_of_all}')\n",
    "print(f'np.amin(matrix, axis=0) [cols] = {min_of_cols}')\n",
    "print(f'np.amax(matrix, axis=1) [rows] = {max_of_rows}')"
   ]
  },
  {
   "cell_type": "code",
   "execution_count": 10,
   "metadata": {},
   "outputs": [
    {
     "name": "stdout",
     "output_type": "stream",
     "text": [
      "np.ptp(matrix)         [all]     = 7\n",
      "np.ptp(matrix, axis=0) [cols]    = [2 6 6 3]\n",
      "np.ptp(matrix, axis=1) [rows]    = [4 7 5]\n"
     ]
    }
   ],
   "source": [
    "rng_of_all = np.ptp(matrix)\n",
    "rng_of_cols = np.ptp(matrix, axis=0)\n",
    "rng_of_rows = np.ptp(matrix, axis=1)\n",
    "\n",
    "print(f'np.ptp(matrix)         [all]     = {rng_of_all}')\n",
    "print(f'np.ptp(matrix, axis=0) [cols]    = {rng_of_cols}')\n",
    "print(f'np.ptp(matrix, axis=1) [rows]    = {rng_of_rows}')"
   ]
  },
  {
   "cell_type": "markdown",
   "metadata": {},
   "source": [
    "## Function to test quartiles"
   ]
  },
  {
   "cell_type": "code",
   "execution_count": 17,
   "metadata": {},
   "outputs": [],
   "source": [
    "def count_of_less(values, q):\n",
    "    \"\"\" \n",
    "    Return the count of values less than quartile value q.\n",
    "    @param values the list of values.\n",
    "    @param q the quartile value.\n",
    "    @return the count.\n",
    "    \"\"\"\n",
    "    \n",
    "    count = 0;\n",
    "    \n",
    "    for v in values:\n",
    "        if (v < q):\n",
    "            count += 1\n",
    "            \n",
    "    return count"
   ]
  },
  {
   "cell_type": "markdown",
   "metadata": {},
   "source": [
    "## Some random values"
   ]
  },
  {
   "cell_type": "code",
   "execution_count": 15,
   "metadata": {},
   "outputs": [
    {
     "name": "stdout",
     "output_type": "stream",
     "text": [
      "100 data values\n"
     ]
    }
   ],
   "source": [
    "import random\n",
    "'''\n",
    "1) random.uniform(0, 1000): This function from the random module \n",
    "returns a random floating-point number between the two specified arguments, \n",
    "here between 0 and 1000. However, this floating-point number is immediately \n",
    "converted to an integer in the next step.\n",
    "\n",
    "2) int(...): The int function converts its argument into an integer. In this \n",
    "context, it converts the floating-point number generated by random.uniform(0, 1000)\n",
    "into an integer by truncating (dropping) any decimal part.\n",
    "\n",
    "3)[... for _ in range(0, 100)]: This is a list comprehension, a compact way to \n",
    "generate lists based on some condition or operation. range(0, 100) generates \n",
    "numbers from 0 to 99, and for each number, the expression at the beginning of \n",
    "the list comprehension (int(random.uniform(0, 1000))) is executed. \n",
    "The underscore _ is used as a conventional placeholder for a value that is not \n",
    "used, indicating that the loop iterates 100 times but does not explicitly use \n",
    "the loop variable.\n",
    "\n",
    "As a result, x_list becomes a list containing 100 random integers ranging \n",
    "from 0 to less than 1000.\n",
    "'''\n",
    "x_list  = [int(random.uniform(0, 1000)) for _ in range(0, 100)]\n",
    "count = len(x_list)\n",
    "\n",
    "print(f'{count} data values')"
   ]
  },
  {
   "cell_type": "markdown",
   "metadata": {},
   "source": [
    "## First quartile"
   ]
  },
  {
   "cell_type": "code",
   "execution_count": 18,
   "metadata": {},
   "outputs": [
    {
     "name": "stdout",
     "output_type": "stream",
     "text": [
      "Q1 = np.percentile(x_list, 25) = 172.00\n",
      "count of values less than Q1: 25\n"
     ]
    }
   ],
   "source": [
    "import numpy as np\n",
    "\n",
    "q1 = np.percentile(x_list, 25)\n",
    "print(f'Q1 = np.percentile(x_list, 25) = {q1:.2f}')\n",
    "\n",
    "q1_under = count_of_less(x_list, q1)\n",
    "print(f'count of values less than Q1: {q1_under}')"
   ]
  },
  {
   "cell_type": "markdown",
   "metadata": {},
   "source": [
    "## Second quartile"
   ]
  },
  {
   "cell_type": "code",
   "execution_count": 19,
   "metadata": {},
   "outputs": [
    {
     "name": "stdout",
     "output_type": "stream",
     "text": [
      "Q2 = np.percentile(x_list, 50) = 402.00\n",
      "np.median(x_list) = 402.0\n",
      "count of values less than Q2: 50\n"
     ]
    }
   ],
   "source": [
    "q2 = np.percentile(x_list, 50)\n",
    "print(f'Q2 = np.percentile(x_list, 50) = {q2:.2f}')\n",
    "\n",
    "list_median = np.median(x_list)\n",
    "print(f'np.median(x_list) = {list_median}')\n",
    "\n",
    "q2_under = count_of_less(x_list, q2)\n",
    "print(f'count of values less than Q2: {q2_under}')\n",
    "\n",
    "list_median = np.median(x_list)"
   ]
  },
  {
   "cell_type": "markdown",
   "metadata": {},
   "source": [
    "## Third quartile"
   ]
  },
  {
   "cell_type": "code",
   "execution_count": 20,
   "metadata": {},
   "outputs": [
    {
     "name": "stdout",
     "output_type": "stream",
     "text": [
      "Q3 = np.percentile(x_list, 75) = 742.75\n",
      "count of values less than Q3: 75\n"
     ]
    }
   ],
   "source": [
    "q3 = np.percentile(x_list, 75)\n",
    "print(f'Q3 = np.percentile(x_list, 75) = {q3:.2f}')\n",
    "\n",
    "q3_under = count_of_less(x_list, q3)\n",
    "print(f'count of values less than Q3: {q3_under}')"
   ]
  },
  {
   "cell_type": "markdown",
   "metadata": {},
   "source": [
    "# Interquartile Range (IQR)\n",
    "\n",
    "## Definition of IQR\n",
    "\n",
    "The Interquartile Range (IQR) is a measure of statistical dispersion and is calculated as the difference between the 75th percentile (Q3) and the 25th percentile (Q1) of the data. It represents the range within which the central 50% of data lies and is less sensitive to outliers than the range.\n",
    "\n",
    "## Example of Calculating IQR\n",
    "\n",
    "Consider the dataset: `4, 7, 8, 5, 12, 14, 21, 13, 18`.\n",
    "\n",
    "To calculate the IQR:\n",
    "\n",
    "1. Sort the data.\n",
    "2. Find the first quartile (Q1), which is the median of the first half of the data.\n",
    "3. Find the third quartile (Q3), which is the median of the second half of the data.\n",
    "4. Subtract Q1 from Q3.\n",
    "\n",
    "## Python Code for Calculating IQR\n",
    "\n",
    "We will use Python to calculate the IQR of the given dataset."
   ]
  },
  {
   "cell_type": "code",
   "execution_count": 21,
   "metadata": {},
   "outputs": [
    {
     "name": "stdout",
     "output_type": "stream",
     "text": [
      "IQR of the dataset: 7.0\n"
     ]
    }
   ],
   "source": [
    "# Import necessary libraries\n",
    "import numpy as np\n",
    "\n",
    "# Given data\n",
    "data = [4, 7, 8, 5, 12, 14, 21, 13, 18]\n",
    "\n",
    "# Calculating the first quartile (Q1) and third quartile (Q3)\n",
    "Q1 = np.percentile(data, 25)\n",
    "Q3 = np.percentile(data, 75)\n",
    "\n",
    "# Calculating the IQR\n",
    "IQR = Q3 - Q1\n",
    "\n",
    "# Displaying the result\n",
    "print('IQR of the dataset:', IQR)"
   ]
  },
  {
   "cell_type": "code",
   "execution_count": 23,
   "metadata": {},
   "outputs": [
    {
     "name": "stdout",
     "output_type": "stream",
     "text": [
      "100 data values\n"
     ]
    }
   ],
   "source": [
    "import numpy as np\n",
    "import random\n",
    "\n",
    "x_list  = [int(random.uniform(0, 1000)) for _ in range(0, 100)]\n",
    "count = len(x_list)\n",
    "\n",
    "print(f'{count} data values')"
   ]
  },
  {
   "cell_type": "code",
   "execution_count": 24,
   "metadata": {},
   "outputs": [
    {
     "name": "stdout",
     "output_type": "stream",
     "text": [
      "q3 = 707.75\n",
      "q1 = 271.0\n",
      "q3 - q1 = 436.75\n"
     ]
    }
   ],
   "source": [
    "q3 = np.percentile(x_list, 75)\n",
    "q1 = np.percentile(x_list, 25)\n",
    "\n",
    "print(f'q3 = {q3}')\n",
    "print(f'q1 = {q1}')\n",
    "print(f'q3 - q1 = {q3 - q1}')"
   ]
  },
  {
   "cell_type": "markdown",
   "metadata": {},
   "source": [
    "## stats.iqr function"
   ]
  },
  {
   "cell_type": "code",
   "execution_count": 25,
   "metadata": {},
   "outputs": [
    {
     "name": "stdout",
     "output_type": "stream",
     "text": [
      "stats.iqr(x_list) = 436.75\n"
     ]
    }
   ],
   "source": [
    "from scipy import stats\n",
    "\n",
    "stats_iqr = stats.iqr(x_list)\n",
    "print(f'stats.iqr(x_list) = {stats_iqr}')"
   ]
  },
  {
   "cell_type": "markdown",
   "metadata": {},
   "source": [
    "## 2-d array"
   ]
  },
  {
   "cell_type": "code",
   "execution_count": 26,
   "metadata": {},
   "outputs": [
    {
     "data": {
      "text/plain": [
       "array([[ 0,  6,  6, 23, 11,  4, 17,  3, 18, 13],\n",
       "       [ 0,  1, 14, 11,  3, 10, 14,  2, 15, 22],\n",
       "       [24,  3, 20,  6,  9,  2,  1, 22, 22, 12],\n",
       "       [ 7, 19, 10, 16,  0,  4, 21, 24,  1, 19],\n",
       "       [10, 16, 14,  7,  1,  0,  2, 12,  7,  8],\n",
       "       [18,  6, 18, 13, 18,  7, 15, 11, 14, 18],\n",
       "       [15, 22,  4,  3,  4,  0, 24, 23,  9,  9],\n",
       "       [15, 10, 21, 10, 21,  7,  6,  8, 14, 10]])"
      ]
     },
     "execution_count": 26,
     "metadata": {},
     "output_type": "execute_result"
    }
   ],
   "source": [
    "# 8 x 10 matrix\n",
    "matrix = np.array([[int(random.uniform(0, 25)) for _ in range(0, 10)]  # each row of 10\n",
    "                   for _ in range(0, 8)])                              # 8 rows\n",
    "\n",
    "matrix"
   ]
  },
  {
   "cell_type": "code",
   "execution_count": 27,
   "metadata": {},
   "outputs": [
    {
     "name": "stdout",
     "output_type": "stream",
     "text": [
      "stats.iqr(matrix [all]           = 11.75\n",
      "stats.iqr(matrix, axis=0) [cols] = [10.5  11.5   9.5   7.   10.25  5.5  13.   15.5   7.25  8.5 ]\n",
      "stats.iqr(matrix, axis=1) [rows] = [11.5  11.75 17.75 14.25  8.25  6.5  16.25  6.25]\n"
     ]
    }
   ],
   "source": [
    "iqr_of_all  = stats.iqr(matrix)\n",
    "iqr_of_cols = stats.iqr(matrix, axis=0)\n",
    "iqr_of_rows = stats.iqr(matrix, axis=1)\n",
    "\n",
    "print(f'stats.iqr(matrix [all]           = {iqr_of_all}')\n",
    "print(f'stats.iqr(matrix, axis=0) [cols] = {iqr_of_cols}')\n",
    "print(f'stats.iqr(matrix, axis=1) [rows] = {iqr_of_rows}')"
   ]
  },
  {
   "cell_type": "markdown",
   "metadata": {},
   "source": [
    "# Variance and Standard Deviation\n",
    "\n",
    "## Variance\n",
    "\n",
    "Variance is a measure of the spread of numbers in a dataset. It calculates the average of the **squared** differences from the Mean.\n",
    "\n",
    "### Formula for Variance\n",
    "The formula for variance (σ²) is:\n",
    "\n",
    "σ² = Σ (xi - μ)² / N\n",
    "\n",
    "where:\n",
    "- xi is each value in the dataset\n",
    "- μ is the mean of the dataset\n",
    "- N is the number of values in the dataset\n",
    "\n",
    "\n",
    "\n",
    "## Standard Deviation\n",
    "\n",
    "Standard Deviation is the square root of the variance. It is a measure of the amount of variation or dispersion in a set of values.\n",
    "\n",
    "### Formula for Standard Deviation\n",
    "The formula for standard deviation (σ) is simply the square root of the variance:\n",
    "\n",
    "σ = √σ²\n"
   ]
  },
  {
   "cell_type": "code",
   "execution_count": 1,
   "metadata": {},
   "outputs": [
    {
     "name": "stdout",
     "output_type": "stream",
     "text": [
      "Mean of the dataset: 11.333333333333334\n",
      "Variance of the dataset: 30.22222222222222\n",
      "Standard Deviation of the dataset: 5.497474167490214\n"
     ]
    }
   ],
   "source": [
    "# Import necessary library\n",
    "import numpy as np\n",
    "\n",
    "# Given data\n",
    "data = [4, 7, 8, 5, 12, 14, 21, 13, 18]\n",
    "\n",
    "# Calculating the mean\n",
    "mean = np.mean(data)\n",
    "\n",
    "# Calculating the variance\n",
    "variance = np.var(data)\n",
    "\n",
    "# Calculating the standard deviation\n",
    "std_deviation = np.sqrt(variance)\n",
    "\n",
    "# Displaying the results\n",
    "print('Mean of the dataset:', mean)\n",
    "print('Variance of the dataset:', variance)\n",
    "print('Standard Deviation of the dataset:', std_deviation)"
   ]
  },
  {
   "cell_type": "markdown",
   "metadata": {},
   "source": [
    "## Compute the variance and standard deviation from their definitions"
   ]
  },
  {
   "cell_type": "code",
   "execution_count": 3,
   "metadata": {},
   "outputs": [],
   "source": [
    "import statistics\n",
    "import math\n",
    "\n",
    "def stats_of_list(values):\n",
    "    \"\"\"\n",
    "    Compute and return a tuple of the mean, population variance, \n",
    "    and population standarard deviation of a list of values.\n",
    "    @param values the list of values.\n",
    "    @return a tuple of the mean, variance, and standard deviation.\n",
    "    \"\"\"\n",
    "    \n",
    "    sum_of_squares = 0\n",
    "    mean = statistics.mean(values)\n",
    "    \n",
    "    for x in values:\n",
    "        diff = x - mean\n",
    "        sum_of_squares += diff*diff\n",
    "       \n",
    "    variance = sum_of_squares/len(values)\n",
    "    stdev = math.sqrt(variance)\n",
    "    \n",
    "    return (mean, variance, stdev)"
   ]
  },
  {
   "cell_type": "markdown",
   "metadata": {},
   "source": [
    "## Test with a sequence of normally distributed random values."
   ]
  },
  {
   "cell_type": "code",
   "execution_count": 5,
   "metadata": {},
   "outputs": [],
   "source": [
    "import random\n",
    "\n",
    "mu    = 50\n",
    "sigma = mu/2\n",
    "count = 1_000_000\n",
    "\n",
    "x_list = [random.gauss(mu, sigma) for _ in range(0, count)]"
   ]
  },
  {
   "cell_type": "code",
   "execution_count": 6,
   "metadata": {},
   "outputs": [
    {
     "name": "stdout",
     "output_type": "stream",
     "text": [
      "              mean = 49.98\n",
      "          variance = 624.28\n",
      "standard deviation = 24.99\n"
     ]
    }
   ],
   "source": [
    "x_mean, x_variance, x_stdev = stats_of_list(x_list)\n",
    "\n",
    "print(f'              mean = {x_mean:.2f}')\n",
    "print(f'          variance = {x_variance:.2f}')\n",
    "print(f'standard deviation = {x_stdev:.2f}')"
   ]
  },
  {
   "cell_type": "markdown",
   "metadata": {},
   "source": [
    "## statistics.pvariance and statistics.pstdev functions"
   ]
  },
  {
   "cell_type": "code",
   "execution_count": 7,
   "metadata": {},
   "outputs": [
    {
     "name": "stdout",
     "output_type": "stream",
     "text": [
      "statistics.pvariance(x_list) = 624.28\n",
      "statistics.pstdev(x_list)    = 24.99\n"
     ]
    }
   ],
   "source": [
    "print(f'statistics.pvariance(x_list) = {statistics.pvariance(x_list):.2f}')\n",
    "print(f'statistics.pstdev(x_list)    = {statistics.pstdev(x_list):.2f}')"
   ]
  },
  {
   "cell_type": "markdown",
   "metadata": {},
   "source": [
    "## Test the standard deviation"
   ]
  },
  {
   "cell_type": "code",
   "execution_count": 8,
   "metadata": {},
   "outputs": [],
   "source": [
    "def test_stdev(values, mean, stdev):\n",
    "    \"\"\"\n",
    "    Test the standard deviation by computing the percentage\n",
    "    of values within one standard deviation of the mean.\n",
    "    @param values the list of values.\n",
    "    @param mean the mean of the values.\n",
    "    @param stdev the standard deviation of the values.\n",
    "    @return the percentage of values.\n",
    "    \"\"\"\n",
    "    \n",
    "    total_count = len(values)\n",
    "    range_count = 0;\n",
    "    \n",
    "    lo_range = mean - stdev\n",
    "    hi_range = mean + stdev\n",
    "    \n",
    "    for x in values:\n",
    "        if (x > lo_range) and (x < hi_range):\n",
    "            range_count += 1\n",
    "            \n",
    "    return 100*range_count/total_count"
   ]
  },
  {
   "cell_type": "code",
   "execution_count": 9,
   "metadata": {},
   "outputs": [
    {
     "name": "stdout",
     "output_type": "stream",
     "text": [
      "Percentage of values within one standard deviation of the mean: 68.27%\n"
     ]
    }
   ],
   "source": [
    "pct = test_stdev(x_list, x_mean, x_stdev)\n",
    "print(f'Percentage of values within one standard deviation of the mean: {pct:.2f}%')"
   ]
  },
  {
   "cell_type": "markdown",
   "metadata": {},
   "source": [
    "# Coefficient of Variation\n",
    "\n",
    "## Definition of Coefficient of Variation\n",
    "\n",
    "The Coefficient of Variation (CV) is a statistical measure of the relative variability of data. It is the **ratio of the standard deviation to the mean** and is often expressed as a percentage. The CV is useful for comparing the degree of variation between datasets with different units or means.\n",
    "\n",
    "### Formula for Coefficient of Variation\n",
    "CV = (Standard Deviation / Mean) × 100%"
   ]
  },
  {
   "cell_type": "code",
   "execution_count": 28,
   "metadata": {},
   "outputs": [
    {
     "name": "stdout",
     "output_type": "stream",
     "text": [
      "Coefficient of Variation: 48.507125007266595\n"
     ]
    }
   ],
   "source": [
    "# Import necessary library\n",
    "import numpy as np\n",
    "\n",
    "# Given data\n",
    "data = [4, 7, 8, 5, 12, 14, 21, 13, 18]\n",
    "\n",
    "# Calculating the mean and standard deviation\n",
    "mean = np.mean(data)\n",
    "std_dev = np.std(data)\n",
    "\n",
    "# Calculating the Coefficient of Variation\n",
    "cv = (std_dev / mean) * 100\n",
    "\n",
    "# Displaying the result\n",
    "print('Coefficient of Variation:', cv)"
   ]
  },
  {
   "cell_type": "markdown",
   "metadata": {},
   "source": [
    "## Box plot\n",
    "Box plots are useful for visually representing data distribution, including the median, quartiles, and outliers. They provide a quick and easy way to understand the distribution, central tendency, and variation of data.\n",
    "\n",
    "**Median:** The line in the middle of the box represents the median value of the data.\n",
    "\n",
    "**Quartiles:**\n",
    "The bottom of the box indicates the first quartile (Q1, 25th percentile).\n",
    "The top of the box indicates the third quartile (Q3, 75th percentile).\n",
    "The length of the box, known as the Interquartile Range (IQR), represents the middle 50% of the data.\n",
    "\n",
    "**Whiskers:**\n",
    "The lines extending from the top and bottom of the box (whiskers) typically represent the range (min, max) within 1.5 * IQR from the Q1 and Q3.\n",
    "\n",
    "**Outliers:**\n",
    "Points outside the whiskers are considered outliers, representing values that deviate significantly from the rest of the data."
   ]
  },
  {
   "cell_type": "code",
   "execution_count": 11,
   "metadata": {},
   "outputs": [
    {
     "data": {
      "image/png": "[encoded data removed]",
      "text/plain": [
       "<Figure size 432x288 with 1 Axes>"
      ]
     },
     "metadata": {
      "needs_background": "light"
     },
     "output_type": "display_data"
    }
   ],
   "source": [
    "import matplotlib.pyplot as plt\n",
    "import numpy as np\n",
    "\n",
    "# Generating random data\n",
    "data = np.random.rand(100) * 100\n",
    "\n",
    "# Adding some outliers manually\n",
    "data = np.append(data, [150, 250])\n",
    "\n",
    "# Creating a box plot \n",
    "plt.boxplot(data)\n",
    "\n",
    "# Displaying the plot\n",
    "plt.show()\n"
   ]
  },
  {
   "cell_type": "code",
   "execution_count": null,
   "metadata": {},
   "outputs": [],
   "source": []
  }
 ],
 "metadata": {
  "kernelspec": {
   "display_name": "Python 3",
   "language": "python",
   "name": "python3"
  },
  "language_info": {
   "codemirror_mode": {
    "name": "ipython",
    "version": 3
   },
   "file_extension": ".py",
   "mimetype": "text/x-python",
   "name": "python",
   "nbconvert_exporter": "python",
   "pygments_lexer": "ipython3",
   "version": "3.8.8"
  }
 },
 "nbformat": 4,
 "nbformat_minor": 4
}
