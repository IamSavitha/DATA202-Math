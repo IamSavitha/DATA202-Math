{
 "cells": [
  {
   "cell_type": "markdown",
   "id": "529be6a1",
   "metadata": {},
   "source": [
    "# 1. Central Tendency\n",
    "\n",
    "# Mean, Median, Mode\n",
    "\n",
    "This notebook provides explanations and examples of three fundamental statistical measures: mean, median, and mode.\n"
   ]
  },
  {
   "cell_type": "markdown",
   "id": "25bbae0b",
   "metadata": {},
   "source": [
    "\n",
    "## Mean (Average)\n",
    "\n",
    "The mean, commonly referred to as the average, is calculated by summing all the numbers in a dataset and then dividing by the count of those numbers. It is a measure of the central tendency of the data.\n",
    "\n",
    "### Formula:\n",
    "$\t\\text{Mean} = \\frac{\\sum_{i=1}^{n} x_i}{n} $\n",
    "\n",
    "where $ x_i $ represents each number in the dataset, and $ n $ is the number of data points.\n",
    "\n",
    "### Example:\n",
    "Let's calculate the mean of the following dataset: 10, 20, 30, 40, 50\n"
   ]
  },
  {
   "cell_type": "code",
   "execution_count": null,
   "id": "e468796e",
   "metadata": {},
   "outputs": [],
   "source": [
    "\n",
    "# Example code to calculate the mean\n",
    "dataset = [10, 20, 30, 40, 50]\n",
    "mean = sum(dataset) / len(dataset)\n",
    "mean\n"
   ]
  },
  {
   "cell_type": "code",
   "execution_count": 2,
   "id": "5fec7d51-3d59-4650-9d14-c75f60689ddb",
   "metadata": {
    "tags": []
   },
   "outputs": [],
   "source": [
    "x_list  = [4, 7, 4, 0, -3, 4, 7]\n",
    "x_tuple = (4, 7, 4, 0, -3, 4, 7)"
   ]
  },
  {
   "cell_type": "markdown",
   "id": "9f032d82-9091-4e3e-9087-44ef204d1406",
   "metadata": {},
   "source": [
    "## Compute means explictly from the definition"
   ]
  },
  {
   "cell_type": "code",
   "execution_count": 3,
   "id": "ac58acbf-6d69-4851-8b1e-16390bdac0bb",
   "metadata": {},
   "outputs": [
    {
     "name": "stdout",
     "output_type": "stream",
     "text": [
      "The average of x_list  = 3.29\n",
      "The average of x_tuple = 3.29\n"
     ]
    }
   ],
   "source": [
    "list_total = 0\n",
    "for x in x_list:\n",
    "    list_total += x\n",
    "    \n",
    "tuple_total = 0\n",
    "for t in x_tuple:\n",
    "    tuple_total += t\n",
    "    \n",
    "list_average  = list_total/len(x_list)\n",
    "tuple_average = tuple_total/len(x_tuple)\n",
    "  \n",
    "print(f'The average of x_list  = {list_average:.2f}')\n",
    "print(f'The average of x_tuple = {tuple_average:.2f}')"
   ]
  },
  {
   "cell_type": "markdown",
   "id": "4309cbad-276a-4e33-b18d-5cbc27518d76",
   "metadata": {},
   "source": [
    "## statistics.mean function"
   ]
  },
  {
   "cell_type": "code",
   "execution_count": 4,
   "id": "ae0907ca-9043-4880-a771-2b956011f90f",
   "metadata": {},
   "outputs": [
    {
     "name": "stdout",
     "output_type": "stream",
     "text": [
      "statistics.mean(x_list)  = 3.29\n",
      "statistics.mean(x_tuple) = 3.29\n"
     ]
    }
   ],
   "source": [
    "import statistics\n",
    "\n",
    "mean_list  = statistics.mean(x_list)\n",
    "mean_tuple = statistics.mean(x_tuple)\n",
    "\n",
    "print(f'statistics.mean(x_list)  = {mean_list:.2f}')\n",
    "print(f'statistics.mean(x_tuple) = {mean_tuple:.2f}')"
   ]
  },
  {
   "cell_type": "markdown",
   "id": "b1891f8f-6ca4-407c-a808-00c7aabbec40",
   "metadata": {},
   "source": [
    "## Create a NumPy array"
   ]
  },
  {
   "cell_type": "code",
   "execution_count": 5,
   "id": "dc48d8ab-9579-42b4-a1e5-ede04922c161",
   "metadata": {},
   "outputs": [],
   "source": [
    "import numpy as np\n",
    "x_array = np.array(x_list)"
   ]
  },
  {
   "cell_type": "markdown",
   "id": "7b5515ec-a5a9-4d2d-82ef-1759fc782458",
   "metadata": {},
   "source": [
    "## np.mean and np.ndarray.mean functions"
   ]
  },
  {
   "cell_type": "code",
   "execution_count": 6,
   "id": "085aa5bc-137f-4e19-b8e1-f956411eaee2",
   "metadata": {},
   "outputs": [
    {
     "name": "stdout",
     "output_type": "stream",
     "text": [
      "np.mean(x_list)  = 3.29\n",
      "np.mean(x_tuple) = 3.29\n",
      "np.mean(x_array) = 3.29\n",
      "np.ndarray.mean(x_array) = 3.29\n"
     ]
    }
   ],
   "source": [
    "np_mean_list       = np.mean(x_list)           # operate on a list\n",
    "np_mean_tuple      = np.mean(x_tuple)          # operate on a list\n",
    "np_mean_array      = np.mean(x_array)          # operate on an array\n",
    "ndarray_mean_array = np.ndarray.mean(x_array)  # operate on an array only\n",
    "\n",
    "print(f'np.mean(x_list)  = {np_mean_list:.2f}')\n",
    "print(f'np.mean(x_tuple) = {np_mean_tuple:.2f}')\n",
    "print(f'np.mean(x_array) = {np_mean_array:.2f}')\n",
    "print(f'np.ndarray.mean(x_array) = {ndarray_mean_array:.2f}')"
   ]
  },
  {
   "cell_type": "markdown",
   "id": "a41cf605-bd7e-4a79-9b68-08060d14c06b",
   "metadata": {},
   "source": [
    "## 2-d array"
   ]
  },
  {
   "cell_type": "code",
   "execution_count": 7,
   "id": "63ac067f-3e2b-497a-981e-df667bfa0358",
   "metadata": {},
   "outputs": [
    {
     "name": "stdout",
     "output_type": "stream",
     "text": [
      "np.mean(matrix) [all]          = 3.3333333333333335\n",
      "np.mean(matrix, axis=0) [cols] = [2.         4.33333333 2.66666667 4.33333333]\n",
      "np.mean(matrix, axis=1) [rows] = [4. 3. 3.]\n"
     ]
    }
   ],
   "source": [
    "matrix = np.array([[2, 5, 6, 3],\n",
    "                   [1, 7, 0, 4],\n",
    "                   [3, 1, 2, 6]])\n",
    "\n",
    "mean_of_all  = np.mean(matrix)\n",
    "mean_of_cols = np.mean(matrix, axis=0)\n",
    "mean_of_rows = np.mean(matrix, axis=1)\n",
    "\n",
    "print(f'np.mean(matrix) [all]          = {mean_of_all}')\n",
    "print(f'np.mean(matrix, axis=0) [cols] = {mean_of_cols}')\n",
    "print(f'np.mean(matrix, axis=1) [rows] = {mean_of_rows}')"
   ]
  },
  {
   "cell_type": "code",
   "execution_count": null,
   "id": "d82e424f-a737-4f50-93ac-d3982f59c9d4",
   "metadata": {},
   "outputs": [],
   "source": []
  },
  {
   "cell_type": "markdown",
   "id": "b5b2ad6a",
   "metadata": {},
   "source": [
    "\n",
    "## Median\n",
    "\n",
    "The median is the **middle value** in a dataset when it is arranged in ascending order. If there is an even number of observations, the median is the average of the two middle numbers.\n",
    "\n",
    "### Example:\n",
    "Let's find the median of two datasets: \n",
    "\n",
    "1. An odd number of elements: 1, 3, 5, 7, 9\n",
    "2. An even number of elements: 1, 2, 3, 4, 5, 6\n"
   ]
  },
  {
   "cell_type": "code",
   "execution_count": 1,
   "id": "6f2c49c0",
   "metadata": {},
   "outputs": [
    {
     "data": {
      "text/plain": [
       "5"
      ]
     },
     "execution_count": 1,
     "metadata": {},
     "output_type": "execute_result"
    }
   ],
   "source": [
    "\n",
    "# Median for odd number of elements\n",
    "dataset_odd = [1, 3, 5, 7, 9]\n",
    "sorted_dataset_odd = sorted(dataset_odd)\n",
    "median_odd = sorted_dataset_odd[len(sorted_dataset_odd) // 2]\n",
    "median_odd\n"
   ]
  },
  {
   "cell_type": "code",
   "execution_count": 2,
   "id": "c049aead",
   "metadata": {},
   "outputs": [
    {
     "data": {
      "text/plain": [
       "3.5"
      ]
     },
     "execution_count": 2,
     "metadata": {},
     "output_type": "execute_result"
    }
   ],
   "source": [
    "\n",
    "# Median for even number of elements\n",
    "dataset_even = [1, 2, 3, 4, 5, 6]\n",
    "sorted_dataset_even = sorted(dataset_even)\n",
    "midpoint = len(sorted_dataset_even) // 2\n",
    "median_even = (sorted_dataset_even[midpoint - 1] + sorted_dataset_even[midpoint]) / 2\n",
    "median_even\n"
   ]
  },
  {
   "cell_type": "code",
   "execution_count": 3,
   "id": "a3c3f433-eb3b-4487-8df6-6b945d926cb2",
   "metadata": {},
   "outputs": [],
   "source": [
    "x_list_odd  = [6, 20, 15, 13, 2, 6, 8]      # sorted [2, 6, 6, 8, 13, 15, 20]\n",
    "x_list_even = [6, 20, 15, 13, 2, 6, 8, 25]  # sorted [2, 6, 6, 8, 13, 15, 20, 25]"
   ]
  },
  {
   "cell_type": "markdown",
   "id": "45c7d953-bdc6-456b-afed-7199d5fb4e69",
   "metadata": {},
   "source": [
    "## Function to explicitly compute the median from its definition"
   ]
  },
  {
   "cell_type": "code",
   "execution_count": 4,
   "id": "025ba50d-b91f-4ed2-bfc6-4608a1dc1c89",
   "metadata": {},
   "outputs": [],
   "source": [
    "def my_median(values):\n",
    "    \"\"\"\n",
    "    Compute the median of a list of values.\n",
    "    @param values the list of values.\n",
    "    @return the median.\n",
    "    \"\"\"\n",
    "    \n",
    "    count = len(values)             # count of values     \n",
    "    middle_index = count//2         # index of the middle value when count is odd\n",
    "    sorted_values = sorted(values)  # must work with sorted values\n",
    "    \n",
    "    if count%2 == 1:  # odd number of values\n",
    "        median_value = sorted_values[middle_index]\n",
    "    else:             # even number of values\n",
    "        low_median_value  = sorted_values[middle_index - 1]\n",
    "        high_median_value = sorted_values[middle_index]\n",
    "        median_value = (low_median_value + high_median_value)/2\n",
    "\n",
    "    return median_value "
   ]
  },
  {
   "cell_type": "code",
   "execution_count": 5,
   "id": "af61f1ad-cc7c-4374-aa1b-084d4efb7ee8",
   "metadata": {},
   "outputs": [
    {
     "name": "stdout",
     "output_type": "stream",
     "text": [
      "my_median(x_list_odd)  =  8.00\n",
      "my_median(x_list_even) = 10.50\n"
     ]
    }
   ],
   "source": [
    "my_median_odd  = my_median(x_list_odd)\n",
    "my_median_even = my_median(x_list_even)\n",
    "  \n",
    "print(f'my_median(x_list_odd)  = {my_median_odd:5.2f}')\n",
    "print(f'my_median(x_list_even) = {my_median_even:5.2f}')"
   ]
  },
  {
   "cell_type": "markdown",
   "id": "b82edbe0-9e2e-409a-bd6f-74066d297b04",
   "metadata": {},
   "source": [
    "## statistics.median function"
   ]
  },
  {
   "cell_type": "code",
   "execution_count": 6,
   "id": "4230246b-0da6-4045-a53b-d869ef91575e",
   "metadata": {},
   "outputs": [
    {
     "name": "stdout",
     "output_type": "stream",
     "text": [
      "statistics.median(x_list_odd)  =  8.00\n",
      "statistics.median(x_list_even) = 10.50\n"
     ]
    }
   ],
   "source": [
    "import statistics\n",
    "\n",
    "median_list_odd  = statistics.median(x_list_odd)\n",
    "median_list_even = statistics.median(x_list_even)\n",
    "\n",
    "print(f'statistics.median(x_list_odd)  = {median_list_odd:5.2f}')\n",
    "print(f'statistics.median(x_list_even) = {median_list_even:5.2f}')"
   ]
  },
  {
   "cell_type": "markdown",
   "id": "e1b60aff-bf65-41d8-b219-08addc775dd3",
   "metadata": {},
   "source": [
    "## Create NumPy arrays"
   ]
  },
  {
   "cell_type": "code",
   "execution_count": 7,
   "id": "0b58d56f-3257-4723-8406-1ae78d1a27f8",
   "metadata": {},
   "outputs": [],
   "source": [
    "import numpy as np\n",
    "x_array_odd  = np.array(x_list_odd)\n",
    "x_array_even = np.array(x_list_even)"
   ]
  },
  {
   "cell_type": "markdown",
   "id": "4d10aaf1-3a1c-4f5a-afeb-a6e609b5178f",
   "metadata": {},
   "source": [
    "## np.median function"
   ]
  },
  {
   "cell_type": "code",
   "execution_count": 8,
   "id": "a57810cf-ef7e-4f6e-bbdb-b3ff96d250bf",
   "metadata": {},
   "outputs": [
    {
     "name": "stdout",
     "output_type": "stream",
     "text": [
      "np.median(x_list_odd)   =  8.00\n",
      "np.median(x_list_even)  = 10.50\n",
      "np.median(x_array_odd)  =  8.00\n",
      "np.median(x_array_even) = 10.50\n"
     ]
    }
   ],
   "source": [
    "np_median_list_odd   = np.median(x_list_odd)    # operate on an odd-numbered list\n",
    "np_median_list_even  = np.median(x_list_even)   # operate on an even-numbered list\n",
    "np_median_array_odd  = np.median(x_array_odd)   # operate on an odd-numbered array\n",
    "np_median_array_even = np.median(x_array_even)  # operate on an even-numbered array\n",
    "\n",
    "print(f'np.median(x_list_odd)   = {np_median_list_odd:5.2f}')\n",
    "print(f'np.median(x_list_even)  = {np_median_list_even:5.2f}')\n",
    "print(f'np.median(x_array_odd)  = {np_median_array_odd:5.2f}')\n",
    "print(f'np.median(x_array_even) = {np_median_array_even:5.2f}')"
   ]
  },
  {
   "cell_type": "markdown",
   "id": "4467efe8-64b1-4e12-bea1-bbd499d49e26",
   "metadata": {},
   "source": [
    "## 2-d array"
   ]
  },
  {
   "cell_type": "code",
   "execution_count": 9,
   "id": "6d5bd47c-d738-48e8-9ebd-235953fae234",
   "metadata": {},
   "outputs": [
    {
     "name": "stdout",
     "output_type": "stream",
     "text": [
      "np.median(matrix) [all]          = 3.0\n",
      "np.median(matrix, axis=0) [cols] = [2. 5. 2. 4.]\n",
      "np.median(matrix, axis=1) [rows] = [4.  2.5 2.5]\n"
     ]
    }
   ],
   "source": [
    "matrix = np.array([[2, 5, 6, 3],\n",
    "                   [1, 7, 0, 4],\n",
    "                   [3, 1, 2, 6]])\n",
    "\n",
    "median_of_all  = np.median(matrix)\n",
    "median_of_cols = np.median(matrix, axis=0)\n",
    "median_of_rows = np.median(matrix, axis=1)\n",
    "\n",
    "print(f'np.median(matrix) [all]          = {median_of_all}')\n",
    "print(f'np.median(matrix, axis=0) [cols] = {median_of_cols}')\n",
    "print(f'np.median(matrix, axis=1) [rows] = {median_of_rows}')"
   ]
  },
  {
   "cell_type": "code",
   "execution_count": null,
   "id": "d2861e6b-f2d7-464f-ab1f-0c67e35258a0",
   "metadata": {},
   "outputs": [],
   "source": []
  },
  {
   "cell_type": "markdown",
   "id": "faf07db0",
   "metadata": {},
   "source": [
    "\n",
    "## Mode\n",
    "\n",
    "The mode is the number that appears most frequently in a dataset. There can be more than one mode if two or more numbers appear with the same highest frequency.\n",
    "\n",
    "### Example:\n",
    "Let's find the mode of the following dataset: 2, 3, 4, 2, 5, 4, 3, 2\n"
   ]
  },
  {
   "cell_type": "code",
   "execution_count": 8,
   "id": "c5472306",
   "metadata": {},
   "outputs": [
    {
     "data": {
      "text/plain": [
       "[2]"
      ]
     },
     "execution_count": 8,
     "metadata": {},
     "output_type": "execute_result"
    }
   ],
   "source": [
    "\n",
    "from collections import Counter\n",
    "\n",
    "# Example code to calculate the mode\n",
    "dataset = [2, 3, 4, 2, 5, 4, 3, 2]\n",
    "frequency = Counter(dataset)\n",
    "mode = [num for num, freq in frequency.items() if freq == max(frequency.values())]\n",
    "mode\n"
   ]
  },
  {
   "cell_type": "code",
   "execution_count": 12,
   "id": "fd00823e-6325-4f45-9a74-e536ee12519e",
   "metadata": {},
   "outputs": [],
   "source": [
    "x_list_unimodal = [4, 7, 4, 0, 3, 4, 7]  # sorted [0, 3, 4, 4, 4, 7, 7]\n",
    "x_list_bimodal  = [5, 0, 5, 0, 3, 5, 0]  # sorted [0, 0, 0, 3, 5, 5, 5]"
   ]
  },
  {
   "cell_type": "markdown",
   "id": "a696c308-68c7-45db-b93e-35db430c4adb",
   "metadata": {},
   "source": [
    "## Function to explicitly compute the mode from its definition"
   ]
  },
  {
   "cell_type": "code",
   "execution_count": 13,
   "id": "316fb687-3425-4878-8ccb-01ba11778cc0",
   "metadata": {},
   "outputs": [],
   "source": [
    "def modes_of_list(values):\n",
    "    \"\"\"\n",
    "    Compute the mode(s) of a list of values.\n",
    "    @param values the list of values.\n",
    "    @return the list of mode(s)\n",
    "    \"\"\"\n",
    "    \n",
    "    count = len(values)\n",
    "    modes = [];\n",
    "    \n",
    "    if count == 0:  # if no values then no modes\n",
    "        return []\n",
    "    \n",
    "    sorted_values = sorted(values)     # sort to group the values\n",
    "    longest_length = 0                 # longest length of consecutive values so far\n",
    "    current_length = 1                 # current length of consecutive values\n",
    "    previous_value = sorted_values[0]  # previous value in the sorted list\n",
    "    \n",
    "    for i in range(1, count + 1):      # start at 1, go up to and include the count\n",
    "        if (i == count) or (sorted_values[i] != previous_value):\n",
    "            # End of the values or the value has changed from the previous one.\n",
    "            if current_length == longest_length:\n",
    "                modes.append(previous_value)     # ties the longest_length, so append to modes\n",
    "            elif current_length > longest_length:\n",
    "                longest_length = current_length  # found a longer length\n",
    "                modes = [previous_value]         # so start a new modes list\n",
    "                \n",
    "            if i < count:\n",
    "                previous_value = sorted_values[i]  # start new consecutive values\n",
    "                current_length = 1\n",
    "        else:\n",
    "            # The value hasn't changed, so increment the current length.\n",
    "            current_length += 1\n",
    "    \n",
    "    return modes "
   ]
  },
  {
   "cell_type": "code",
   "execution_count": 14,
   "id": "3c335309-13ac-4871-9a49-ef16cfc26df7",
   "metadata": {},
   "outputs": [
    {
     "name": "stdout",
     "output_type": "stream",
     "text": [
      "modes_of_list(x_list_unimodal) = [4]\n"
     ]
    }
   ],
   "source": [
    "modes_unimodal = modes_of_list(x_list_unimodal)\n",
    "\n",
    "print(f'modes_of_list(x_list_unimodal) = {modes_unimodal}')"
   ]
  },
  {
   "cell_type": "code",
   "execution_count": 15,
   "id": "b77fbf19-4023-426b-8cfa-2c6f9cefe43b",
   "metadata": {},
   "outputs": [
    {
     "name": "stdout",
     "output_type": "stream",
     "text": [
      "modes_of_list(my_modes_bimodal) = [0, 5]\n"
     ]
    }
   ],
   "source": [
    "modes_bimodal = modes_of_list(x_list_bimodal)\n",
    "\n",
    "print(f'modes_of_list(my_modes_bimodal) = {modes_bimodal}')"
   ]
  },
  {
   "cell_type": "markdown",
   "id": "4b5912fb-0991-49c8-a091-3626259d8f38",
   "metadata": {},
   "source": [
    "## statistics.mode function"
   ]
  },
  {
   "cell_type": "code",
   "execution_count": 16,
   "id": "b603d24f-71e1-4da9-a351-280454ec5789",
   "metadata": {},
   "outputs": [
    {
     "name": "stdout",
     "output_type": "stream",
     "text": [
      "statistics.mode(x_list_unimodal)  = 4\n"
     ]
    }
   ],
   "source": [
    "import statistics\n",
    "mode_list_unimodal = statistics.mode(x_list_unimodal)\n",
    "\n",
    "print(f'statistics.mode(x_list_unimodal)  = {mode_list_unimodal}')"
   ]
  },
  {
   "cell_type": "code",
   "execution_count": 17,
   "id": "17c3b307-ea8e-4c49-93bb-eb06bffd2b7e",
   "metadata": {},
   "outputs": [
    {
     "name": "stdout",
     "output_type": "stream",
     "text": [
      "statistics.mode(x_list_bimodal)  = 5\n"
     ]
    }
   ],
   "source": [
    "mode_list_bimodal = statistics.mode(x_list_bimodal)\n",
    "print(f'statistics.mode(x_list_bimodal)  = {mode_list_bimodal}')"
   ]
  },
  {
   "cell_type": "markdown",
   "id": "5e0e0d4d-b829-436c-b333-240af7ae7e9a",
   "metadata": {},
   "source": [
    "## String values"
   ]
  },
  {
   "cell_type": "code",
   "execution_count": 18,
   "id": "cb9adb5f-2a1a-4449-ad2f-8d8acf48b975",
   "metadata": {},
   "outputs": [
    {
     "name": "stdout",
     "output_type": "stream",
     "text": [
      "statistics.mode(colors) = red\n"
     ]
    }
   ],
   "source": [
    "colors = ['red', 'white', 'red', 'blue', 'white', 'red']\n",
    "colors_mode = statistics.mode(colors)\n",
    "\n",
    "print(f'statistics.mode(colors) = {colors_mode}')"
   ]
  },
  {
   "cell_type": "markdown",
   "id": "59d79ed9-9898-4d5a-a376-0146a64a5fa1",
   "metadata": {},
   "source": [
    "## Create NumPy arrays"
   ]
  },
  {
   "cell_type": "code",
   "execution_count": 19,
   "id": "7c0c641b-06e8-40ec-b54d-e930fb11f759",
   "metadata": {},
   "outputs": [],
   "source": [
    "import numpy as np\n",
    "x_array_unimodal = np.array(x_list_unimodal)\n",
    "x_array_bimodal  = np.array(x_list_bimodal)"
   ]
  },
  {
   "cell_type": "markdown",
   "id": "1a9f1abd-a9cc-46d4-90f4-d44b2ac0fb7c",
   "metadata": {},
   "source": [
    "## scipy.stats.mode function"
   ]
  },
  {
   "cell_type": "code",
   "execution_count": 20,
   "id": "fd1013c9-6206-4e9b-80df-bb5730af81b5",
   "metadata": {},
   "outputs": [
    {
     "name": "stdout",
     "output_type": "stream",
     "text": [
      "stats.mode(x_list_unimodal) = ModeResult(mode=array([4]), count=array([3]))\n",
      "stats.mode(x_list_bimodal)  = ModeResult(mode=array([0]), count=array([3]))\n"
     ]
    }
   ],
   "source": [
    "from scipy import stats\n",
    "\n",
    "stats_mode_list_unimodal = stats.mode(x_list_unimodal)    # operate on a unimodal list\n",
    "stats_mode_list_bimodal  = stats.mode(x_list_bimodal)     # operate on a bimodal list\n",
    "\n",
    "print(f'stats.mode(x_list_unimodal) = {stats_mode_list_unimodal}')\n",
    "print(f'stats.mode(x_list_bimodal)  = {stats_mode_list_bimodal}')"
   ]
  },
  {
   "cell_type": "markdown",
   "id": "228690c3-2d3c-413c-bb8e-214d16677fd5",
   "metadata": {},
   "source": [
    "## 2-d arrays"
   ]
  },
  {
   "cell_type": "code",
   "execution_count": 21,
   "id": "3a8ec478-0e9f-4466-98e4-283323ae5115",
   "metadata": {},
   "outputs": [
    {
     "name": "stdout",
     "output_type": "stream",
     "text": [
      "stats.mode(matrix) = ModeResult(mode=array([[0, 3, 2, 2, 1, 1]]), count=array([[1, 3, 2, 3, 2, 4]]))\n"
     ]
    }
   ],
   "source": [
    "matrix = np.array([[1, 3, 4, 2, 2, 1],\n",
    "                   [5, 2, 2, 1, 4, 1],\n",
    "                   [3, 3, 2, 2, 1, 1],\n",
    "                   [0, 3, 4, 2, 1, 1]])\n",
    "\n",
    "matrix_modes_columns = stats.mode(matrix)\n",
    "print(f'stats.mode(matrix) = {matrix_modes_columns}')"
   ]
  },
  {
   "cell_type": "code",
   "execution_count": 22,
   "id": "9fbc13cd-3464-49cb-b87a-9972d0c68a27",
   "metadata": {},
   "outputs": [
    {
     "name": "stdout",
     "output_type": "stream",
     "text": [
      "stats.mode(matrix, axis=None) = ModeResult(mode=array([1]), count=array([8]))\n"
     ]
    }
   ],
   "source": [
    "matrix_modes_all = stats.mode(matrix, axis=None)\n",
    "print(f'stats.mode(matrix, axis=None) = {matrix_modes_all}')"
   ]
  },
  {
   "cell_type": "markdown",
   "id": "efed3f5c",
   "metadata": {},
   "source": [
    "\n",
    "# Median and Mode in Python\n",
    "\n",
    "This notebook demonstrates how to easily calculate the median and mode using Python's `statistics` library.\n"
   ]
  },
  {
   "cell_type": "markdown",
   "id": "210f57ef",
   "metadata": {},
   "source": [
    "\n",
    "## Median\n",
    "\n",
    "The median is the middle value in a dataset when it is arranged in ascending order. If the dataset has an even number of observations, the median is the average of the two middle numbers.\n",
    "\n",
    "The `statistics.median` function can be used to find the median.\n",
    "\n",
    "### Example:\n",
    "Let's calculate the median of the following dataset: 1, 2, 3, 4, 5\n"
   ]
  },
  {
   "cell_type": "code",
   "execution_count": 2,
   "id": "1302fb7e",
   "metadata": {},
   "outputs": [
    {
     "data": {
      "text/plain": [
       "3"
      ]
     },
     "execution_count": 2,
     "metadata": {},
     "output_type": "execute_result"
    }
   ],
   "source": [
    "\n",
    "import statistics\n",
    "\n",
    "# Dataset\n",
    "data = [1, 2, 3, 4, 5]\n",
    "\n",
    "# Calculate the median\n",
    "median = statistics.median(data)\n",
    "median\n"
   ]
  },
  {
   "cell_type": "code",
   "execution_count": 4,
   "id": "eb76be47",
   "metadata": {},
   "outputs": [
    {
     "data": {
      "text/plain": [
       "3.5"
      ]
     },
     "execution_count": 4,
     "metadata": {},
     "output_type": "execute_result"
    }
   ],
   "source": [
    "# Median for even number of elements\n",
    "dataset_even = [1, 2, 3, 4, 5, 6]\n",
    "# Calculate the median\n",
    "median_even = statistics.median(dataset_even)\n",
    "median_even"
   ]
  },
  {
   "cell_type": "markdown",
   "id": "d175d22e",
   "metadata": {},
   "source": [
    "\n",
    "## Mode\n",
    "\n",
    "The mode is the value that appears most frequently in a dataset. A dataset may have more than one mode if multiple values appear with the same highest frequency.\n",
    "\n",
    "The `statistics.mode` function is used to find the mode.\n",
    "\n",
    "### Example:\n",
    "Let's calculate the mode of the following dataset: 1, 2, 2, 3, 3, 4, 4, 4, 5, 5, 6\n"
   ]
  },
  {
   "cell_type": "code",
   "execution_count": 3,
   "id": "b6a84b31",
   "metadata": {},
   "outputs": [
    {
     "data": {
      "text/plain": [
       "4"
      ]
     },
     "execution_count": 3,
     "metadata": {},
     "output_type": "execute_result"
    }
   ],
   "source": [
    "\n",
    "# Calculate the mode\n",
    "mode = statistics.mode([1, 2, 2, 3, 3, 4, 4, 4, 5, 5, 6])\n",
    "mode\n"
   ]
  },
  {
   "cell_type": "code",
   "execution_count": 7,
   "id": "eb66ede2",
   "metadata": {},
   "outputs": [
    {
     "data": {
      "text/plain": [
       "2"
      ]
     },
     "execution_count": 7,
     "metadata": {},
     "output_type": "execute_result"
    }
   ],
   "source": [
    "# Example code to calculate the mode\n",
    "dataset = [2, 3, 4, 2, 5, 4, 3, 2]\n",
    "mode = statistics.mode(dataset)\n",
    "mode"
   ]
  },
  {
   "cell_type": "markdown",
   "id": "f393d605",
   "metadata": {},
   "source": [
    "## Weighted Mean (Weighted Average)"
   ]
  },
  {
   "cell_type": "code",
   "execution_count": 1,
   "id": "ea206e04",
   "metadata": {},
   "outputs": [
    {
     "name": "stdout",
     "output_type": "stream",
     "text": [
      "Weighted Mean: 9.933333333333334\n"
     ]
    }
   ],
   "source": [
    "import numpy as np\n",
    "\n",
    "# Sample data and weights\n",
    "data = np.array([3, 5, 7, 10, 15])\n",
    "weights = np.array([1, 2, 3, 4, 5])\n",
    "\n",
    "# Calculating weighted mean\n",
    "weighted_mean = np.average(data, weights=weights)\n",
    "\n",
    "# Displaying the result\n",
    "print('Weighted Mean:', weighted_mean)"
   ]
  },
  {
   "cell_type": "code",
   "execution_count": 2,
   "id": "d3b6df6e-1157-47ed-b6cc-1fc300350cec",
   "metadata": {},
   "outputs": [
    {
     "name": "stdout",
     "output_type": "stream",
     "text": [
      "np.average(unique_values, weights=value_weights) = 3.29\n"
     ]
    }
   ],
   "source": [
    "import numpy as np\n",
    "\n",
    "unique_values = [4, 7, 0, -3]\n",
    "value_weights = [3, 2, 1, 1]\n",
    "weighted_average = np.average(unique_values, weights=value_weights)\n",
    "\n",
    "print('np.average(unique_values, weights=value_weights) = ' +\n",
    "      f'{weighted_average:.2f}')"
   ]
  },
  {
   "cell_type": "code",
   "execution_count": 3,
   "id": "3ee6dc32-a462-4a68-9a30-21002afa75e0",
   "metadata": {},
   "outputs": [
    {
     "name": "stdout",
     "output_type": "stream",
     "text": [
      "np.average(unique_values, weights=value_weights) = 3.29\n"
     ]
    }
   ],
   "source": [
    "import numpy as np\n",
    "\n",
    "x_list  = [4, 7, 4, 0, -3, 4, 7]\n",
    "unique_values, value_weights = values, frequencies = np.unique(x_list, return_counts=True)\n",
    "weighted_average = np.average(unique_values, weights=value_weights)\n",
    "\n",
    "print('np.average(unique_values, weights=value_weights) = ' +\n",
    "      f'{weighted_average:.2f}')"
   ]
  },
  {
   "cell_type": "markdown",
   "id": "ba402189",
   "metadata": {},
   "source": [
    "# Quartiles and Percentiles\n",
    "\n",
    "## Quartiles\n",
    "\n",
    "Quartiles are values that divide a dataset into four equal parts. The three quartiles are typically denoted as Q1 (first quartile), Q2 (second quartile or median), and Q3 (third quartile). These values represent the 25th, 50th, and 75th percentiles of the data, respectively.\n",
    "\n",
    "### Example of Quartiles\n",
    "\n",
    "Consider the dataset: `3, 7, 8, 5, 12, 14, 21, 15, 18, 14`.\n",
    "\n",
    "1. First, we sort the data: `3, 5, 7, 8, 12, 14, 14, 15, 18, 21`.\n",
    "2. Q2 (median) is the average of the middle two numbers: `(12 + 14) / 2 = 13`.\n",
    "3. Q1 is the median of the first half: `(5 + 7) / 2 = 6`.\n",
    "4. Q3 is the median of the second half: `(15 + 18) / 2 = 16.5`.\n",
    "\n"
   ]
  },
  {
   "cell_type": "code",
   "execution_count": 2,
   "id": "7406e4c1",
   "metadata": {},
   "outputs": [
    {
     "data": {
      "text/plain": [
       "(5.5, 10.0, 14.5)"
      ]
     },
     "execution_count": 2,
     "metadata": {},
     "output_type": "execute_result"
    }
   ],
   "source": [
    "import numpy as np\n",
    "\n",
    "# Dataset\n",
    "data = [1, 3, 5, 7, 9, 11, 13, 15, 17, 19]\n",
    "\n",
    "# Calculate quartiles\n",
    "q1 = np.percentile(data, 25)\n",
    "q2 = np.percentile(data, 50)\n",
    "q3 = np.percentile(data, 75)\n",
    "\n",
    "(q1, q2, q3)\n"
   ]
  },
  {
   "cell_type": "markdown",
   "id": "be0b78fc",
   "metadata": {},
   "source": [
    "## Percentiles\n",
    "\n",
    "Percentiles are similar to quartiles but divide the dataset into 100 equal parts. The nth percentile is the value below which n% of the data falls. They are useful for understanding the distribution of data and for outlier detection.\n",
    "\n",
    "### Example of Percentiles\n",
    "\n",
    "Using the same dataset, let's find the 20th and 40th percentiles.\n",
    "\n",
    "1. 20th percentile: 20% of 10 data points is 2, so it's the value at the 2nd position after sorting, which is 5.\n",
    "2. 40th percentile: 40% of 10 is 4, so it's the value at the 4th position, which is 8."
   ]
  },
  {
   "cell_type": "code",
   "execution_count": 3,
   "id": "7e6d2cb4",
   "metadata": {},
   "outputs": [
    {
     "data": {
      "text/plain": [
       "(2.8, 10.0, 17.2)"
      ]
     },
     "execution_count": 3,
     "metadata": {},
     "output_type": "execute_result"
    }
   ],
   "source": [
    "# Percentiles calculation\n",
    "p10 = np.percentile(data, 10)\n",
    "p50 = np.percentile(data, 50)\n",
    "p90 = np.percentile(data, 90)\n",
    "\n",
    "(p10, p50, p90)"
   ]
  },
  {
   "cell_type": "code",
   "execution_count": null,
   "id": "89fc6acf",
   "metadata": {},
   "outputs": [],
   "source": []
  }
 ],
 "metadata": {
  "kernelspec": {
   "display_name": "Python 3",
   "language": "python",
   "name": "python3"
  },
  "language_info": {
   "codemirror_mode": {
    "name": "ipython",
    "version": 3
   },
   "file_extension": ".py",
   "mimetype": "text/x-python",
   "name": "python",
   "nbconvert_exporter": "python",
   "pygments_lexer": "ipython3",
   "version": "3.8.8"
  }
 },
 "nbformat": 4,
 "nbformat_minor": 5
}
