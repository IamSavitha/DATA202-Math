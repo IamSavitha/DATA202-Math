{
 "cells": [
  {
   "cell_type": "markdown",
   "id": "b0fd2782",
   "metadata": {},
   "source": [
    "# Conditional Probability Practice\n",
    "\n",
    "This notebook provides an example to practice conditional probability using Python.\n",
    "We will simulate drawing cards from a deck and calculate various probabilities."
   ]
  },
  {
   "cell_type": "code",
   "execution_count": 1,
   "id": "8d705315",
   "metadata": {},
   "outputs": [],
   "source": [
    "import random"
   ]
  },
  {
   "cell_type": "code",
   "execution_count": 2,
   "id": "2bfd7618",
   "metadata": {},
   "outputs": [
    {
     "name": "stdout",
     "output_type": "stream",
     "text": [
      "Probability of drawing an Ace (P(Ace)): 0.0783\n",
      "Probability of drawing a Heart (P(Heart)): 0.2537\n",
      "Conditional Probability of drawing an Ace given it's a Heart (P(Ace | Heart)): 0.0757\n"
     ]
    }
   ],
   "source": [
    "# Function to simulate drawing a card from the deck\n",
    "def draw_card():\n",
    "    suits = ['hearts', 'diamonds', 'clubs', 'spades']\n",
    "    ranks = ['Ace', '2', '3', '4', '5', '6', '7', '8', '9', '10', 'Jack', 'Queen', 'King']\n",
    "    suit = random.choice(suits)\n",
    "    rank = random.choice(ranks)\n",
    "    return (rank, suit)\n",
    "\n",
    "# Function to check if the drawn card is an Ace\n",
    "def is_ace(card):\n",
    "    return card[0] == 'Ace'\n",
    "\n",
    "# Function to simulate the experiment and calculate conditional probabilities\n",
    "def simulate_experiments(num_experiments=1000):\n",
    "    ace_count = 0\n",
    "    heart_count = 0\n",
    "    ace_and_heart_count = 0\n",
    "\n",
    "    for _ in range(num_experiments):\n",
    "        card = draw_card()\n",
    "        if is_ace(card):\n",
    "            ace_count += 1\n",
    "            if card[1] == 'hearts':\n",
    "                ace_and_heart_count += 1\n",
    "                \n",
    "        if card[1] == 'hearts':\n",
    "            heart_count += 1\n",
    "\n",
    "    # P(Ace)\n",
    "    prob_ace = ace_count / num_experiments\n",
    "\n",
    "    # P(Heart)\n",
    "    prob_heart = heart_count / num_experiments\n",
    "\n",
    "    # P(Ace and Heart)\n",
    "    prob_ace_and_heart = ace_and_heart_count / num_experiments\n",
    "\n",
    "    # P(Ace | Heart)\n",
    "    prob_ace_given_heart = prob_ace_and_heart / prob_heart if prob_heart > 0 else 0\n",
    "\n",
    "    return prob_ace, prob_heart, prob_ace_given_heart\n",
    "\n",
    "\n",
    "\n",
    "# Running the simulation\n",
    "num_experiments = 10000\n",
    "prob_ace, prob_heart, prob_ace_given_heart = simulate_experiments(num_experiments)\n",
    "\n",
    "print(f\"Probability of drawing an Ace (P(Ace)): {prob_ace:.4f}\")\n",
    "print(f\"Probability of drawing a Heart (P(Heart)): {prob_heart:.4f}\")\n",
    "print(f\"Conditional Probability of drawing an Ace given it's a Heart (P(Ace | Heart)): {prob_ace_given_heart:.4f}\")"
   ]
  },
  {
   "cell_type": "code",
   "execution_count": null,
   "id": "a2614924",
   "metadata": {},
   "outputs": [],
   "source": []
  }
 ],
 "metadata": {
  "kernelspec": {
   "display_name": "Python 3",
   "language": "python",
   "name": "python3"
  },
  "language_info": {
   "codemirror_mode": {
    "name": "ipython",
    "version": 3
   },
   "file_extension": ".py",
   "mimetype": "text/x-python",
   "name": "python",
   "nbconvert_exporter": "python",
   "pygments_lexer": "ipython3",
   "version": "3.8.8"
  }
 },
 "nbformat": 4,
 "nbformat_minor": 5
}
