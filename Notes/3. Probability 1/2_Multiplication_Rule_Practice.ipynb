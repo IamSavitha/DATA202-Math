{
 "cells": [
  {
   "cell_type": "markdown",
   "id": "55713f87",
   "metadata": {},
   "source": [
    "# Multiplication Rule Practice with Independent and Dependent Events\n",
    "\n",
    "This notebook provides examples to practice the multiplication rule in probability for both independent and dependent events using Python. We will simulate different scenarios to understand how these concepts are applied."
   ]
  },
  {
   "cell_type": "code",
   "execution_count": 1,
   "id": "fc92a41b",
   "metadata": {},
   "outputs": [],
   "source": [
    "import random"
   ]
  },
  {
   "cell_type": "code",
   "execution_count": 2,
   "id": "798d9e70",
   "metadata": {},
   "outputs": [
    {
     "name": "stdout",
     "output_type": "stream",
     "text": [
      "Probability of both coins landing on heads (Independent Events): 0.240\n"
     ]
    }
   ],
   "source": [
    "# Independent Events Example: Flipping two coins\n",
    "\n",
    "# Function to simulate flipping a coin\n",
    "def flip_coin():\n",
    "    return random.choice(['Heads', 'Tails'])\n",
    "\n",
    "# Function to simulate independent events and calculate the probability\n",
    "def simulate_independent_events(num_experiments=1000):\n",
    "    both_heads_count = 0\n",
    "    \n",
    "    for _ in range(num_experiments):\n",
    "        first_flip = flip_coin()\n",
    "        second_flip = flip_coin()\n",
    "             \n",
    "        if first_flip == 'Heads' and second_flip == 'Heads':\n",
    "            both_heads_count += 1\n",
    "\n",
    "    # Probability of both coins landing on heads: A intersection with B\n",
    "    prob_both_heads = both_heads_count / num_experiments\n",
    "    \n",
    "    return prob_both_heads\n",
    "\n",
    "# Running the simulation for independent events\n",
    "num_experiments = 10000\n",
    "prob_both_heads = simulate_independent_events(num_experiments)\n",
    "\n",
    "print(f\"Probability of both coins landing on heads (Independent Events): {prob_both_heads:.3f}\")"
   ]
  },
  {
   "cell_type": "code",
   "execution_count": 5,
   "id": "5fc03a1f",
   "metadata": {},
   "outputs": [
    {
     "name": "stdout",
     "output_type": "stream",
     "text": [
      "[('Ace', 'Hearts'), ('2', 'Hearts'), ('3', 'Hearts'), ('4', 'Hearts'), ('5', 'Hearts'), ('6', 'Hearts'), ('7', 'Hearts'), ('8', 'Hearts'), ('9', 'Hearts'), ('10', 'Hearts'), ('Jack', 'Hearts'), ('Queen', 'Hearts'), ('King', 'Hearts'), ('Ace', 'Diamonds'), ('2', 'Diamonds'), ('3', 'Diamonds'), ('4', 'Diamonds'), ('5', 'Diamonds'), ('6', 'Diamonds'), ('7', 'Diamonds'), ('8', 'Diamonds'), ('9', 'Diamonds'), ('10', 'Diamonds'), ('Jack', 'Diamonds'), ('Queen', 'Diamonds'), ('King', 'Diamonds'), ('Ace', 'Clubs'), ('2', 'Clubs'), ('3', 'Clubs'), ('4', 'Clubs'), ('5', 'Clubs'), ('6', 'Clubs'), ('7', 'Clubs'), ('8', 'Clubs'), ('9', 'Clubs'), ('10', 'Clubs'), ('Jack', 'Clubs'), ('Queen', 'Clubs'), ('King', 'Clubs'), ('Ace', 'Spades'), ('2', 'Spades'), ('3', 'Spades'), ('4', 'Spades'), ('5', 'Spades'), ('6', 'Spades'), ('7', 'Spades'), ('8', 'Spades'), ('9', 'Spades'), ('10', 'Spades'), ('Jack', 'Spades'), ('Queen', 'Spades'), ('King', 'Spades')]\n",
      "\n",
      "Empirical Probability of drawing two aces in a row without replacement: 0.0048\n",
      "Theoretical Probability (Multiplication Rule): 0.0045\n"
     ]
    }
   ],
   "source": [
    "# Dependent Events Example: Drawing two cards from a deck without replacement\n",
    "\n",
    "# Function to create a deck of cards\n",
    "def create_deck():\n",
    "    suits = ['Hearts', 'Diamonds', 'Clubs', 'Spades']\n",
    "    ranks = ['Ace', '2', '3', '4', '5', '6', '7', '8', '9', '10', 'Jack', 'Queen', 'King']\n",
    "    return [(rank, suit) for suit in suits for rank in ranks]\n",
    "\n",
    "# Function to simulate dependent events and calculate the probability\n",
    "def simulate_dependent_events(num_experiments=1000):\n",
    "    both_aces_count = 0\n",
    "    \n",
    "    deck = create_deck()\n",
    "    print(deck)\n",
    "    \n",
    "    for _ in range(num_experiments):\n",
    "        deck = create_deck()\n",
    "        first_card = random.choice(deck)\n",
    "        deck.remove(first_card)\n",
    "        second_card = random.choice(deck)\n",
    "        \n",
    "        if first_card[0] == 'Ace' and second_card[0] == 'Ace':\n",
    "            both_aces_count += 1\n",
    "\n",
    "    # Probability of drawing two aces in a row without replacement\n",
    "    prob_both_aces = both_aces_count / num_experiments \n",
    "\n",
    "    # Theoretical Probability (Multiplication Rule for Dependent Events)\n",
    "    prob_theoretical = (4/52) * (3/51)\n",
    "\n",
    "    return prob_both_aces, prob_theoretical\n",
    "\n",
    "# Running the corrected simulation for dependent events\n",
    "num_experiments = 100_000\n",
    "prob_both_aces, prob_theoretical = simulate_dependent_events(num_experiments)\n",
    "\n",
    "print(f\"\\nEmpirical Probability of drawing two aces in a row without replacement: {prob_both_aces:.4f}\")\n",
    "print(f\"Theoretical Probability (Multiplication Rule): {prob_theoretical:.4f}\")"
   ]
  },
  {
   "cell_type": "code",
   "execution_count": null,
   "id": "e0ca2e25",
   "metadata": {},
   "outputs": [],
   "source": []
  }
 ],
 "metadata": {
  "kernelspec": {
   "display_name": "Python 3",
   "language": "python",
   "name": "python3"
  },
  "language_info": {
   "codemirror_mode": {
    "name": "ipython",
    "version": 3
   },
   "file_extension": ".py",
   "mimetype": "text/x-python",
   "name": "python",
   "nbconvert_exporter": "python",
   "pygments_lexer": "ipython3",
   "version": "3.8.8"
  }
 },
 "nbformat": 4,
 "nbformat_minor": 5
}
