{
 "cells": [
  {
   "cell_type": "markdown",
   "id": "32ba0000",
   "metadata": {},
   "source": [
    "# Bayes' Theorem Example in Python\n",
    "\n",
    "This notebook demonstrates an example of applying Bayes' Theorem using Python.\n",
    "\n",
    "## Scenario: Medical Testing\n",
    "\n",
    "We are considering a medical test for a disease that occurs in 1% of the population. The test has a 99% accuracy rate (i.e., it correctly identifies the disease in 99% of cases when the disease is present). However, the test also has a 1% false positive rate (i.e., it incorrectly identifies the disease in 1% of cases when the disease is not present).\n",
    "\n",
    "We want to calculate the probability of having the disease given a positive test result.\n"
   ]
  },
  {
   "cell_type": "code",
   "execution_count": 1,
   "id": "c8bd79d8",
   "metadata": {},
   "outputs": [
    {
     "name": "stdout",
     "output_type": "stream",
     "text": [
      "The probability of having the disease given a positive test result: 0.50\n"
     ]
    }
   ],
   "source": [
    "import numpy as np\n",
    "\n",
    "# Define the prior, likelihood, and evidence\n",
    "def bayesian_update(prior, likelihood, evidence):\n",
    "    # Applies Bayes' Theorem to update the probability estimate.\n",
    "    # Arguments:\n",
    "    # - prior: P(A), the prior probability of A.\n",
    "    # - likelihood: P(B|A), the likelihood of B given A.\n",
    "    # - evidence: P(B), the total probability of B.\n",
    "    # Returns:\n",
    "    # - posterior: P(A|B), the updated probability of A given B.\n",
    "    posterior = (likelihood * prior) / evidence\n",
    "    return posterior\n",
    "\n",
    "# Example: Medical Test Scenario\n",
    "# Probability of having the disease (1% of the population)\n",
    "prior = 0.01\n",
    "\n",
    "# Probability of a positive test given the disease is present\n",
    "likelihood = 0.99\n",
    "\n",
    "# Overall probability of a positive test (True Positive + False Positive)\n",
    "# Assuming a 1% false positive rate in the population without the disease\n",
    "evidence = (0.99 * 0.01) + (0.01 * 0.99)\n",
    "\n",
    "# Applying Bayes' Theorem\n",
    "posterior = bayesian_update(prior, likelihood, evidence)\n",
    "\n",
    "# Display the result\n",
    "print(f\"The probability of having the disease given a positive test result: {posterior:.2f}\")\n"
   ]
  },
  {
   "cell_type": "markdown",
   "id": "0b338572",
   "metadata": {},
   "source": []
  }
 ],
 "metadata": {
  "kernelspec": {
   "display_name": "Python 3",
   "language": "python",
   "name": "python3"
  },
  "language_info": {
   "codemirror_mode": {
    "name": "ipython",
    "version": 3
   },
   "file_extension": ".py",
   "mimetype": "text/x-python",
   "name": "python",
   "nbconvert_exporter": "python",
   "pygments_lexer": "ipython3",
   "version": "3.8.8"
  }
 },
 "nbformat": 4,
 "nbformat_minor": 5
}
