{
 "cells": [
  {
   "cell_type": "markdown",
   "id": "80466335",
   "metadata": {},
   "source": [
    "# Bayes' Theorem Example in Python\n",
    "\n",
    "This notebook demonstrates an example of applying Bayes' Theorem using Python.\n",
    "\n",
    "In a manufacturing company, two machines (Machine A and Machine B) are used to produce light bulbs. Machine A produces 60% of the bulbs, and Machine B produces the remaining 40%. It is known that 5% of the bulbs produced by Machine A are defective, while 3% of the bulbs produced by Machine B are defective. If a randomly selected bulb is defective, what is the probability that it was produced by Machine A?"
   ]
  },
  {
   "cell_type": "code",
   "execution_count": 2,
   "id": "3af2c557",
   "metadata": {},
   "outputs": [],
   "source": [
    "def bayes_theorem(prior_prob, likelihood, evidence):\n",
    "    \n",
    "    posterior_prob = (likelihood * prior_prob) / evidence\n",
    "    return posterior_prob\n",
    "\n"
   ]
  },
  {
   "cell_type": "code",
   "execution_count": 3,
   "id": "472f6711",
   "metadata": {},
   "outputs": [],
   "source": [
    "# Given probabilities\n",
    "prior_prob_machine_A = 0.6  # Probability of a bulb being produced by Machine A\n",
    "prior_prob_machine_B = 0.4  # Probability of a bulb being produced by Machine B\n",
    "\n",
    "\n"
   ]
  },
  {
   "cell_type": "code",
   "execution_count": 4,
   "id": "166f7b22",
   "metadata": {},
   "outputs": [],
   "source": [
    "likelihood_defect_given_A = 0.05  # Probability of a defect given the bulb is from Machine A\n",
    "likelihood_defect_given_B = 0.03  # Probability of a defect given the bulb is from Machine B\n",
    "\n"
   ]
  },
  {
   "cell_type": "code",
   "execution_count": 5,
   "id": "294d5c52",
   "metadata": {},
   "outputs": [
    {
     "name": "stdout",
     "output_type": "stream",
     "text": [
      "prob_defective: 0.041999999999999996\n"
     ]
    }
   ],
   "source": [
    "# Probability of a defective bulb (evidence)\n",
    "prob_defective = (prior_prob_machine_A * likelihood_defect_given_A) + (prior_prob_machine_B * likelihood_defect_given_B)\n",
    "\n",
    "print(\"prob_defective:\", prob_defective)\n",
    "\n"
   ]
  },
  {
   "cell_type": "code",
   "execution_count": 6,
   "id": "9d5e9df1",
   "metadata": {},
   "outputs": [
    {
     "name": "stdout",
     "output_type": "stream",
     "text": [
      "posterior_prob_machine_A: 0.7142857142857143\n"
     ]
    }
   ],
   "source": [
    "# Applying Bayes' Theorem to find the probability that a defective bulb was produced by Machine A\n",
    "posterior_prob_machine_A = bayes_theorem(prior_prob_machine_A, likelihood_defect_given_A, prob_defective)\n",
    "\n",
    "print(\"posterior_prob_machine_A:\", posterior_prob_machine_A)"
   ]
  },
  {
   "cell_type": "markdown",
   "id": "decc0ccd",
   "metadata": {},
   "source": [
    "The prior probabilities (P(A) and P(B)) represent the probability of selecting Machine A or Machine B.\n",
    "The likelihoods (P(B∣A) and P(B∣¬A)) represent the probability of a defective bulb given the machines.\n",
    "The evidence (P(B)) is the probability of a defective bulb.\n",
    "Bayes' Theorem is then applied to find the probability that the defective bulb was produced by Machine A given that it is defective."
   ]
  },
  {
   "cell_type": "code",
   "execution_count": 7,
   "id": "14d843b1",
   "metadata": {},
   "outputs": [
    {
     "name": "stdout",
     "output_type": "stream",
     "text": [
      "Probability of a Bulb being Produced by Machine A: 60.00%\n",
      "Probability of a Bulb being Produced by Machine B: 40.00%\n",
      "\n",
      "Likelihood of a Defective Bulb given Machine A: 5.00%\n",
      "Likelihood of a Defective Bulb given Machine B: 3.00%\n",
      "\n",
      "Probability of a Defective Bulb: 4.20%\n",
      "\n",
      "Probability that a Defective Bulb was Produced by Machine A: 71.43%\n"
     ]
    }
   ],
   "source": [
    "# Display results\n",
    "print(\"Probability of a Bulb being Produced by Machine A: {:.2%}\".format(prior_prob_machine_A))\n",
    "print(\"Probability of a Bulb being Produced by Machine B: {:.2%}\".format(prior_prob_machine_B))\n",
    "print(\"\\nLikelihood of a Defective Bulb given Machine A: {:.2%}\".format(likelihood_defect_given_A))\n",
    "print(\"Likelihood of a Defective Bulb given Machine B: {:.2%}\".format(likelihood_defect_given_B))\n",
    "print(\"\\nProbability of a Defective Bulb: {:.2%}\".format(prob_defective))\n",
    "print(\"\\nProbability that a Defective Bulb was Produced by Machine A: {:.2%}\".format(posterior_prob_machine_A))"
   ]
  },
  {
   "cell_type": "markdown",
   "id": "27955ca4",
   "metadata": {},
   "source": [
    "## Another problem\n",
    "\n",
    "In a factory that produces electronic components, there are two types of machines: Machine X and Machine Y. Machine X produces 45% of the components, while Machine Y produces the remaining 55%. It is known that 6% of the components produced by Machine X are faulty, while 8% of the components produced by Machine Y are faulty. If a randomly selected component is faulty, what is the probability that it was produced by Machine X?"
   ]
  },
  {
   "cell_type": "code",
   "execution_count": 16,
   "id": "105b0a5f",
   "metadata": {},
   "outputs": [
    {
     "name": "stdout",
     "output_type": "stream",
     "text": [
      "Probability of selecting Machine X: 45.00%\n",
      "Probability of selecting Machine Y: 55.00%\n",
      "\n",
      "Probability of a Faulty Component (Evidence): 7.10%\n",
      "\n",
      "Probability that the Faulty Component was Produced by Machine X: 38.03%\n"
     ]
    }
   ],
   "source": [
    "# Given probabilities\n",
    "prior_prob_machine_X = 0.45  # Probability of selecting Machine X\n",
    "prior_prob_machine_Y = 0.55  # Probability of selecting Machine Y\n",
    "\n",
    "faulty_given_X = 0.06  # Probability of a faulty component given Machine X\n",
    "faulty_given_Y = 0.08  # Probability of a faulty component given Machine Y\n",
    "\n",
    "# Probability of a faulty component (evidence)\n",
    "prob_faulty = (faulty_given_X * prior_prob_machine_X) + (faulty_given_Y * prior_prob_machine_Y)\n",
    "\n",
    "# Applying Bayes' Theorem to find the probability that the faulty component was produced by Machine X\n",
    "posterior_prob_machine_X = bayes_theorem(prior_prob_machine_X, faulty_given_X, prob_faulty)\n",
    "\n",
    "# Display results\n",
    "print(\"Probability of selecting Machine X: {:.2%}\".format(prior_prob_machine_X))\n",
    "print(\"Probability of selecting Machine Y: {:.2%}\".format(prior_prob_machine_Y))\n",
    "print(\"\\nProbability of a Faulty Component (Evidence): {:.2%}\".format(prob_faulty))\n",
    "print(\"\\nProbability that the Faulty Component was Produced by Machine X: {:.2%}\".format(posterior_prob_machine_X))\n"
   ]
  },
  {
   "cell_type": "markdown",
   "id": "c3c5680d",
   "metadata": {},
   "source": [
    "The prior probabilities (P(A) and P(B)) represent the probability of selecting Machine X or Machine Y.\n",
    "The likelihoods (P(B∣A) and P(B∣¬A)) represent the probability of a faulty component given the machine.\n",
    "The evidence (P(B)) is the probability of a faulty component.\n",
    "Bayes' Theorem is then applied to find the probability that the faulty component was produced by Machine X given that it is faulty."
   ]
  },
  {
   "cell_type": "code",
   "execution_count": null,
   "id": "b7eafda5",
   "metadata": {},
   "outputs": [],
   "source": []
  }
 ],
 "metadata": {
  "kernelspec": {
   "display_name": "Python 3",
   "language": "python",
   "name": "python3"
  },
  "language_info": {
   "codemirror_mode": {
    "name": "ipython",
    "version": 3
   },
   "file_extension": ".py",
   "mimetype": "text/x-python",
   "name": "python",
   "nbconvert_exporter": "python",
   "pygments_lexer": "ipython3",
   "version": "3.8.8"
  }
 },
 "nbformat": 4,
 "nbformat_minor": 5
}
