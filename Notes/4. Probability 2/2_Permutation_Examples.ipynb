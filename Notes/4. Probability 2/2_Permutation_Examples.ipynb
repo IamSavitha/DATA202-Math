{
 "cells": [
  {
   "cell_type": "markdown",
   "id": "140efd7b",
   "metadata": {},
   "source": [
    "# Factorial Example\n"
   ]
  },
  {
   "cell_type": "code",
   "execution_count": 1,
   "id": "71f2a8d4",
   "metadata": {},
   "outputs": [
    {
     "name": "stdout",
     "output_type": "stream",
     "text": [
      "120\n"
     ]
    }
   ],
   "source": [
    "def myFactorial(n):\n",
    "    if n == 0:\n",
    "        return 1\n",
    "    else:\n",
    "        return n * myFactorial(n-1)\n",
    "\n",
    "# Example usage\n",
    "print(myFactorial(5))"
   ]
  },
  {
   "cell_type": "markdown",
   "id": "b49e30c8",
   "metadata": {},
   "source": [
    "\n",
    "# Permutation Examples\n",
    "\n",
    "This notebook contains examples and solutions for permutation problems.\n"
   ]
  },
  {
   "cell_type": "markdown",
   "id": "8f9ddb0d",
   "metadata": {},
   "source": [
    "\n",
    "## Example 1\n",
    "\n",
    "**Problem**: How many different ways can 4 students be seated in a row of 4 chairs?\n",
    "\n",
    "**Solution**:\n",
    "- This is a permutation problem where we need to arrange 4 students in 4 chairs.\n",
    "- The permutation formula is P(n, r) = n! / (n-r)!\n",
    "- Here, n = 4 (students) and r = 4 (chairs).\n"
   ]
  },
  {
   "cell_type": "code",
   "execution_count": 2,
   "id": "4dac9e07",
   "metadata": {},
   "outputs": [
    {
     "data": {
      "text/plain": [
       "24.0"
      ]
     },
     "execution_count": 2,
     "metadata": {},
     "output_type": "execute_result"
    }
   ],
   "source": [
    "\n",
    "from math import factorial\n",
    "\n",
    "n = 4  # total students\n",
    "r = 4  # chairs\n",
    "\n",
    "permutations = factorial(n) / factorial(n - r)\n",
    "permutations\n"
   ]
  },
  {
   "cell_type": "markdown",
   "id": "edbeebe3",
   "metadata": {},
   "source": [
    "\n",
    "## Example 2\n",
    "\n",
    "**Problem**: In a race with 6 runners, how many different ways can the first, second, and third places be determined?\n",
    "\n",
    "**Solution**:\n",
    "- Again, this is a permutation problem to determine the top 3 positions out of 6 runners.\n",
    "- Using the permutation formula P(n, r).\n",
    "- Here, n = 6 (runners) and r = 3 (top positions).\n"
   ]
  },
  {
   "cell_type": "code",
   "execution_count": 3,
   "id": "a01d47d7",
   "metadata": {},
   "outputs": [
    {
     "data": {
      "text/plain": [
       "120.0"
      ]
     },
     "execution_count": 3,
     "metadata": {},
     "output_type": "execute_result"
    }
   ],
   "source": [
    "\n",
    "n = 6  # runners\n",
    "r = 3  # top positions\n",
    "permutations = factorial(n) / factorial(n - r)\n",
    "permutations\n"
   ]
  },
  {
   "cell_type": "markdown",
   "id": "c1ee72ea",
   "metadata": {},
   "source": [
    "## Permutations of a list by recursion"
   ]
  },
  {
   "cell_type": "code",
   "execution_count": 4,
   "id": "795d6576",
   "metadata": {},
   "outputs": [
    {
     "name": "stdout",
     "output_type": "stream",
     "text": [
      "[[1, 2, 3], [1, 3, 2], [2, 1, 3], [2, 3, 1], [3, 1, 2], [3, 2, 1]]\n"
     ]
    }
   ],
   "source": [
    "def permutation(lst):\n",
    "    if len(lst) == 0:\n",
    "        return []\n",
    "    if len(lst) == 1:\n",
    "        return [lst]\n",
    "\n",
    "    l = [] # List to store permutations\n",
    "\n",
    "    for i in range(len(lst)):\n",
    "        m = lst[i]                    # current element \n",
    "        remLst = lst[:i] + lst[i+1:]  # everything else\n",
    "\n",
    "        for p in permutation(remLst):\n",
    "            l.append([m] + p)\n",
    "    return l\n",
    "\n",
    "# Example usage\n",
    "print(permutation([1, 2, 3]))"
   ]
  },
  {
   "cell_type": "code",
   "execution_count": null,
   "id": "b61e47f9",
   "metadata": {},
   "outputs": [],
   "source": []
  },
  {
   "cell_type": "markdown",
   "id": "545cbd0a",
   "metadata": {},
   "source": [
    "\n",
    "# Combination Examples\n",
    "\n",
    "This notebook contains examples and solutions for combination problems.\n"
   ]
  },
  {
   "cell_type": "markdown",
   "id": "65410da3",
   "metadata": {},
   "source": [
    "\n",
    "## Example 1\n",
    "\n",
    "**Problem**: From a class of 30 students, how many ways can you select a group of 4 students for a project team?\n",
    "\n",
    "**Solution**:\n",
    "- This is a combination problem where we need to select 4 students out of 30 without considering the order.\n",
    "- The combination formula is C(n, r) = n! / [r!(n-r)!]\n",
    "- Here, n = 30 (total students) and r = 4 (students to choose).\n"
   ]
  },
  {
   "cell_type": "code",
   "execution_count": 5,
   "id": "45036095",
   "metadata": {},
   "outputs": [
    {
     "data": {
      "text/plain": [
       "27405.0"
      ]
     },
     "execution_count": 5,
     "metadata": {},
     "output_type": "execute_result"
    }
   ],
   "source": [
    "\n",
    "from math import factorial\n",
    "\n",
    "n = 30  # total students\n",
    "r = 4   # students to choose\n",
    "combinations = factorial(n) / (factorial(r) * factorial(n - r))\n",
    "combinations\n"
   ]
  },
  {
   "cell_type": "markdown",
   "id": "c27828e7",
   "metadata": {},
   "source": [
    "\n",
    "## Example 2\n",
    "\n",
    "**Problem**: In a lottery, you have to choose 6 numbers out of 49. How many different combinations of numbers can you choose?\n",
    "\n",
    "**Solution**:\n",
    "- This is a combination problem, as the order in which the numbers are chosen does not matter.\n",
    "- Using the combination formula C(n, r).\n",
    "- Here, n = 49 (total numbers) and r = 6 (numbers to choose).\n"
   ]
  },
  {
   "cell_type": "code",
   "execution_count": 6,
   "id": "3ac5d170",
   "metadata": {},
   "outputs": [
    {
     "data": {
      "text/plain": [
       "13983816.0"
      ]
     },
     "execution_count": 6,
     "metadata": {},
     "output_type": "execute_result"
    }
   ],
   "source": [
    "\n",
    "n = 49  # total numbers\n",
    "r = 6   # numbers to choose\n",
    "combinations = factorial(n) / (factorial(r) * factorial(n - r))\n",
    "combinations\n"
   ]
  },
  {
   "cell_type": "code",
   "execution_count": null,
   "id": "3d2f1cb8-c593-4497-9949-e4d3cbb39d8f",
   "metadata": {},
   "outputs": [],
   "source": []
  }
 ],
 "metadata": {
  "kernelspec": {
   "display_name": "Python 3",
   "language": "python",
   "name": "python3"
  },
  "language_info": {
   "codemirror_mode": {
    "name": "ipython",
    "version": 3
   },
   "file_extension": ".py",
   "mimetype": "text/x-python",
   "name": "python",
   "nbconvert_exporter": "python",
   "pygments_lexer": "ipython3",
   "version": "3.8.8"
  }
 },
 "nbformat": 4,
 "nbformat_minor": 5
}
