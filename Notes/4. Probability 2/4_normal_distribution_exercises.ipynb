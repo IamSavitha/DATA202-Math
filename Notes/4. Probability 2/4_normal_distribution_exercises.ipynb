{
 "cells": [
  {
   "cell_type": "markdown",
   "id": "e98132df",
   "metadata": {},
   "source": [
    "### Exercise 1\n",
    "Given a normal distribution with a mean of 50 and a standard deviation of 5, calculate the probability of a value less than 45."
   ]
  },
  {
   "cell_type": "code",
   "execution_count": 1,
   "id": "34b76918",
   "metadata": {},
   "outputs": [
    {
     "name": "stdout",
     "output_type": "stream",
     "text": [
      "Probability: 0.1587\n"
     ]
    }
   ],
   "source": [
    "from scipy.stats import norm\n",
    "\n",
    "# Parameters\n",
    "mu = 50\n",
    "sigma = 5\n",
    "\n",
    "# Calculating the probability\n",
    "prob = norm.cdf(45, mu, sigma)\n",
    "print(f'Probability: {prob:.4f}')"
   ]
  },
  {
   "cell_type": "markdown",
   "id": "6c0feea6",
   "metadata": {},
   "source": [
    "### Exercise 2\n",
    "Convert a value of 60 from a normal distribution with a mean of 50 and a standard deviation of 10 to a z-score."
   ]
  },
  {
   "cell_type": "code",
   "execution_count": 2,
   "id": "f2de6d6b",
   "metadata": {},
   "outputs": [
    {
     "name": "stdout",
     "output_type": "stream",
     "text": [
      "Z-score: 1.00\n"
     ]
    }
   ],
   "source": [
    "# Parameters\n",
    "mu = 50\n",
    "sigma = 10\n",
    "x = 60\n",
    "\n",
    "# Calculating the z-score\n",
    "z = (x - mu) / sigma\n",
    "print(f'Z-score: {z:.2f}')"
   ]
  },
  {
   "cell_type": "markdown",
   "id": "1c6d6e1a",
   "metadata": {},
   "source": [
    "### Exercise 3\n",
    "For a standard normal distribution, find the probability of a value greater than 1.5."
   ]
  },
  {
   "cell_type": "code",
   "execution_count": 3,
   "id": "0b77e433",
   "metadata": {},
   "outputs": [
    {
     "name": "stdout",
     "output_type": "stream",
     "text": [
      "Probability: 0.0668\n"
     ]
    }
   ],
   "source": [
    "from scipy.stats import norm\n",
    "\n",
    "# Calculating the probability\n",
    "prob = 1 - norm.cdf(1.5)\n",
    "print(f'Probability: {prob:.4f}')"
   ]
  },
  {
   "cell_type": "markdown",
   "id": "e683e0b1",
   "metadata": {},
   "source": [
    "### Exercise 4\n",
    "Given a normal distribution with a mean of 100 and a standard deviation of 15, find the 95th percentile."
   ]
  },
  {
   "cell_type": "code",
   "execution_count": 4,
   "id": "96554fe4",
   "metadata": {},
   "outputs": [
    {
     "name": "stdout",
     "output_type": "stream",
     "text": [
      "95th Percentile: 124.67\n"
     ]
    }
   ],
   "source": [
    "from scipy.stats import norm\n",
    "\n",
    "# Parameters\n",
    "mu = 100\n",
    "sigma = 15\n",
    "\n",
    "# Calculating the 95th percentile\n",
    "percentile = norm.ppf(0.95, mu, sigma)\n",
    "print(f'95th Percentile: {percentile:.2f}')"
   ]
  }
 ],
 "metadata": {
  "kernelspec": {
   "display_name": "Python 3",
   "language": "python",
   "name": "python3"
  },
  "language_info": {
   "codemirror_mode": {
    "name": "ipython",
    "version": 3
   },
   "file_extension": ".py",
   "mimetype": "text/x-python",
   "name": "python",
   "nbconvert_exporter": "python",
   "pygments_lexer": "ipython3",
   "version": "3.8.8"
  }
 },
 "nbformat": 4,
 "nbformat_minor": 5
}
