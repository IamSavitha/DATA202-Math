{
 "cells": [
  {
   "cell_type": "markdown",
   "id": "8d781a00",
   "metadata": {},
   "source": [
    "\n",
    "# Expected Value in a Dice Roll\n",
    "\n",
    "This notebook demonstrates the calculation of the expected value in a simple scenario: a fair dice roll.\n",
    "\n",
    "## Scenario Description:\n",
    "- The outcomes are the numbers 1 to 6 on a dice.\n",
    "- Each outcome has an equal probability of occurring (1/6), as it is a fair dice.\n",
    "\n",
    "## Calculation:\n",
    "- The expected value is calculated as the sum of the product of each outcome and its probability.\n",
    "- The plot visualizes the probability distribution and the expected value.\n"
   ]
  },
  {
   "cell_type": "code",
   "execution_count": 2,
   "id": "0a169e52",
   "metadata": {},
   "outputs": [
    {
     "name": "stdout",
     "output_type": "stream",
     "text": [
      "expected_value= 3.5\n"
     ]
    },
    {
     "data": {
      "image/png": "[encoded data removed]",
      "text/plain": [
       "<Figure size 432x288 with 1 Axes>"
      ]
     },
     "metadata": {
      "needs_background": "light"
     },
     "output_type": "display_data"
    }
   ],
   "source": [
    "\n",
    "import numpy as np\n",
    "import matplotlib.pyplot as plt\n",
    "\n",
    "# Define the outcomes of a dice roll (1 to 6)\n",
    "outcomes = np.array([1, 2, 3, 4, 5, 6])\n",
    "\n",
    "# Since it's a fair dice, each outcome has an equal probability of 1/6\n",
    "# Return a new array with the same shape and type as a given array filled with a fill_value\n",
    "probabilities = np.full(6, 1/6)\n",
    "\n",
    "# Calculate the expected value\n",
    "expected_value = np.sum(outcomes * probabilities)\n",
    "\n",
    "print('expected_value=', expected_value)\n",
    "\n",
    "# Plotting the outcomes and their probabilities\n",
    "plt.bar(outcomes, probabilities)\n",
    "plt.xlabel('Dice Roll Outcome')\n",
    "plt.ylabel('Probability')\n",
    "plt.title('Probability Distribution of a Fair Dice Roll')\n",
    "plt.ylim(0, 1/6 + 0.05)\n",
    "plt.xticks(outcomes)\n",
    "plt.show()\n"
   ]
  },
  {
   "cell_type": "markdown",
   "id": "c9d2a594",
   "metadata": {},
   "source": [
    "## Scenario Description:\n",
    "- In this game, players pick a number between 1 and 10.\n",
    "- Each number has a different probability of being drawn.\n",
    "- The prize amount is the square of the number chosen.\n",
    "\n",
    "## Calculation:\n",
    "- The expected value is calculated as the sum of the product of the prize amount and its associated probability for each number."
   ]
  },
  {
   "cell_type": "code",
   "execution_count": 4,
   "id": "257fdccb",
   "metadata": {},
   "outputs": [
    {
     "data": {
      "text/plain": [
       "(   Number  Probability  Prize Amount\n",
       " 0       1     0.013033             1\n",
       " 1       2     0.153997             4\n",
       " 2       3     0.061509             9\n",
       " 3       4     0.171893            16\n",
       " 4       5     0.190462            25\n",
       " 5       6     0.138173            36\n",
       " 6       7     0.036948            49\n",
       " 7       8     0.104591            64\n",
       " 8       9     0.056285            81\n",
       " 9      10     0.073111           100,\n",
       " 34.043084946890446)"
      ]
     },
     "execution_count": 4,
     "metadata": {},
     "output_type": "execute_result"
    }
   ],
   "source": [
    "import numpy as np\n",
    "import pandas as pd\n",
    "\n",
    "# Define a hypothetical lottery game scenario\n",
    "lottery_numbers = np.arange(1, 11)  # Numbers from 1 to 10\n",
    "probabilities = np.random.random(10)  # Random probabilities for each number\n",
    "probabilities /= probabilities.sum()  # Normalize to sum to 1\n",
    "\n",
    "# Define prize amounts for each number (for simplicity, let's say it's just the number squared)\n",
    "prizes = lottery_numbers ** 2\n",
    "\n",
    "# Calculate the expected value\n",
    "expected_value_lottery = np.sum(prizes * probabilities)\n",
    "\n",
    "# Create a DataFrame for better visualization\n",
    "lottery_df = pd.DataFrame({\n",
    "    'Number': lottery_numbers,\n",
    "    'Probability': probabilities,\n",
    "    'Prize Amount': prizes\n",
    "})\n",
    "\n",
    "lottery_df, expected_value_lottery"
   ]
  },
  {
   "cell_type": "code",
   "execution_count": null,
   "id": "dd93cadc",
   "metadata": {},
   "outputs": [],
   "source": []
  }
 ],
 "metadata": {
  "kernelspec": {
   "display_name": "Python 3",
   "language": "python",
   "name": "python3"
  },
  "language_info": {
   "codemirror_mode": {
    "name": "ipython",
    "version": 3
   },
   "file_extension": ".py",
   "mimetype": "text/x-python",
   "name": "python",
   "nbconvert_exporter": "python",
   "pygments_lexer": "ipython3",
   "version": "3.8.8"
  }
 },
 "nbformat": 4,
 "nbformat_minor": 5
}
