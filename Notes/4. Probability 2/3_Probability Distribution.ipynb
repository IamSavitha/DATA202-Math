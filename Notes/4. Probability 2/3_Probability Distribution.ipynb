{
 "cells": [
  {
   "cell_type": "markdown",
   "id": "27734b78",
   "metadata": {},
   "source": [
    "## Binomial Distribution"
   ]
  },
  {
   "cell_type": "code",
   "execution_count": 1,
   "id": "ed63065c",
   "metadata": {},
   "outputs": [],
   "source": [
    "from scipy import stats\n",
    "import numpy as np\n",
    "import matplotlib.pyplot as plt"
   ]
  },
  {
   "cell_type": "code",
   "execution_count": 2,
   "id": "67f964e5",
   "metadata": {},
   "outputs": [],
   "source": [
    "B = stats.binom(50, 0.7)"
   ]
  },
  {
   "cell_type": "code",
   "execution_count": 3,
   "id": "602c746b",
   "metadata": {},
   "outputs": [
    {
     "data": {
      "text/plain": [
       "0.9211493751769437"
      ]
     },
     "execution_count": 3,
     "metadata": {},
     "output_type": "execute_result"
    }
   ],
   "source": [
    "B.cdf(39)"
   ]
  },
  {
   "cell_type": "code",
   "execution_count": 4,
   "id": "32255906",
   "metadata": {},
   "outputs": [
    {
     "name": "stdout",
     "output_type": "stream",
     "text": [
      "Probability that at least 40 students will do their homework on time:  0.07885062482305627\n"
     ]
    }
   ],
   "source": [
    "print(\"Probability that at least 40 students will do their homework on time: \", 1-B.cdf(39))"
   ]
  },
  {
   "cell_type": "code",
   "execution_count": null,
   "id": "6d3172c5",
   "metadata": {},
   "outputs": [],
   "source": []
  }
 ],
 "metadata": {
  "kernelspec": {
   "display_name": "Python 3",
   "language": "python",
   "name": "python3"
  },
  "language_info": {
   "codemirror_mode": {
    "name": "ipython",
    "version": 3
   },
   "file_extension": ".py",
   "mimetype": "text/x-python",
   "name": "python",
   "nbconvert_exporter": "python",
   "pygments_lexer": "ipython3",
   "version": "3.8.8"
  }
 },
 "nbformat": 4,
 "nbformat_minor": 5
}
