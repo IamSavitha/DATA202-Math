{
 "cells": [
  {
   "cell_type": "markdown",
   "id": "44c46731",
   "metadata": {},
   "source": [
    "\n",
    "## Critical Value Calculation using scipy.stats.norm.ppf\n",
    "\n",
    "This notebook demonstrates how to use the `scipy.stats.norm.ppf` function in Python to find critical values for a given α (alpha) value. This approach is an alternative to looking up critical values in a statistical table.\n"
   ]
  },
  {
   "cell_type": "code",
   "execution_count": 1,
   "id": "ac3736b6",
   "metadata": {},
   "outputs": [
    {
     "data": {
      "text/plain": [
       "(1.959963984540054, 1.6448536269514722, -1.6448536269514729)"
      ]
     },
     "execution_count": 1,
     "metadata": {},
     "output_type": "execute_result"
    }
   ],
   "source": [
    "\n",
    "import scipy.stats as stats\n",
    "\n",
    "# Example: Using scipy.stats.norm.ppf to find critical values\n",
    "\n",
    "# Assuming a common alpha value for demonstration\n",
    "alpha = 0.05\n",
    "\n",
    "# Finding the critical value for a two-tailed test\n",
    "# For a two-tailed test, we look at the tails on both sides of the normal distribution\n",
    "critical_value_two_tailed = stats.norm.ppf(1 - alpha/2)\n",
    "\n",
    "# Finding the critical value for a one-tailed test (right-tailed)\n",
    "# For a right-tailed test, we look at the upper tail of the normal distribution\n",
    "critical_value_right_tailed = stats.norm.ppf(1 - alpha)\n",
    "\n",
    "# Finding the critical value for a one-tailed test (left-tailed)\n",
    "# For a left-tailed test, we look at the lower tail of the normal distribution\n",
    "critical_value_left_tailed = stats.norm.ppf(alpha)\n",
    "\n",
    "critical_value_two_tailed, critical_value_right_tailed, critical_value_left_tailed\n"
   ]
  },
  {
   "cell_type": "code",
   "execution_count": null,
   "id": "76d38bb7",
   "metadata": {},
   "outputs": [],
   "source": []
  }
 ],
 "metadata": {
  "kernelspec": {
   "display_name": "Python 3",
   "language": "python",
   "name": "python3"
  },
  "language_info": {
   "codemirror_mode": {
    "name": "ipython",
    "version": 3
   },
   "file_extension": ".py",
   "mimetype": "text/x-python",
   "name": "python",
   "nbconvert_exporter": "python",
   "pygments_lexer": "ipython3",
   "version": "3.8.8"
  }
 },
 "nbformat": 4,
 "nbformat_minor": 5
}
