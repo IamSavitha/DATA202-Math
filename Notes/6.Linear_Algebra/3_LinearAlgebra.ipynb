{
 "cells": [
  {
   "cell_type": "code",
   "execution_count": 8,
   "metadata": {},
   "outputs": [],
   "source": [
    "import numpy as np"
   ]
  },
  {
   "cell_type": "code",
   "execution_count": 9,
   "metadata": {
    "collapsed": false,
    "editable": true,
    "jupyter": {
     "outputs_hidden": false
    }
   },
   "outputs": [],
   "source": [
    "x = np.array([[1., 2., 3.], [4., 5., 6.]])\n",
    "y = np.array([[6., 23.], [-1, 7], [8, 9]])"
   ]
  },
  {
   "cell_type": "code",
   "execution_count": 10,
   "metadata": {},
   "outputs": [
    {
     "data": {
      "text/plain": [
       "array([[1., 2., 3.],\n",
       "       [4., 5., 6.]])"
      ]
     },
     "execution_count": 10,
     "metadata": {},
     "output_type": "execute_result"
    }
   ],
   "source": [
    "x"
   ]
  },
  {
   "cell_type": "code",
   "execution_count": 11,
   "metadata": {},
   "outputs": [
    {
     "data": {
      "text/plain": [
       "array([[ 6., 23.],\n",
       "       [-1.,  7.],\n",
       "       [ 8.,  9.]])"
      ]
     },
     "execution_count": 11,
     "metadata": {},
     "output_type": "execute_result"
    }
   ],
   "source": [
    "y"
   ]
  },
  {
   "cell_type": "code",
   "execution_count": 12,
   "metadata": {},
   "outputs": [
    {
     "data": {
      "text/plain": [
       "array([[ 28.,  64.],\n",
       "       [ 67., 181.]])"
      ]
     },
     "execution_count": 12,
     "metadata": {},
     "output_type": "execute_result"
    }
   ],
   "source": [
    "x.dot(y)"
   ]
  },
  {
   "cell_type": "code",
   "execution_count": 13,
   "metadata": {
    "collapsed": false,
    "editable": true,
    "jupyter": {
     "outputs_hidden": false
    }
   },
   "outputs": [
    {
     "data": {
      "text/plain": [
       "array([[ 28.,  64.],\n",
       "       [ 67., 181.]])"
      ]
     },
     "execution_count": 13,
     "metadata": {},
     "output_type": "execute_result"
    }
   ],
   "source": [
    "np.dot(x, y)"
   ]
  },
  {
   "cell_type": "code",
   "execution_count": 14,
   "metadata": {},
   "outputs": [
    {
     "data": {
      "text/plain": [
       "array([[1., 2., 3.],\n",
       "       [4., 5., 6.]])"
      ]
     },
     "execution_count": 14,
     "metadata": {},
     "output_type": "execute_result"
    }
   ],
   "source": [
    "x"
   ]
  },
  {
   "cell_type": "code",
   "execution_count": 15,
   "metadata": {},
   "outputs": [
    {
     "data": {
      "text/plain": [
       "array([1., 1., 1.])"
      ]
     },
     "execution_count": 15,
     "metadata": {},
     "output_type": "execute_result"
    }
   ],
   "source": [
    "np.ones(3)"
   ]
  },
  {
   "cell_type": "code",
   "execution_count": 16,
   "metadata": {
    "collapsed": false,
    "editable": true,
    "jupyter": {
     "outputs_hidden": false
    }
   },
   "outputs": [
    {
     "data": {
      "text/plain": [
       "array([ 6., 15.])"
      ]
     },
     "execution_count": 16,
     "metadata": {},
     "output_type": "execute_result"
    }
   ],
   "source": [
    "np.dot(x, np.ones(3))"
   ]
  },
  {
   "cell_type": "code",
   "execution_count": 17,
   "metadata": {
    "collapsed": false,
    "editable": true,
    "jupyter": {
     "outputs_hidden": false
    }
   },
   "outputs": [
    {
     "data": {
      "text/plain": [
       "array([ 6., 15.])"
      ]
     },
     "execution_count": 17,
     "metadata": {},
     "output_type": "execute_result"
    }
   ],
   "source": [
    "x @ np.ones(3)"
   ]
  },
  {
   "cell_type": "code",
   "execution_count": 18,
   "metadata": {
    "collapsed": false,
    "editable": true,
    "jupyter": {
     "outputs_hidden": false
    }
   },
   "outputs": [
    {
     "data": {
      "text/plain": [
       "array([[ 0.241, -0.861, -0.325,  0.478, -0.016],\n",
       "       [ 1.   ,  0.74 , -1.123,  1.415, -0.936],\n",
       "       [-0.658,  0.722, -0.225, -0.018, -0.774],\n",
       "       [-0.705, -0.34 ,  1.796, -0.626, -0.347],\n",
       "       [ 0.72 , -0.361, -0.415, -0.153,  0.411]])"
      ]
     },
     "execution_count": 18,
     "metadata": {},
     "output_type": "execute_result"
    }
   ],
   "source": [
    "from numpy.linalg import inv, qr\n",
    "\n",
    "%precision 3\n",
    "X = np.random.randn(5, 5)\n",
    "X"
   ]
  },
  {
   "cell_type": "code",
   "execution_count": 19,
   "metadata": {},
   "outputs": [
    {
     "data": {
      "text/plain": [
       "array([[ 0.241,  1.   , -0.658, -0.705,  0.72 ],\n",
       "       [-0.861,  0.74 ,  0.722, -0.34 , -0.361],\n",
       "       [-0.325, -1.123, -0.225,  1.796, -0.415],\n",
       "       [ 0.478,  1.415, -0.018, -0.626, -0.153],\n",
       "       [-0.016, -0.936, -0.774, -0.347,  0.411]])"
      ]
     },
     "execution_count": 19,
     "metadata": {},
     "output_type": "execute_result"
    }
   ],
   "source": [
    "X.T  # transpose of matrix X"
   ]
  },
  {
   "cell_type": "code",
   "execution_count": 20,
   "metadata": {},
   "outputs": [
    {
     "data": {
      "text/plain": [
       "array([[ 2.506,  0.037, -2.618,  1.872,  0.111],\n",
       "       [ 0.037,  2.055, -1.174,  0.891, -1.267],\n",
       "       [-2.618, -1.174,  4.817, -2.801,  0.436],\n",
       "       [ 1.872,  0.891, -2.801,  2.646, -1.164],\n",
       "       [ 0.111, -1.267,  0.436, -1.164,  1.765]])"
      ]
     },
     "execution_count": 20,
     "metadata": {},
     "output_type": "execute_result"
    }
   ],
   "source": [
    "mat = X.T.dot(X)\n",
    "mat"
   ]
  },
  {
   "cell_type": "code",
   "execution_count": 21,
   "metadata": {},
   "outputs": [
    {
     "data": {
      "text/plain": [
       "array([[ 2.506,  0.037, -2.618,  1.872,  0.111],\n",
       "       [ 0.037,  2.055, -1.174,  0.891, -1.267],\n",
       "       [-2.618, -1.174,  4.817, -2.801,  0.436],\n",
       "       [ 1.872,  0.891, -2.801,  2.646, -1.164],\n",
       "       [ 0.111, -1.267,  0.436, -1.164,  1.765]])"
      ]
     },
     "execution_count": 21,
     "metadata": {},
     "output_type": "execute_result"
    }
   ],
   "source": [
    "mat2 = X.T@X\n",
    "mat2"
   ]
  },
  {
   "cell_type": "code",
   "execution_count": 22,
   "metadata": {},
   "outputs": [
    {
     "data": {
      "text/plain": [
       "array([[ 2.074e+00, -1.041e-01,  3.924e-03, -2.140e+00, -1.617e+00],\n",
       "       [-1.041e-01,  1.470e+00,  8.567e-01,  1.211e+00,  1.649e+00],\n",
       "       [ 3.924e-03,  8.567e-01,  1.245e+00,  1.637e+00,  1.387e+00],\n",
       "       [-2.140e+00,  1.211e+00,  1.637e+00,  4.903e+00,  3.833e+00],\n",
       "       [-1.617e+00,  1.649e+00,  1.387e+00,  3.833e+00,  4.037e+00]])"
      ]
     },
     "execution_count": 22,
     "metadata": {},
     "output_type": "execute_result"
    }
   ],
   "source": [
    "inv(mat)"
   ]
  },
  {
   "cell_type": "code",
   "execution_count": 23,
   "metadata": {},
   "outputs": [
    {
     "data": {
      "text/plain": [
       "array([[ 1.000e+00, -2.972e-16, -1.609e-16, -1.748e-15, -9.550e-16],\n",
       "       [-1.396e-16,  1.000e+00,  2.471e-16,  6.594e-16,  1.575e-15],\n",
       "       [-2.302e-16,  1.286e-16,  1.000e+00, -3.654e-17, -7.659e-16],\n",
       "       [ 5.529e-16,  2.509e-16, -1.796e-16,  1.000e+00,  6.548e-16],\n",
       "       [-1.631e-16, -1.082e-16,  1.864e-16, -1.165e-16,  1.000e+00]])"
      ]
     },
     "execution_count": 23,
     "metadata": {},
     "output_type": "execute_result"
    }
   ],
   "source": [
    "mat.dot(inv(mat))"
   ]
  },
  {
   "cell_type": "code",
   "execution_count": 24,
   "metadata": {},
   "outputs": [],
   "source": [
    "Q, R = qr(X)  # decompose matrix X into factors orthogonal Q and upper-triangular R"
   ]
  },
  {
   "cell_type": "code",
   "execution_count": 25,
   "metadata": {},
   "outputs": [
    {
     "data": {
      "text/plain": [
       "array([[-1.583, -0.023,  1.654, -1.183, -0.07 ],\n",
       "       [ 0.   , -1.433,  0.793, -0.603,  0.885],\n",
       "       [ 0.   ,  0.   ,  1.206, -0.305, -0.124],\n",
       "       [ 0.   ,  0.   ,  0.   , -0.889,  0.844],\n",
       "       [ 0.   ,  0.   ,  0.   ,  0.   , -0.498]])"
      ]
     },
     "execution_count": 25,
     "metadata": {},
     "output_type": "execute_result"
    }
   ],
   "source": [
    "R"
   ]
  },
  {
   "cell_type": "code",
   "execution_count": 26,
   "metadata": {},
   "outputs": [
    {
     "data": {
      "text/plain": [
       "array([[-0.152,  0.603, -0.457, -0.586,  0.247],\n",
       "       [-0.632, -0.506,  0.267, -0.5  ,  0.154],\n",
       "       [ 0.416, -0.51 , -0.422, -0.043,  0.622],\n",
       "       [ 0.445,  0.23 ,  0.728, -0.293,  0.364],\n",
       "       [-0.455,  0.259,  0.109,  0.564,  0.629]])"
      ]
     },
     "execution_count": 26,
     "metadata": {},
     "output_type": "execute_result"
    }
   ],
   "source": [
    "Q"
   ]
  },
  {
   "cell_type": "code",
   "execution_count": 27,
   "metadata": {},
   "outputs": [
    {
     "data": {
      "text/plain": [
       "array([[-0.152, -0.632,  0.416,  0.445, -0.455],\n",
       "       [ 0.603, -0.506, -0.51 ,  0.23 ,  0.259],\n",
       "       [-0.457,  0.267, -0.422,  0.728,  0.109],\n",
       "       [-0.586, -0.5  , -0.043, -0.293,  0.564],\n",
       "       [ 0.247,  0.154,  0.622,  0.364,  0.629]])"
      ]
     },
     "execution_count": 27,
     "metadata": {},
     "output_type": "execute_result"
    }
   ],
   "source": [
    "Q.T"
   ]
  },
  {
   "cell_type": "code",
   "execution_count": 28,
   "metadata": {},
   "outputs": [
    {
     "data": {
      "text/plain": [
       "array([[ 1.000e+00,  7.185e-17, -3.634e-17, -6.458e-17,  5.426e-17],\n",
       "       [ 7.185e-17,  1.000e+00, -4.115e-17,  3.570e-17,  9.169e-17],\n",
       "       [-3.634e-17, -4.115e-17,  1.000e+00,  3.364e-17, -4.806e-17],\n",
       "       [-6.458e-17,  3.570e-17,  3.364e-17,  1.000e+00, -1.005e-18],\n",
       "       [ 5.426e-17,  9.169e-17, -4.806e-17, -1.005e-18,  1.000e+00]])"
      ]
     },
     "execution_count": 28,
     "metadata": {},
     "output_type": "execute_result"
    }
   ],
   "source": [
    "Q@Q.T  # should be the identity matrix I"
   ]
  },
  {
   "cell_type": "code",
   "execution_count": 29,
   "metadata": {},
   "outputs": [
    {
     "data": {
      "text/plain": [
       "array([[-0.152, -0.632,  0.416,  0.445, -0.455],\n",
       "       [ 0.603, -0.506, -0.51 ,  0.23 ,  0.259],\n",
       "       [-0.457,  0.267, -0.422,  0.728,  0.109],\n",
       "       [-0.586, -0.5  , -0.043, -0.293,  0.564],\n",
       "       [ 0.247,  0.154,  0.622,  0.364,  0.629]])"
      ]
     },
     "execution_count": 29,
     "metadata": {},
     "output_type": "execute_result"
    }
   ],
   "source": [
    "inv(Q)  # should equal Q.T"
   ]
  },
  {
   "cell_type": "code",
   "execution_count": 30,
   "metadata": {},
   "outputs": [
    {
     "data": {
      "text/plain": [
       "array([[ 0.241, -0.861, -0.325,  0.478, -0.016],\n",
       "       [ 1.   ,  0.74 , -1.123,  1.415, -0.936],\n",
       "       [-0.658,  0.722, -0.225, -0.018, -0.774],\n",
       "       [-0.705, -0.34 ,  1.796, -0.626, -0.347],\n",
       "       [ 0.72 , -0.361, -0.415, -0.153,  0.411]])"
      ]
     },
     "execution_count": 30,
     "metadata": {},
     "output_type": "execute_result"
    }
   ],
   "source": [
    "Q@R  # Q@R should equal X"
   ]
  },
  {
   "cell_type": "code",
   "execution_count": null,
   "metadata": {},
   "outputs": [],
   "source": []
  }
 ],
 "metadata": {
  "kernelspec": {
   "display_name": "Python 3",
   "language": "python",
   "name": "python3"
  },
  "language_info": {
   "codemirror_mode": {
    "name": "ipython",
    "version": 3
   },
   "file_extension": ".py",
   "mimetype": "text/x-python",
   "name": "python",
   "nbconvert_exporter": "python",
   "pygments_lexer": "ipython3",
   "version": "3.8.8"
  }
 },
 "nbformat": 4,
 "nbformat_minor": 4
}
