{
 "cells": [
  {
   "cell_type": "code",
   "execution_count": 3,
   "id": "26fb4645-0a59-416b-8663-d78c08789306",
   "metadata": {},
   "outputs": [
    {
     "name": "stdout",
     "output_type": "stream",
     "text": [
      "[2. 3.]\n"
     ]
    }
   ],
   "source": [
    "import numpy as np\n",
    "\n",
    "# Find x, y that satisfy 3x + y = 9 \n",
    "# and                    x + 2y = 8\n",
    "a = np.array([[3, 1], [1, 2]])\n",
    "b = np.array([9, 8])\n",
    "x = np.linalg.solve(a, b)\n",
    "\n",
    "print(x)  # Outputs: [2. 3.], meaning x=2, y=3"
   ]
  },
  {
   "cell_type": "code",
   "execution_count": 1,
   "id": "f0323090-5d73-4ef0-b4c8-6c422df584d2",
   "metadata": {},
   "outputs": [
    {
     "name": "stdout",
     "output_type": "stream",
     "text": [
      "β0 = 35,191.67\n",
      "β1 =  4,133.33\n",
      "β2 =    758.33\n"
     ]
    }
   ],
   "source": [
    "import numpy as np\n",
    "\n",
    "A = np.array([[ 8, 25, 16],\n",
    "              [25, 87, 55],\n",
    "              [16, 55, 36]])\n",
    "\n",
    "b = np.array([397_000, 1_281_100, 817_700])\n",
    "\n",
    "solution = np.linalg.solve(A, b)\n",
    "\n",
    "print(f'β0 = {solution[0]:9,.2f}')\n",
    "print(f'β1 = {solution[1]:9,.2f}')\n",
    "print(f'β2 = {solution[2]:9,.2f}')\n"
   ]
  },
  {
   "cell_type": "code",
   "execution_count": null,
   "id": "d7b0c21f-3d77-4c27-8a8b-9101650f075f",
   "metadata": {},
   "outputs": [],
   "source": []
  }
 ],
 "metadata": {
  "kernelspec": {
   "display_name": "Python 3",
   "language": "python",
   "name": "python3"
  },
  "language_info": {
   "codemirror_mode": {
    "name": "ipython",
    "version": 3
   },
   "file_extension": ".py",
   "mimetype": "text/x-python",
   "name": "python",
   "nbconvert_exporter": "python",
   "pygments_lexer": "ipython3",
   "version": "3.8.8"
  }
 },
 "nbformat": 4,
 "nbformat_minor": 5
}
