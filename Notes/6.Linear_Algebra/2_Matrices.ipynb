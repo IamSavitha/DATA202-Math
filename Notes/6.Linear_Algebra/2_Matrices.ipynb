{
 "cells": [
  {
   "cell_type": "markdown",
   "metadata": {},
   "source": [
    "### Zero and identity"
   ]
  },
  {
   "cell_type": "code",
   "execution_count": 1,
   "metadata": {},
   "outputs": [
    {
     "name": "stdout",
     "output_type": "stream",
     "text": [
      "np.zeros([3, 3]):\n",
      "[[0. 0. 0.]\n",
      " [0. 0. 0.]\n",
      " [0. 0. 0.]]\n"
     ]
    }
   ],
   "source": [
    "import numpy as np\n",
    "\n",
    "print('np.zeros([3, 3]):')\n",
    "print(np.zeros([3, 3]))"
   ]
  },
  {
   "cell_type": "code",
   "execution_count": 3,
   "metadata": {},
   "outputs": [
    {
     "name": "stdout",
     "output_type": "stream",
     "text": [
      "np.identity(3):\n",
      "[[1. 0. 0.]\n",
      " [0. 1. 0.]\n",
      " [0. 0. 1.]]\n"
     ]
    }
   ],
   "source": [
    "print('np.identity(3):')\n",
    "print(np.identity(3))"
   ]
  },
  {
   "cell_type": "markdown",
   "metadata": {},
   "source": [
    "### Matrix addition"
   ]
  },
  {
   "cell_type": "code",
   "execution_count": 4,
   "metadata": {},
   "outputs": [
    {
     "name": "stdout",
     "output_type": "stream",
     "text": [
      "A:\n",
      "[[ 1  4  0]\n",
      " [-2  6  5]]\n",
      "\n",
      "A + O:\n",
      "[[ 1.  4.  0.]\n",
      " [-2.  6.  5.]]\n",
      "\n",
      "O + A:\n",
      "[[ 1.  4.  0.]\n",
      " [-2.  6.  5.]]\n"
     ]
    }
   ],
   "source": [
    "A = np.array([[ 1, 4, 0],\n",
    "              [-2, 6, 5]])\n",
    "O = np.zeros([2, 3])\n",
    "\n",
    "print('A:')\n",
    "print(A)\n",
    "print()\n",
    "print('A + O:')\n",
    "print(A + O)\n",
    "print()\n",
    "print('O + A:')\n",
    "print(O + A)"
   ]
  },
  {
   "cell_type": "code",
   "execution_count": 5,
   "metadata": {},
   "outputs": [
    {
     "name": "stdout",
     "output_type": "stream",
     "text": [
      "A:\n",
      "[[ 1  4  0]\n",
      " [-2  6  5]]\n",
      "\n",
      "B:\n",
      "[[-3  1 -1]\n",
      " [ 3  0  2]]\n",
      "\n",
      "A + B:\n",
      "[[-2  5 -1]\n",
      " [ 1  6  7]]\n",
      "\n",
      "B + A:\n",
      "[[-2  5 -1]\n",
      " [ 1  6  7]]\n"
     ]
    }
   ],
   "source": [
    "A = np.array([[ 1, 4, 0],\n",
    "              [-2, 6, 5]])\n",
    "B = np.array([[-3, 1, -1],\n",
    "              [3, 0, 2]])\n",
    "\n",
    "print('A:')\n",
    "print(A)\n",
    "print()\n",
    "print('B:')\n",
    "print(B)\n",
    "print()\n",
    "print('A + B:')\n",
    "print(A + B)\n",
    "print()\n",
    "print('B + A:')\n",
    "print(B + A)"
   ]
  },
  {
   "cell_type": "markdown",
   "metadata": {},
   "source": [
    "### Scalar multiplication"
   ]
  },
  {
   "cell_type": "code",
   "execution_count": 6,
   "metadata": {},
   "outputs": [
    {
     "name": "stdout",
     "output_type": "stream",
     "text": [
      "A:\n",
      "[[ 1  4  0]\n",
      " [-2  6  5]]\n",
      "\n",
      "2*A:\n",
      "[[ 2  8  0]\n",
      " [-4 12 10]]\n"
     ]
    }
   ],
   "source": [
    "A = np.array([[ 1, 4, 0],\n",
    "              [-2, 6, 5]])\n",
    "\n",
    "print('A:')\n",
    "print(A)\n",
    "print()\n",
    "print('2*A:')\n",
    "print(2*A)"
   ]
  },
  {
   "cell_type": "markdown",
   "metadata": {},
   "source": [
    "# Matrix multiplication"
   ]
  },
  {
   "cell_type": "code",
   "execution_count": 7,
   "metadata": {},
   "outputs": [
    {
     "name": "stdout",
     "output_type": "stream",
     "text": [
      "A:\n",
      "[[1 2 3]\n",
      " [4 5 6]\n",
      " [7 8 9]]\n",
      "\n",
      "A@I:\n",
      "[[1. 2. 3.]\n",
      " [4. 5. 6.]\n",
      " [7. 8. 9.]]\n",
      "\n",
      "I@A:\n",
      "[[1. 2. 3.]\n",
      " [4. 5. 6.]\n",
      " [7. 8. 9.]]\n"
     ]
    }
   ],
   "source": [
    "A = np.array([[1, 2, 3],\n",
    "              [4, 5, 6],\n",
    "              [7, 8, 9]])\n",
    "I = np.identity(3)\n",
    "\n",
    "print('A:')\n",
    "print(A)\n",
    "print()\n",
    "print('A@I:')\n",
    "print(A@I)\n",
    "print()\n",
    "print('I@A:')\n",
    "print(I@A)"
   ]
  },
  {
   "cell_type": "code",
   "execution_count": 8,
   "metadata": {},
   "outputs": [
    {
     "name": "stdout",
     "output_type": "stream",
     "text": [
      "Fruits numbers F:\n",
      "[[ 6  3 10]\n",
      " [ 4  8  5]]\n",
      "\n",
      "Store prices S:\n",
      "[[0.1  0.15]\n",
      " [0.4  0.3 ]\n",
      " [0.1  0.2 ]]\n",
      "\n",
      "Total costs FS:\n",
      "[[2.8 3.8]\n",
      " [4.1 4. ]]\n"
     ]
    }
   ],
   "source": [
    "F = np.array([[6, 3, 10],\n",
    "              [4, 8,  5]])\n",
    "S = np.array([[0.10, 0.15],\n",
    "              [0.40, 0.30],\n",
    "              [0.10, 0.20]])\n",
    "\n",
    "print('Fruits numbers F:')\n",
    "print(F)\n",
    "print()\n",
    "print('Store prices S:')\n",
    "print(S)\n",
    "print()\n",
    "print('Total costs FS:')\n",
    "print(F@S)"
   ]
  },
  {
   "cell_type": "code",
   "execution_count": 9,
   "metadata": {},
   "outputs": [
    {
     "name": "stdout",
     "output_type": "stream",
     "text": [
      "[[2.8 3.8]\n",
      " [4.1 4. ]]\n"
     ]
    }
   ],
   "source": [
    "print(F.dot(S))"
   ]
  },
  {
   "cell_type": "markdown",
   "metadata": {},
   "source": [
    "### Matrix inverse"
   ]
  },
  {
   "cell_type": "code",
   "execution_count": 12,
   "metadata": {},
   "outputs": [
    {
     "name": "stdout",
     "output_type": "stream",
     "text": [
      "H =\n",
      "[[1.    0.5   0.333 0.25  0.2  ]\n",
      " [0.5   0.333 0.25  0.2   0.167]\n",
      " [0.333 0.25  0.2   0.167 0.143]\n",
      " [0.25  0.2   0.167 0.143 0.125]\n",
      " [0.2   0.167 0.143 0.125 0.111]]\n",
      "\n",
      "inv(H) =\n",
      "[[ 2.500e+01 -3.000e+02  1.050e+03 -1.400e+03  6.300e+02]\n",
      " [-3.000e+02  4.800e+03 -1.890e+04  2.688e+04 -1.260e+04]\n",
      " [ 1.050e+03 -1.890e+04  7.938e+04 -1.176e+05  5.670e+04]\n",
      " [-1.400e+03  2.688e+04 -1.176e+05  1.792e+05 -8.820e+04]\n",
      " [ 6.300e+02 -1.260e+04  5.670e+04 -8.820e+04  4.410e+04]]\n",
      "\n",
      "H@inv(H) =\n",
      "[[ 1.000e+00  2.239e-13 -1.553e-12 -2.434e-12  2.672e-12]\n",
      " [-2.951e-14  1.000e+00 -1.737e-12  1.422e-12 -4.080e-13]\n",
      " [-1.312e-14  2.298e-13  1.000e+00 -1.379e-12  9.496e-13]\n",
      " [-1.421e-14  4.547e-13  9.095e-13  1.000e+00  0.000e+00]\n",
      " [-5.465e-15  2.040e-13  6.608e-13 -8.708e-13  1.000e+00]]\n",
      "\n",
      "inv(H)@H =\n",
      "[[ 1.000e+00 -4.378e-12 -3.535e-12 -2.984e-12 -2.568e-12]\n",
      " [ 1.678e-11  1.000e+00  9.909e-12  8.868e-12  7.404e-12]\n",
      " [-3.736e-12 -4.769e-12  1.000e+00 -2.728e-12 -2.573e-12]\n",
      " [-3.890e-12 -3.428e-12 -4.498e-12  1.000e+00 -1.679e-12]\n",
      " [ 8.534e-13  5.015e-13  9.496e-13  0.000e+00  1.000e+00]]\n",
      "\n",
      "inv(inv(H)) =\n",
      "[[1.    0.5   0.333 0.25  0.2  ]\n",
      " [0.5   0.333 0.25  0.2   0.167]\n",
      " [0.333 0.25  0.2   0.167 0.143]\n",
      " [0.25  0.2   0.167 0.143 0.125]\n",
      " [0.2   0.167 0.143 0.125 0.111]]\n"
     ]
    }
   ],
   "source": [
    "from numpy.linalg import inv\n",
    "%precision 3\n",
    "\n",
    "H = np.array([[1/(i + j - 1) \n",
    "                for j in range(1, 6)] \n",
    "                    for i in range(1, 6)])\n",
    "\n",
    "print('H =')\n",
    "print(H)\n",
    "print()\n",
    "print('inv(H) =')\n",
    "print(inv(H))\n",
    "print()\n",
    "print('H@inv(H) =')\n",
    "print(H@inv(H))\n",
    "print()\n",
    "print('inv(H)@H =')\n",
    "print(inv(H)@H)\n",
    "print()\n",
    "print('inv(inv(H)) =')\n",
    "print(inv(inv(H)))"
   ]
  },
  {
   "cell_type": "code",
   "execution_count": null,
   "metadata": {},
   "outputs": [],
   "source": []
  }
 ],
 "metadata": {
  "kernelspec": {
   "display_name": "Python 3",
   "language": "python",
   "name": "python3"
  },
  "language_info": {
   "codemirror_mode": {
    "name": "ipython",
    "version": 3
   },
   "file_extension": ".py",
   "mimetype": "text/x-python",
   "name": "python",
   "nbconvert_exporter": "python",
   "pygments_lexer": "ipython3",
   "version": "3.8.8"
  }
 },
 "nbformat": 4,
 "nbformat_minor": 4
}
