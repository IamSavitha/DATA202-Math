{
 "cells": [
  {
   "cell_type": "markdown",
   "metadata": {},
   "source": [
    "# 1. Python Functions\n",
    "\n",
    "In Python, a function is a block of organized, reusable code that is used to perform a single, related action. Functions provide better modularity for your application and a high degree of code reusing."
   ]
  },
  {
   "cell_type": "markdown",
   "metadata": {},
   "source": [
    "## Defining a Function\n",
    "\n",
    "You define a function in Python using the `def` keyword, followed by the function name and parentheses `()`. Any input parameters or arguments should be placed within these parentheses. The function may also have a docstring for documentation.\n",
    "### Basic Syntax\n",
    "\n",
    "```python\n",
    "def function_name(parameters):\n",
    "    \"\"\"\n",
    "    docstring\n",
    "    \"\"\"\n",
    "    # Function body\n",
    "    return result\n",
    "```"
   ]
  },
  {
   "cell_type": "code",
   "execution_count": 1,
   "metadata": {},
   "outputs": [],
   "source": [
    "def greet(name):\n",
    "    \"\"\"\n",
    "    This function greets a person with the given name.\n",
    "    \"\"\"\n",
    "    return f\"Hello, {name}!\""
   ]
  },
  {
   "cell_type": "markdown",
   "metadata": {},
   "source": [
    "## Calling a Function\n",
    "\n",
    "After defining a function, you can call it from another function, program, or even the Python prompt. To call a function, use the function name followed by parentheses and pass any required arguments.\n",
    "### Example of Calling a Function\n",
    "\n",
    "```python\n",
    "message = greet(\"Alice\")\n",
    "print(message)\n",
    "```"
   ]
  },
  {
   "cell_type": "code",
   "execution_count": 2,
   "metadata": {},
   "outputs": [
    {
     "name": "stdout",
     "output_type": "stream",
     "text": [
      "Hello, Alice!\n"
     ]
    }
   ],
   "source": [
    "message = greet(\"Alice\")\n",
    "print(message)"
   ]
  },
  {
   "cell_type": "code",
   "execution_count": 4,
   "metadata": {},
   "outputs": [
    {
     "name": "stdout",
     "output_type": "stream",
     "text": [
      "12\n"
     ]
    }
   ],
   "source": [
    "\n",
    "def multiply_numbers(a, b):\n",
    "    # Return the product of two numbers\n",
    "    return a * b\n",
    "\n",
    "# Example usage\n",
    "result = multiply_numbers(3, 4)\n",
    "print(result)  # Expected output: 12\n"
   ]
  },
  {
   "cell_type": "markdown",
   "metadata": {},
   "source": [
    "# 2. The Main Function in Python\n",
    "\n",
    "In Python, a `main` function is often used as the entry point for a program. While Python itself does not require a main function, its presence helps manage program flow and improves code readability."
   ]
  },
  {
   "cell_type": "markdown",
   "metadata": {},
   "source": [
    "## Understanding `if __name__ == \"__main__\":`\n",
    "\n",
    "The `if __name__ == \"__main__\":` statement checks whether the current script is being run on its own or being imported somewhere else. If the script is running as the main program, it sets the `__name__` variable to `\"__main__\"`.\n",
    "### Basic Syntax\n",
    "\n",
    "```python\n",
    "if __name__ == \"__main__\":\n",
    "    # Code to execute if running as the main program\n",
    "```"
   ]
  },
  {
   "cell_type": "code",
   "execution_count": 5,
   "metadata": {},
   "outputs": [
    {
     "name": "stdout",
     "output_type": "stream",
     "text": [
      "Hello, world!\n"
     ]
    }
   ],
   "source": [
    "def myFunction():\n",
    "    print(\"Hello, world!\")\n",
    "\n",
    "if __name__ == \"__main__\":\n",
    "    myFunction()"
   ]
  },
  {
   "cell_type": "markdown",
   "metadata": {},
   "source": [
    "## Benefits of Using a Main Function\n",
    "\n",
    "1. **Organization:** Separates the execution part of the script from the definition part.\n",
    "2. **Reusability:** Allows the script to be imported and its functions to be reused without executing the main code block.\n",
    "3. **Clarity:** Makes the code clearer to other Python developers about which part of the code is the entry point."
   ]
  },
  {
   "cell_type": "markdown",
   "metadata": {},
   "source": [
    "# 3. Python's Import Statement\n",
    "\n",
    "In Python, the `import` statement is used to bring modules (Python files) into the current namespace. Modules are Python `.py` files containing a set of functions, classes, or variables that you can include in your script."
   ]
  },
  {
   "cell_type": "markdown",
   "metadata": {},
   "source": [
    "## Using the Import Statement\n",
    "\n",
    "You can import a module to access its functions, classes, and variables. When you import a module, Python executes the code within the module.\n",
    "### Basic Syntax\n",
    "\n",
    "```python\n",
    "import module_name\n",
    "```"
   ]
  },
  {
   "cell_type": "code",
   "execution_count": null,
   "metadata": {},
   "outputs": [],
   "source": [
    "# Example of importing a module\n",
    "import math\n",
    "\n",
    "# Using a function from the math module\n",
    "result = math.sqrt(25)\n",
    "print(result)"
   ]
  },
  {
   "cell_type": "markdown",
   "metadata": {},
   "source": [
    "## Importing Specific Objects\n",
    "\n",
    "You can also import specific objects from a module, rather than the entire module.\n",
    "### Syntax for Importing Specific Objects\n",
    "\n",
    "```python\n",
    "from module_name import object_name\n",
    "```"
   ]
  },
  {
   "cell_type": "code",
   "execution_count": null,
   "metadata": {},
   "outputs": [],
   "source": [
    "# Importing a specific function from a module\n",
    "from math import sqrt\n",
    "\n",
    "# Using the imported function\n",
    "result = sqrt(36)\n",
    "print(result)"
   ]
  },
  {
   "cell_type": "markdown",
   "metadata": {},
   "source": [
    "# 4. Using 'import ... as ...' in Python\n",
    "\n",
    "In Python, the `import ... as ...` statement is used for importing a module under a different name (alias). This approach is often used to shorten the module name or avoid naming conflicts."
   ]
  },
  {
   "cell_type": "markdown",
   "metadata": {},
   "source": [
    "## Why Use Aliases?\n",
    "\n",
    "1. **Convenience:** Shortens the module name, making the code more concise.\n",
    "2. **Avoiding Conflicts:** Prevents naming conflicts with other variables or modules.\n",
    "3. **Standard Practice:** Certain modules have widely accepted aliases, like `np` for NumPy."
   ]
  },
  {
   "cell_type": "markdown",
   "metadata": {},
   "source": [
    "## Basic Syntax\n",
    "\n",
    "```python\n",
    "import module_name as alias_name\n",
    "```\n",
    "\n",
    "After importing the module with an alias, you use the alias name to access the module's functions, classes, and variables."
   ]
  },
  {
   "cell_type": "code",
   "execution_count": null,
   "metadata": {},
   "outputs": [],
   "source": [
    "# Example: Importing NumPy with an alias\n",
    "import numpy as np\n",
    "\n",
    "# Using the alias to call a function\n",
    "arr = np.array([1, 2, 3, 4, 5])\n",
    "print(arr)"
   ]
  },
  {
   "cell_type": "markdown",
   "metadata": {},
   "source": [
    "## Unpacking with `**` for Dictionaries\n",
    "The ** operator is used to unpack dictionaries, where keys become variable names and values become the corresponding variable values. This is often used in function calls to pass keyword arguments."
   ]
  },
  {
   "cell_type": "code",
   "execution_count": 6,
   "metadata": {},
   "outputs": [
    {
     "name": "stdout",
     "output_type": "stream",
     "text": [
      "Hello, Savi!\n"
     ]
    }
   ],
   "source": [
    "def greet(name, greeting):\n",
    "    print(f\"{greeting}, {name}!\")\n",
    "\n",
    "info = {'name': 'Savi', 'greeting': 'Hello'}\n",
    "greet(**info)\n",
    "\n"
   ]
  },
  {
   "cell_type": "code",
   "execution_count": null,
   "metadata": {},
   "outputs": [],
   "source": []
  }
 ],
 "metadata": {
  "kernelspec": {
   "display_name": "base",
   "language": "python",
   "name": "python3"
  },
  "language_info": {
   "codemirror_mode": {
    "name": "ipython",
    "version": 3
   },
   "file_extension": ".py",
   "mimetype": "text/x-python",
   "name": "python",
   "nbconvert_exporter": "python",
   "pygments_lexer": "ipython3",
   "version": "3.12.7"
  }
 },
 "nbformat": 4,
 "nbformat_minor": 4
}
