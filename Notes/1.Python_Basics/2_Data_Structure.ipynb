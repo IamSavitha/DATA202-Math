{
 "cells": [
  {
   "cell_type": "markdown",
   "id": "9f3e14b8",
   "metadata": {},
   "source": [
    "# Python Data Structure\n",
    "\n",
    "# 1. Python List\n",
    "## Lists are used to store multiple items in a single variable.\n",
    "- Lists are created using square brackets.\n",
    "\n",
    "```python\n",
    "pList = [\"computer\", \"iPhone\", \"tablet\", \"Android\"]\n",
    "```\n",
    "\n",
    "- A list can hold <ins>homogeneous</ins> data (all the same datatype, such as integer) or <ins>heterogeneous</ins> data.\n",
    "\n",
    "\n",
    "```python\n",
    "employee = [12345, 'Mary', 'Smith', 150_000.25]\n",
    "```\n",
    "\n",
    "## List items are indexed:\n",
    "- The first item has index [0], the second item has index [1] and the last item has [-1].\n"
   ]
  },
  {
   "cell_type": "code",
   "execution_count": 1,
   "id": "9309a44b",
   "metadata": {
    "scrolled": true
   },
   "outputs": [
    {
     "name": "stdout",
     "output_type": "stream",
     "text": [
      "computer iPhone Android Android\n"
     ]
    }
   ],
   "source": [
    "pList = [\"computer\", \"iPhone\", \"tablet\", \"Android\"]\n",
    "\n",
    "print(pList[0], pList[1], pList[3], pList[-1])\n"
   ]
  },
  {
   "cell_type": "code",
   "execution_count": 2,
   "id": "cd6cae2c",
   "metadata": {},
   "outputs": [
    {
     "data": {
      "text/plain": [
       "('tablet', 'computer')"
      ]
     },
     "execution_count": 2,
     "metadata": {},
     "output_type": "execute_result"
    }
   ],
   "source": [
    "pList[-2], pList[-4]\n"
   ]
  },
  {
   "cell_type": "code",
   "execution_count": 3,
   "id": "5f7a2daf",
   "metadata": {},
   "outputs": [
    {
     "name": "stdout",
     "output_type": "stream",
     "text": [
      "['iPhone', 'tablet']\n"
     ]
    }
   ],
   "source": [
    "print(pList[1:3])  # access a range of items by the slicing operator colon :"
   ]
  },
  {
   "cell_type": "code",
   "execution_count": 4,
   "id": "c134c0ac",
   "metadata": {
    "scrolled": true
   },
   "outputs": [
    {
     "name": "stdout",
     "output_type": "stream",
     "text": [
      "['computer', 'iPhone', 'tablet']\n"
     ]
    }
   ],
   "source": [
    "print(pList[:3])    # pList[0] ~ pList[2], pList[3] is not included."
   ]
  },
  {
   "cell_type": "code",
   "execution_count": 6,
   "id": "c02ab60c",
   "metadata": {},
   "outputs": [
    {
     "name": "stdout",
     "output_type": "stream",
     "text": [
      "['tablet', 'Android']\n"
     ]
    }
   ],
   "source": [
    "print(pList[2:])    # pList[2] to the last element "
   ]
  },
  {
   "cell_type": "markdown",
   "id": "466bc116",
   "metadata": {},
   "source": [
    "## List items are ordered, changeable (\"mutable\"), and allow duplicate values."
   ]
  },
  {
   "cell_type": "code",
   "execution_count": 7,
   "id": "670757c2",
   "metadata": {},
   "outputs": [
    {
     "name": "stdout",
     "output_type": "stream",
     "text": [
      "['computer', 'iPhone', 'watch', 'Android']\n"
     ]
    }
   ],
   "source": [
    "pList[2] = \"watch\"   # change the 3rd elemenet\n",
    "print(pList[:])"
   ]
  },
  {
   "cell_type": "code",
   "execution_count": null,
   "id": "adbff784",
   "metadata": {},
   "outputs": [],
   "source": [
    "pList[3] = 'iPhone'    # allow duplicate values\n",
    "print(pList[:])"
   ]
  },
  {
   "cell_type": "markdown",
   "id": "5ac0b6f3",
   "metadata": {},
   "source": [
    "### Attempting to Access a Nonexistent Element"
   ]
  },
  {
   "cell_type": "code",
   "execution_count": 8,
   "id": "99ca1bda",
   "metadata": {},
   "outputs": [
    {
     "ename": "IndexError",
     "evalue": "list index out of range",
     "output_type": "error",
     "traceback": [
      "\u001b[0;31m---------------------------------------------------------------------------\u001b[0m",
      "\u001b[0;31mIndexError\u001b[0m                                Traceback (most recent call last)",
      "Cell \u001b[0;32mIn[8], line 1\u001b[0m\n\u001b[0;32m----> 1\u001b[0m pList[\u001b[38;5;241m40\u001b[39m]\n",
      "\u001b[0;31mIndexError\u001b[0m: list index out of range"
     ]
    }
   ],
   "source": [
    "pList[40]"
   ]
  },
  {
   "cell_type": "markdown",
   "id": "8bc48f67",
   "metadata": {},
   "source": [
    "### ```append() ```: append the element to the end of the list.\n",
    "\n",
    "### ```insert() ```: inserts the element before the given index.\n",
    "\n",
    "### ```remove() ```: removes the first matching element."
   ]
  },
  {
   "cell_type": "code",
   "execution_count": 12,
   "id": "2c72e95f",
   "metadata": {},
   "outputs": [
    {
     "name": "stdout",
     "output_type": "stream",
     "text": [
      "['computer', 'iPhone', 'watch', 'Android', 'mouse', 'mouse', ['mouse', 'rat']]\n"
     ]
    }
   ],
   "source": [
    "blist= ['mouse','rat']\n",
    "pList.append(blist)\n",
    "print(pList[:])"
   ]
  },
  {
   "cell_type": "code",
   "execution_count": 13,
   "id": "f176cee7",
   "metadata": {},
   "outputs": [
    {
     "name": "stdout",
     "output_type": "stream",
     "text": [
      "['computer', 'headphone', 'iPhone', 'watch', 'Android', 'mouse', 'mouse', ['mouse', 'rat']]\n"
     ]
    }
   ],
   "source": [
    "pList.insert(1, 'headphone')\n",
    "print(pList[:])"
   ]
  },
  {
   "cell_type": "code",
   "execution_count": 18,
   "id": "daa87ffe",
   "metadata": {},
   "outputs": [
    {
     "name": "stdout",
     "output_type": "stream",
     "text": [
      "['computer', 'headphone', 'watch', 'Android', ['mouse', 'rat']]\n"
     ]
    }
   ],
   "source": [
    "pList.remove('mouse')\n",
    "print(pList[:])"
   ]
  },
  {
   "cell_type": "markdown",
   "id": "2084b01f",
   "metadata": {},
   "source": [
    "if he value is not present to remove -> value error "
   ]
  },
  {
   "cell_type": "markdown",
   "id": "83a25cc3-a3f5-401e-b8bc-766f79816990",
   "metadata": {},
   "source": [
    "### Appending to a List with +="
   ]
  },
  {
   "cell_type": "code",
   "execution_count": 2,
   "id": "a106caa6-cc6a-4e4f-a1db-ce6028a0b428",
   "metadata": {
    "tags": []
   },
   "outputs": [],
   "source": [
    "a_list = []"
   ]
  },
  {
   "cell_type": "code",
   "execution_count": 3,
   "id": "0487961a-08f0-41eb-93b4-c36108e82f0d",
   "metadata": {},
   "outputs": [],
   "source": [
    "for number in range(1, 6):\n",
    "    a_list += [number]"
   ]
  },
  {
   "cell_type": "code",
   "execution_count": 4,
   "id": "54da7bc1-adff-448f-9704-8a84e9f1b7d0",
   "metadata": {},
   "outputs": [
    {
     "data": {
      "text/plain": [
       "[1, 2, 3, 4, 5]"
      ]
     },
     "execution_count": 4,
     "metadata": {},
     "output_type": "execute_result"
    }
   ],
   "source": [
    "a_list"
   ]
  },
  {
   "cell_type": "code",
   "execution_count": 23,
   "id": "3118709a-89c4-4a88-9795-69e9b52ec50b",
   "metadata": {},
   "outputs": [],
   "source": [
    "letter_str = []"
   ]
  },
  {
   "cell_type": "code",
   "execution_count": 24,
   "id": "ce99e1ca-4a76-4ed1-a3f0-457189775247",
   "metadata": {},
   "outputs": [],
   "source": [
    "letter_str += 'Py123thon'"
   ]
  },
  {
   "cell_type": "code",
   "execution_count": 25,
   "id": "88514798-38c2-4c63-bf42-8b5748092dd4",
   "metadata": {
    "tags": []
   },
   "outputs": [
    {
     "data": {
      "text/plain": [
       "['P', 'y', '1', '2', '3', 't', 'h', 'o', 'n']"
      ]
     },
     "execution_count": 25,
     "metadata": {},
     "output_type": "execute_result"
    }
   ],
   "source": [
    "letter_str"
   ]
  },
  {
   "cell_type": "markdown",
   "id": "ebdb85dc-e895-498c-a6f5-e431b4bb7cbd",
   "metadata": {
    "tags": []
   },
   "source": [
    "### Concatenating Lists with +"
   ]
  },
  {
   "cell_type": "code",
   "execution_count": 8,
   "id": "1649f39b-080b-4eba-a422-d5a6ed4f38df",
   "metadata": {
    "tags": []
   },
   "outputs": [],
   "source": [
    "list1 = [10, 20, 30]"
   ]
  },
  {
   "cell_type": "code",
   "execution_count": 9,
   "id": "d8cff0a6-3caa-446d-8c0d-489ec8d40089",
   "metadata": {
    "tags": []
   },
   "outputs": [],
   "source": [
    "list2 = [40, 50]"
   ]
  },
  {
   "cell_type": "code",
   "execution_count": 10,
   "id": "bd06dd36-0321-44c9-91d4-a80f9e471873",
   "metadata": {
    "tags": []
   },
   "outputs": [],
   "source": [
    "concatenated_list = list1 + list2"
   ]
  },
  {
   "cell_type": "code",
   "execution_count": 11,
   "id": "1e2a37ab-b202-4c75-a63e-87db40fd0862",
   "metadata": {},
   "outputs": [
    {
     "data": {
      "text/plain": [
       "[10, 20, 30, 40, 50]"
      ]
     },
     "execution_count": 11,
     "metadata": {},
     "output_type": "execute_result"
    }
   ],
   "source": [
    "concatenated_list"
   ]
  },
  {
   "cell_type": "markdown",
   "id": "67865b20-9459-4622-91ab-7e2af7cc0779",
   "metadata": {},
   "source": [
    "### Using `for` and `range` to Access List Indices and Values"
   ]
  },
  {
   "cell_type": "code",
   "execution_count": 12,
   "id": "72247ae6-fe91-4095-a155-5b6c54300631",
   "metadata": {},
   "outputs": [
    {
     "name": "stdout",
     "output_type": "stream",
     "text": [
      "0: 10\n",
      "1: 20\n",
      "2: 30\n",
      "3: 40\n",
      "4: 50\n"
     ]
    }
   ],
   "source": [
    "for i in range(len(concatenated_list)):  \n",
    "    print(f'{i}: {concatenated_list[i]}')"
   ]
  },
  {
   "cell_type": "markdown",
   "id": "bdb697e5",
   "metadata": {},
   "source": [
    "### To determine how many items a list has, use the ```len()``` function"
   ]
  },
  {
   "cell_type": "code",
   "execution_count": 26,
   "id": "0e246af7",
   "metadata": {},
   "outputs": [
    {
     "name": "stdout",
     "output_type": "stream",
     "text": [
      "5\n"
     ]
    }
   ],
   "source": [
    "print(len(pList))"
   ]
  },
  {
   "cell_type": "markdown",
   "id": "e305bd6c",
   "metadata": {},
   "source": [
    "## Practice"
   ]
  },
  {
   "cell_type": "code",
   "execution_count": null,
   "id": "1722aa82",
   "metadata": {},
   "outputs": [],
   "source": [
    "# Creating a list\n",
    "example_list = [1, 2, 3, 4, 5]\n",
    "\n",
    "# Accessing elements in a list\n",
    "first_element = example_list[0]  # Access the first element, which is 1\n",
    "last_element = example_list[-1]  # Access the last element, which is 5\n",
    "\n",
    "# Modifying elements in a list\n",
    "example_list[2] = 10  # Change the element at index 2 to 10\n",
    "\n",
    "# Adding elements to a list\n",
    "example_list.append(6)  # Adds 6 to the end of the list\n",
    "\n",
    "# Removing elements from a list\n",
    "example_list.remove(2)  # Removes the first occurrence of 2 from the list\n",
    "\n",
    "# Printing the list and the accessed elements\n",
    "print(\"List after creation:\", example_list)\n",
    "print(\"First element:\", first_element)\n",
    "print(\"Last element:\", last_element)\n",
    "\n",
    "# Slicing a list\n",
    "sub_list = example_list[1:4]  # Get a slice of the list from index 1 to 3\n",
    "\n",
    "# Printing the modified list and the sublist\n",
    "print(\"Modified list:\", example_list)\n",
    "print(\"Sublist:\", sub_list)\n",
    "print(\"Length of the Sublist:\", len(sub_list))\n"
   ]
  },
  {
   "cell_type": "markdown",
   "id": "3cfd2a6d",
   "metadata": {},
   "source": [
    "# 2. Python Tuple\n",
    "## Tuples are also used to store multiple items in a single variable.\n",
    "\n",
    "A tuple is ordered and **unchangeable**.\n",
    "- tuples are created using round brackets."
   ]
  },
  {
   "cell_type": "code",
   "execution_count": 27,
   "id": "098b66cc",
   "metadata": {},
   "outputs": [
    {
     "name": "stdout",
     "output_type": "stream",
     "text": [
      "computer iPhone Android Android\n"
     ]
    }
   ],
   "source": [
    "pTuple = (\"computer\", \"iPhone\", \"tablet\", \"Android\")\n",
    "\n",
    "print(pTuple[0], pTuple[1], pTuple[3], pTuple[-1])"
   ]
  },
  {
   "cell_type": "markdown",
   "id": "0d9cf22b",
   "metadata": {},
   "source": [
    "## Slicing\n",
    "We can access a range of items in a tuple by using the slicing operator colon :"
   ]
  },
  {
   "cell_type": "code",
   "execution_count": null,
   "id": "eb3d68de",
   "metadata": {},
   "outputs": [],
   "source": [
    "print(pTuple[1:4])\n",
    "print(pTuple[2:])"
   ]
  },
  {
   "cell_type": "markdown",
   "id": "01c45fa3-e56a-4d67-a395-02440b77305e",
   "metadata": {},
   "source": [
    "### Specifying a Slice with Starting and Ending Indices"
   ]
  },
  {
   "cell_type": "code",
   "execution_count": 2,
   "id": "88610b56-2904-46cf-9cee-cfe9e698fc97",
   "metadata": {},
   "outputs": [],
   "source": [
    "numbers = [2, 3, 5, 7, 11, 13, 17, 19]"
   ]
  },
  {
   "cell_type": "code",
   "execution_count": 3,
   "id": "de8b7566-bc1e-4945-980d-2d3458b34aa8",
   "metadata": {},
   "outputs": [
    {
     "data": {
      "text/plain": [
       "[5, 7, 11, 13]"
      ]
     },
     "execution_count": 3,
     "metadata": {},
     "output_type": "execute_result"
    }
   ],
   "source": [
    "numbers[2:6]"
   ]
  },
  {
   "cell_type": "markdown",
   "id": "ca34dfe5-c338-49f9-8b09-6a41c73b4e60",
   "metadata": {},
   "source": [
    "### Specifying a Slice with Only an Ending Index"
   ]
  },
  {
   "cell_type": "code",
   "execution_count": 4,
   "id": "45185ad3-0868-4a3b-88c2-53acad1cb3de",
   "metadata": {},
   "outputs": [
    {
     "data": {
      "text/plain": [
       "[2, 3, 5, 7, 11, 13]"
      ]
     },
     "execution_count": 4,
     "metadata": {},
     "output_type": "execute_result"
    }
   ],
   "source": [
    "numbers[:6]"
   ]
  },
  {
   "cell_type": "code",
   "execution_count": 5,
   "id": "68bc93c6-4c5c-458c-a2e7-97b9da621bba",
   "metadata": {},
   "outputs": [
    {
     "data": {
      "text/plain": [
       "[2, 3, 5, 7, 11, 13]"
      ]
     },
     "execution_count": 5,
     "metadata": {},
     "output_type": "execute_result"
    }
   ],
   "source": [
    "numbers[0:6]"
   ]
  },
  {
   "cell_type": "markdown",
   "id": "01e2a6de-4e41-46eb-9ce2-70883fb0b27a",
   "metadata": {},
   "source": [
    "### Specifying a Slice with Only a Starting Index"
   ]
  },
  {
   "cell_type": "code",
   "execution_count": 6,
   "id": "bca3a893-061d-4afa-8a8d-dd4a57b50294",
   "metadata": {},
   "outputs": [
    {
     "data": {
      "text/plain": [
       "[17, 19]"
      ]
     },
     "execution_count": 6,
     "metadata": {},
     "output_type": "execute_result"
    }
   ],
   "source": [
    "numbers[6:]"
   ]
  },
  {
   "cell_type": "code",
   "execution_count": 7,
   "id": "62549c96-0c14-4da4-b6a3-1e947205da26",
   "metadata": {},
   "outputs": [
    {
     "data": {
      "text/plain": [
       "[17, 19]"
      ]
     },
     "execution_count": 7,
     "metadata": {},
     "output_type": "execute_result"
    }
   ],
   "source": [
    "numbers[6:len(numbers)]"
   ]
  },
  {
   "cell_type": "markdown",
   "id": "30acfe5c-3e48-45bb-b32d-abe5e36e3104",
   "metadata": {},
   "source": [
    "### Specifying a Slice with No Indices"
   ]
  },
  {
   "cell_type": "code",
   "execution_count": 8,
   "id": "d9cf3cd3-6d96-4b61-8b1a-80c9d22bf558",
   "metadata": {},
   "outputs": [
    {
     "data": {
      "text/plain": [
       "[2, 3, 5, 7, 11, 13, 17, 19]"
      ]
     },
     "execution_count": 8,
     "metadata": {},
     "output_type": "execute_result"
    }
   ],
   "source": [
    "numbers[:]"
   ]
  },
  {
   "cell_type": "markdown",
   "id": "59609a16-819e-4cdc-82a3-f5d0513ce1a6",
   "metadata": {},
   "source": [
    "### Slicing with Steps"
   ]
  },
  {
   "cell_type": "code",
   "execution_count": 9,
   "id": "7ec1ec8f-991f-440b-a009-8fe48794e517",
   "metadata": {},
   "outputs": [
    {
     "data": {
      "text/plain": [
       "[2, 5, 11, 17]"
      ]
     },
     "execution_count": 9,
     "metadata": {},
     "output_type": "execute_result"
    }
   ],
   "source": [
    "numbers[::2]"
   ]
  },
  {
   "cell_type": "markdown",
   "id": "c6ba8b40-b421-46f3-b6dd-c1219d8610d8",
   "metadata": {},
   "source": [
    "### Slicing with Negative Indices and Steps"
   ]
  },
  {
   "cell_type": "markdown",
   "id": "f162135b",
   "metadata": {},
   "source": [
    "[start:stop(excluded):step]"
   ]
  },
  {
   "cell_type": "code",
   "execution_count": 10,
   "id": "54230733-5103-4f40-a6a9-a203375b1fd9",
   "metadata": {},
   "outputs": [
    {
     "data": {
      "text/plain": [
       "[19, 17, 13, 11, 7, 5, 3, 2]"
      ]
     },
     "execution_count": 10,
     "metadata": {},
     "output_type": "execute_result"
    }
   ],
   "source": [
    "numbers[::-1]"
   ]
  },
  {
   "cell_type": "code",
   "execution_count": 11,
   "id": "7dd7755f-000e-4f71-b933-f48f6a77fee9",
   "metadata": {},
   "outputs": [
    {
     "data": {
      "text/plain": [
       "[19, 17, 13, 11, 7, 5, 3, 2]"
      ]
     },
     "execution_count": 11,
     "metadata": {},
     "output_type": "execute_result"
    }
   ],
   "source": [
    "numbers[-1:-9:-1]"
   ]
  },
  {
   "cell_type": "markdown",
   "id": "2354a95d-ab63-4714-9b1f-f3645c45cbb1",
   "metadata": {},
   "source": [
    "### Deleting the Element at a Specific List Index"
   ]
  },
  {
   "cell_type": "code",
   "execution_count": 28,
   "id": "09dfeb32-dc81-415b-87ab-7c797bf7ef92",
   "metadata": {},
   "outputs": [],
   "source": [
    "numbers = list(range(0, 10))"
   ]
  },
  {
   "cell_type": "code",
   "execution_count": 29,
   "id": "ba191c9a-d0f6-45e7-a28d-55d9c91f4925",
   "metadata": {},
   "outputs": [
    {
     "data": {
      "text/plain": [
       "[0, 1, 2, 3, 4, 5, 6, 7, 8, 9]"
      ]
     },
     "execution_count": 29,
     "metadata": {},
     "output_type": "execute_result"
    }
   ],
   "source": [
    "numbers"
   ]
  },
  {
   "cell_type": "code",
   "execution_count": 30,
   "id": "048c846f-43f4-4825-b296-2a7817d84de1",
   "metadata": {},
   "outputs": [],
   "source": [
    "del numbers[-1]"
   ]
  },
  {
   "cell_type": "code",
   "execution_count": 31,
   "id": "a590a14b-edda-4ab3-ae53-cb218d02ab18",
   "metadata": {},
   "outputs": [
    {
     "data": {
      "text/plain": [
       "[0, 1, 2, 3, 4, 5, 6, 7, 8]"
      ]
     },
     "execution_count": 31,
     "metadata": {},
     "output_type": "execute_result"
    }
   ],
   "source": [
    "numbers"
   ]
  },
  {
   "cell_type": "markdown",
   "id": "c18bfaf3-89f2-4d3d-a33d-3636f254afb8",
   "metadata": {},
   "source": [
    "### Deleting a Slice from a List"
   ]
  },
  {
   "cell_type": "code",
   "execution_count": 5,
   "id": "a659123b-1936-4398-bd8e-084945827a78",
   "metadata": {},
   "outputs": [],
   "source": [
    "del numbers[0:2]"
   ]
  },
  {
   "cell_type": "code",
   "execution_count": 6,
   "id": "9fc9fc22-fe3f-443f-ab38-bd9f5e2b15a5",
   "metadata": {},
   "outputs": [
    {
     "data": {
      "text/plain": [
       "[2, 3, 4, 5, 6, 7, 8]"
      ]
     },
     "execution_count": 6,
     "metadata": {},
     "output_type": "execute_result"
    }
   ],
   "source": [
    "numbers"
   ]
  },
  {
   "cell_type": "code",
   "execution_count": 32,
   "id": "fe86de15-5b9a-40d4-814e-ceb74562669d",
   "metadata": {},
   "outputs": [],
   "source": [
    "del numbers[::2]"
   ]
  },
  {
   "cell_type": "code",
   "execution_count": 33,
   "id": "e286ca78-e823-4bf8-ad3c-af2f10bf14ce",
   "metadata": {},
   "outputs": [
    {
     "data": {
      "text/plain": [
       "[1, 3, 5, 7]"
      ]
     },
     "execution_count": 33,
     "metadata": {},
     "output_type": "execute_result"
    }
   ],
   "source": [
    "numbers"
   ]
  },
  {
   "cell_type": "markdown",
   "id": "42129e02-4ca2-4826-8282-2eecfe88ba64",
   "metadata": {},
   "source": [
    "### Deleting a Slice Representing the Entire List"
   ]
  },
  {
   "cell_type": "code",
   "execution_count": 34,
   "id": "b1b803fd-d171-4405-8780-f4d70b0857e3",
   "metadata": {},
   "outputs": [],
   "source": [
    "del numbers[:]"
   ]
  },
  {
   "cell_type": "code",
   "execution_count": 35,
   "id": "1a637a1e-4d4c-4625-b242-22e57dd99271",
   "metadata": {},
   "outputs": [
    {
     "data": {
      "text/plain": [
       "[]"
      ]
     },
     "execution_count": 35,
     "metadata": {},
     "output_type": "execute_result"
    }
   ],
   "source": [
    "numbers"
   ]
  },
  {
   "cell_type": "markdown",
   "id": "cf1cca2c-78e3-4ab9-a4d6-7ae5cbc9e1f9",
   "metadata": {},
   "source": [
    "### Deleting a Variable from the Current Session"
   ]
  },
  {
   "cell_type": "code",
   "execution_count": null,
   "id": "9a1c5ba3-9cbf-4493-b9df-c17ba8d2679f",
   "metadata": {},
   "outputs": [],
   "source": [
    "del numbers"
   ]
  },
  {
   "cell_type": "code",
   "execution_count": null,
   "id": "a2a40f04-e06b-43e4-8974-651a4fbd8a0f",
   "metadata": {},
   "outputs": [],
   "source": [
    "numbers"
   ]
  },
  {
   "cell_type": "markdown",
   "id": "8128f876",
   "metadata": {},
   "source": [
    "## Tuples are unchangeable, meaning that we cannot change, add or remove items after the tuple has been created."
   ]
  },
  {
   "cell_type": "markdown",
   "id": "7ee5d8fc",
   "metadata": {},
   "source": [
    "### To determine how many items a list has, use the ```len()``` function\n"
   ]
  },
  {
   "cell_type": "code",
   "execution_count": null,
   "id": "688d47b9",
   "metadata": {},
   "outputs": [],
   "source": [
    "print(len(pTuple))"
   ]
  },
  {
   "cell_type": "markdown",
   "id": "c7c3952b",
   "metadata": {},
   "source": [
    "## Practice"
   ]
  },
  {
   "cell_type": "code",
   "execution_count": null,
   "id": "9cfa75fb",
   "metadata": {},
   "outputs": [],
   "source": [
    "# Creating a tuple\n",
    "example_tuple = (1, 2, 3, 4, 5)\n",
    "\n",
    "# Accessing elements in a tuple\n",
    "first_element = example_tuple[0]  # Access the first element, which is 1\n",
    "last_element = example_tuple[-1]  # Access the last element, which is 5\n",
    "\n",
    "# Tuples are immutable, so you cannot modify them like lists\n",
    "\n",
    "# Tuples can be concatenated\n",
    "concatenated_tuple = example_tuple + (6, 7)\n",
    "\n",
    "# Tuples can also be repeated using the multiplication operator\n",
    "repeated_tuple = example_tuple * 2\n",
    "\n",
    "# Slicing a tuple\n",
    "sub_tuple = example_tuple[1:4]  # Get a slice of the tuple from index 1 to 3\n",
    "\n",
    "# Printing the results\n",
    "print(\"Tuple after creation:\", example_tuple)\n",
    "print(\"First element:\", first_element)\n",
    "print(\"Last element:\", last_element)\n",
    "print(\"Concatenated tuple:\", concatenated_tuple)\n",
    "print(\"Repeated tuple:\", repeated_tuple)\n",
    "print(\"Subtuple:\", sub_tuple)\n",
    "print(\"Length of the Subtuple:\", len(sub_tuple))"
   ]
  },
  {
   "cell_type": "markdown",
   "id": "3e3fff83",
   "metadata": {},
   "source": [
    "# 3. Python Dictionary\n",
    "\n",
    "## Dictionaries are used to store data values in key:value pairs.\n",
    "\n",
    "```python\n",
    "dict_var = {key1 : value1, key2 : value2, …..}\n",
    "```\n"
   ]
  },
  {
   "cell_type": "code",
   "execution_count": 36,
   "id": "7e4afa29",
   "metadata": {},
   "outputs": [
    {
     "name": "stdout",
     "output_type": "stream",
     "text": [
      "{'name': 'Alan', 'age': 26, 'city': 'San Jose', 'email': 'alan@example.com'}\n",
      "***********************\n",
      "name: Alan\n",
      "age: 26\n",
      "email: alan@example.com\n",
      "after\n",
      "{'name': 'Alan', 'age': 26, 'email': 'alan@example.com'}\n"
     ]
    }
   ],
   "source": [
    "# 1. Creating a Dictionary\n",
    "# Define a dictionary with some key-value pairs\n",
    "my_dict = {\n",
    "    \"name\": \"Alan\",\n",
    "    \"age\": 25,\n",
    "    \"city\": \"San Jose\"\n",
    "}\n",
    "\n",
    "# 2. Accessing Values\n",
    "# Access a value using its key\n",
    "name = my_dict[\"name\"]\n",
    "\n",
    "# 3. Adding/Updating Values\n",
    "# Add a new key-value pair or update an existing one\n",
    "my_dict[\"email\"] = \"alan@example.com\"  # Adding a new key-value pair\n",
    "my_dict[\"age\"] = 26                    # Updating an existing value\n",
    "\n",
    "print(my_dict)\n",
    "print(\"***********************\")\n",
    "\n",
    "# 4. Deleting a Key\n",
    "# Remove a key-value pair using its key\n",
    "del my_dict[\"city\"]\n",
    "\n",
    "# 5. Iterating through a Dictionary\n",
    "# Iterate over the dictionary and print each key-value pair\n",
    "for key, value in my_dict.items():\n",
    "    print(f\"{key}: {value}\")\n",
    "\n",
    "# Print the updated dictionary for reference\n",
    "print(\"after\")\n",
    "print(my_dict)"
   ]
  },
  {
   "cell_type": "code",
   "execution_count": 37,
   "id": "f2fbcc0f",
   "metadata": {},
   "outputs": [
    {
     "data": {
      "text/plain": [
       "3"
      ]
     },
     "execution_count": 37,
     "metadata": {},
     "output_type": "execute_result"
    }
   ],
   "source": [
    "len(my_dict)"
   ]
  },
  {
   "cell_type": "markdown",
   "id": "8b02a67e-ebc7-4e1d-a560-be7fa54480cf",
   "metadata": {
    "tags": []
   },
   "source": [
    "# 4. Unpacking in Python"
   ]
  },
  {
   "cell_type": "markdown",
   "id": "834d9513-12f8-4cdb-9ec3-2db4922f64f8",
   "metadata": {},
   "source": [
    "\n",
    "Unpacking in Python refers to the process of assigning values from iterables (like lists, tuples, or strings) to variables in a single statement. This feature allows for more readable and concise code. Python provides several unpacking operators, such as `*` for lists and tuples, and `**` for dictionaries, enabling flexible data manipulation. Let's explore the different aspects of unpacking in Python.\n"
   ]
  },
  {
   "cell_type": "markdown",
   "id": "d62a7547-0ffe-4df0-a022-867c6ec24206",
   "metadata": {},
   "source": [
    "## Basic Unpacking"
   ]
  },
  {
   "cell_type": "markdown",
   "id": "3f92e22c-4573-43c8-b4c8-b164575388b2",
   "metadata": {},
   "source": [
    "\n",
    "```python\n",
    "# Unpacking a tuple\n",
    "x, y, z = (1, 2, 3)\n",
    "print(x) # 1\n",
    "print(y) # 2\n",
    "print(z) # 3\n",
    "\n",
    "# Unpacking a list\n",
    "a, b, c = [4, 5, 6]\n",
    "print(a) # 4\n",
    "print(b) # 5\n",
    "print(c) # 6\n",
    "```\n"
   ]
  },
  {
   "cell_type": "markdown",
   "id": "0ee6351f-ae6c-44dd-a069-cf9bdff75f13",
   "metadata": {},
   "source": [
    "## Unpacking with `*`"
   ]
  },
  {
   "cell_type": "markdown",
   "id": "8cfa894c-549b-4e0c-a0ef-3e428b2d916e",
   "metadata": {},
   "source": [
    "\n",
    "```python\n",
    "first, *rest = [1, 2, 3, 4, 5]\n",
    "print(first) # 1\n",
    "print(rest)  # [2, 3, 4, 5]\n",
    "\n",
    "*head, last = \"Hello World\"\n",
    "print(head)  # ['H', 'e', 'l', 'l', 'o', ' ', 'W', 'o', 'r', 'l']\n",
    "print(last)  # d\n",
    "```\n"
   ]
  },
  {
   "cell_type": "markdown",
   "id": "e5b13723-c663-42bf-a6f8-5e64add517e5",
   "metadata": {},
   "source": [
    "## Unpacking with `**` for Dictionaries\n",
    "The ** operator is used to unpack dictionaries, where keys become variable names and values become the corresponding variable values. This is often used in function calls to pass keyword arguments."
   ]
  },
  {
   "cell_type": "code",
   "execution_count": 52,
   "id": "0dfe6626-d508-4db7-a774-f2c749d36ecd",
   "metadata": {},
   "outputs": [
    {
     "name": "stdout",
     "output_type": "stream",
     "text": [
      "Hello, savi!\n"
     ]
    }
   ],
   "source": [
    "def greet(name, greeting):\n",
    "    print(f\"{greeting}, {name}!\")\n",
    "\n",
    "info = {'name': 'savi', 'greeting': 'Hello'}\n",
    "greet(**info)"
   ]
  },
  {
   "cell_type": "markdown",
   "id": "a3baccc2-7a97-40a5-a5ed-382214037891",
   "metadata": {},
   "source": [
    "## Nested Unpacking"
   ]
  },
  {
   "cell_type": "markdown",
   "id": "67e33a05-3580-47f8-b1b9-2989d44a65bd",
   "metadata": {},
   "source": [
    "\n",
    "```python\n",
    "(a, b), (c, d) = ([1, 2], [3, 4])\n",
    "print(a, b, c, d)  # 1 2 3 4\n",
    "```\n"
   ]
  },
  {
   "cell_type": "markdown",
   "id": "171de2a4-6a94-460d-9ef3-58599e8c4777",
   "metadata": {},
   "source": [
    "## Unpacking for Swapping Variables"
   ]
  },
  {
   "cell_type": "markdown",
   "id": "b3b56d02-e641-4276-a856-b8d780cd89c0",
   "metadata": {},
   "source": [
    "\n",
    "```python\n",
    "a, b = b, a\n",
    "```\n"
   ]
  },
  {
   "cell_type": "markdown",
   "id": "fd1c5c35-a28c-434f-a835-54d0578dc5b1",
   "metadata": {},
   "source": [
    "## Use in Loops"
   ]
  },
  {
   "cell_type": "code",
   "execution_count": 43,
   "id": "48169226-c1c0-4718-8bd1-6c559fce1ad6",
   "metadata": {},
   "outputs": [
    {
     "name": "stdout",
     "output_type": "stream",
     "text": [
      "1 2\n",
      "3 4\n",
      "5 6\n"
     ]
    }
   ],
   "source": [
    "for x,y in [(1, 2), (3, 4), (5, 6)]:\n",
    "    print(x, y)"
   ]
  },
  {
   "cell_type": "markdown",
   "id": "59b97279-5135-406e-9340-d6abe5306897",
   "metadata": {},
   "source": [
    "## Unpacking in Function Arguments"
   ]
  },
  {
   "cell_type": "markdown",
   "id": "fb5df9b8-7267-489e-8171-0b15019918b7",
   "metadata": {},
   "source": [
    "\n",
    "```python\n",
    "def sum_numbers(a, b, c):\n",
    "    return a + b + c\n",
    "\n",
    "numbers = [1, 2, 3]\n",
    "print(sum_numbers(*numbers))\n",
    "```\n"
   ]
  },
  {
   "cell_type": "markdown",
   "id": "d7a5607a-7862-4865-aee3-0cf6a1e997f8",
   "metadata": {},
   "source": [
    "\n",
    "Unpacking is a powerful feature in Python that enhances code readability and efficiency, making it easier to work with sequences and structures by directly mapping values to variables.\n"
   ]
  },
  {
   "cell_type": "markdown",
   "id": "a91f5c45-bafa-42f9-8959-22b8fe11e705",
   "metadata": {},
   "source": [
    "## Combining `*` and `**` in Function Calls"
   ]
  },
  {
   "cell_type": "markdown",
   "id": "707c948d-3e95-4d53-a3e6-d95bdf27da4a",
   "metadata": {},
   "source": [
    "\n",
    "```python\n",
    "def greet(greeting, name, punctuation):\n",
    "    print(f\"{greeting}, {name}{punctuation}\")\n",
    "\n",
    "args = ['Hello']\n",
    "kwargs = {'name': 'John', 'punctuation': '!'}\n",
    "\n",
    "greet(*args, **kwargs)\n",
    "```\n",
    "This will output:\n",
    "```\n",
    "Hello, John!\n",
    "```\n"
   ]
  },
  {
   "cell_type": "code",
   "execution_count": 55,
   "id": "14532ef3",
   "metadata": {},
   "outputs": [
    {
     "name": "stdout",
     "output_type": "stream",
     "text": [
      "Hello, Savi!\n"
     ]
    }
   ],
   "source": [
    "def greet(greeting, Name, punctuation):\n",
    "    print(f\"{greeting}, {Name}{punctuation}\")\n",
    "\n",
    "args = ['Hello']\n",
    "kwargs = {'Name': 'Savi', 'punctuation': '!'}\n",
    "\n",
    "greet(*args, **kwargs)"
   ]
  },
  {
   "cell_type": "markdown",
   "id": "ac3e1e69-5171-4302-956e-b252f72d99b9",
   "metadata": {},
   "source": [
    "## Accessing Indices and Values Safely with Built-in Function enumerate"
   ]
  },
  {
   "cell_type": "code",
   "execution_count": 56,
   "id": "134bee2f-d0fb-4ce7-b2cd-f60657834def",
   "metadata": {},
   "outputs": [],
   "source": [
    "colors = ['red', 'orange', 'yellow']"
   ]
  },
  {
   "cell_type": "code",
   "execution_count": 57,
   "id": "0fce34ba-b435-4fda-b850-74f006cd9651",
   "metadata": {},
   "outputs": [
    {
     "data": {
      "text/plain": [
       "[(0, 'red'), (1, 'orange'), (2, 'yellow')]"
      ]
     },
     "execution_count": 57,
     "metadata": {},
     "output_type": "execute_result"
    }
   ],
   "source": [
    "list(enumerate(colors))"
   ]
  },
  {
   "cell_type": "code",
   "execution_count": 58,
   "id": "348cb0fc-4411-4928-8e54-191195b0ed88",
   "metadata": {},
   "outputs": [
    {
     "data": {
      "text/plain": [
       "((0, 'red'), (1, 'orange'), (2, 'yellow'))"
      ]
     },
     "execution_count": 58,
     "metadata": {},
     "output_type": "execute_result"
    }
   ],
   "source": [
    "tuple(enumerate(colors))"
   ]
  },
  {
   "cell_type": "code",
   "execution_count": 59,
   "id": "d2b7636c-83a6-4358-a0e9-76a05a70760f",
   "metadata": {},
   "outputs": [
    {
     "name": "stdout",
     "output_type": "stream",
     "text": [
      "0: red\n",
      "1: orange\n",
      "2: yellow\n"
     ]
    }
   ],
   "source": [
    "for index, value in enumerate(colors):\n",
    "    print(f'{index}: {value}')"
   ]
  },
  {
   "cell_type": "markdown",
   "id": "5a89d843-5445-425a-9ff4-53fdbe574756",
   "metadata": {
    "tags": []
   },
   "source": [
    "# 5. Python Comprehensions\n",
    "\n",
    "In Python, comprehensions are a concise and efficient way to create new sequences (such as lists, sets, or dictionaries) based on existing sequences. Comprehensions are one of Python's most loved and unique features. They allow for cleaner and more readable code. Let's explore list, set, and dictionary comprehensions with examples."
   ]
  },
  {
   "cell_type": "markdown",
   "id": "1536a40b",
   "metadata": {},
   "source": [
    "## List Comprehensions\n",
    "\n",
    "List comprehensions provide a concise way to create lists. It consists of brackets containing an expression followed by a `for` clause, then zero or more `for` or `if` clauses.\n",
    "### Basic Syntax\n",
    "\n",
    "```python\n",
    "[new_item for item in iterable if condition]\n",
    "```"
   ]
  },
  {
   "cell_type": "code",
   "execution_count": 1,
   "id": "57057867-3b03-47f7-8fdf-738826015817",
   "metadata": {},
   "outputs": [],
   "source": [
    "list1 = []"
   ]
  },
  {
   "cell_type": "code",
   "execution_count": 2,
   "id": "abae3337-7128-432e-9d52-4f6b89468fc8",
   "metadata": {},
   "outputs": [],
   "source": [
    "for item in range(1, 6):\n",
    "    list1.append(item)"
   ]
  },
  {
   "cell_type": "code",
   "execution_count": 3,
   "id": "19028b03-321d-43dc-a3e7-3c44e53962db",
   "metadata": {},
   "outputs": [
    {
     "data": {
      "text/plain": [
       "[1, 2, 3, 4, 5]"
      ]
     },
     "execution_count": 3,
     "metadata": {},
     "output_type": "execute_result"
    }
   ],
   "source": [
    "list1"
   ]
  },
  {
   "cell_type": "markdown",
   "id": "d2f45e76-939a-44b0-9658-e5c18e7f35be",
   "metadata": {},
   "source": [
    "### Using a List Comprehension to Create a List of Integers"
   ]
  },
  {
   "cell_type": "code",
   "execution_count": 71,
   "id": "519bb6b3-3f9d-4844-84d8-6cbd082dcc5b",
   "metadata": {},
   "outputs": [],
   "source": [
    "list2 = [item for item in range(6,1,-1)]"
   ]
  },
  {
   "cell_type": "code",
   "execution_count": 72,
   "id": "13269294-571d-4cca-ae6e-f505d8430e7a",
   "metadata": {},
   "outputs": [
    {
     "data": {
      "text/plain": [
       "[6, 5, 4, 3, 2]"
      ]
     },
     "execution_count": 72,
     "metadata": {},
     "output_type": "execute_result"
    }
   ],
   "source": [
    "list2"
   ]
  },
  {
   "cell_type": "markdown",
   "id": "471c3735-84ae-41d1-b989-5c9a529437ed",
   "metadata": {},
   "source": [
    "### Mapping: Performing Operations in a List Comprehension’s Expression"
   ]
  },
  {
   "cell_type": "code",
   "execution_count": 76,
   "id": "ce83ce8c-fbfe-4154-835b-e3fccc0d742f",
   "metadata": {},
   "outputs": [],
   "source": [
    "list3 = [item ** 3 for item in range(1, 6)]"
   ]
  },
  {
   "cell_type": "code",
   "execution_count": 77,
   "id": "70ab6e9c-06d3-4271-aded-d06def2c03d2",
   "metadata": {},
   "outputs": [
    {
     "data": {
      "text/plain": [
       "[1, 8, 27, 64, 125]"
      ]
     },
     "execution_count": 77,
     "metadata": {},
     "output_type": "execute_result"
    }
   ],
   "source": [
    "list3"
   ]
  },
  {
   "cell_type": "markdown",
   "id": "e87b4f8b-828a-43f2-a1a3-a3cb451752d7",
   "metadata": {},
   "source": [
    "### Filtering: List Comprehensions with `if` Clauses "
   ]
  },
  {
   "cell_type": "code",
   "execution_count": 80,
   "id": "7e08440a-344b-468f-96f6-db6c07626083",
   "metadata": {},
   "outputs": [],
   "source": [
    "list4 = [item for item in range(0, 11) if item % 2 == 0]"
   ]
  },
  {
   "cell_type": "code",
   "execution_count": 81,
   "id": "c6697493-58a2-48b8-ae43-ac57c0501fab",
   "metadata": {},
   "outputs": [
    {
     "data": {
      "text/plain": [
       "[0, 2, 4, 6, 8, 10]"
      ]
     },
     "execution_count": 81,
     "metadata": {},
     "output_type": "execute_result"
    }
   ],
   "source": [
    "list4"
   ]
  },
  {
   "cell_type": "markdown",
   "id": "1f9eadef-2b2c-4685-aa1a-2841fd30a324",
   "metadata": {},
   "source": [
    "### List Comprehension That Processes Another List’s Elements "
   ]
  },
  {
   "cell_type": "code",
   "execution_count": 85,
   "id": "01664227-1a82-43bf-a389-c0d30e6bb8d0",
   "metadata": {},
   "outputs": [],
   "source": [
    "colors = ['red', 'orange', 'yellow', 'green', 'blue']"
   ]
  },
  {
   "cell_type": "code",
   "execution_count": 86,
   "id": "c537fc0a-f616-4faa-890f-b8737e48768c",
   "metadata": {},
   "outputs": [],
   "source": [
    "colors2 = [item.upper() for item in colors]"
   ]
  },
  {
   "cell_type": "code",
   "execution_count": 87,
   "id": "aced9dd2-0495-44db-9255-52ff51856bff",
   "metadata": {},
   "outputs": [
    {
     "data": {
      "text/plain": [
       "['RED', 'ORANGE', 'YELLOW', 'GREEN', 'BLUE']"
      ]
     },
     "execution_count": 87,
     "metadata": {},
     "output_type": "execute_result"
    }
   ],
   "source": [
    "colors2"
   ]
  },
  {
   "cell_type": "code",
   "execution_count": 88,
   "id": "51ae2ab0-cdbf-43a1-bdda-4a9b8a1b07d4",
   "metadata": {},
   "outputs": [
    {
     "data": {
      "text/plain": [
       "['red', 'orange', 'yellow', 'green', 'blue']"
      ]
     },
     "execution_count": 88,
     "metadata": {},
     "output_type": "execute_result"
    }
   ],
   "source": [
    "colors"
   ]
  },
  {
   "cell_type": "code",
   "execution_count": 89,
   "id": "273bdcc3",
   "metadata": {},
   "outputs": [
    {
     "name": "stdout",
     "output_type": "stream",
     "text": [
      "[0, 4, 16, 36, 64]\n"
     ]
    }
   ],
   "source": [
    "# List comprehension to find squares of even numbers\n",
    "even_squares = [x**2 for x in range(10) if x % 2 == 0]\n",
    "print(even_squares)"
   ]
  },
  {
   "cell_type": "markdown",
   "id": "b552d42e",
   "metadata": {},
   "source": [
    "## Dictionary Comprehensions\n",
    "\n",
    "Dictionary comprehensions allow for the creation of dictionaries. The syntax is similar, but it requires key-value pairs.\n",
    "### Basic Syntax\n",
    "\n",
    "```python\n",
    "{key: value for item in iterable if condition}\n",
    "```"
   ]
  },
  {
   "cell_type": "code",
   "execution_count": 90,
   "id": "a2eadac7",
   "metadata": {},
   "outputs": [
    {
     "name": "stdout",
     "output_type": "stream",
     "text": [
      "{1: 1, 2: 4, 3: 9, 4: 16}\n"
     ]
    }
   ],
   "source": [
    "# Dictionary comprehension\n",
    "square_dict = {num: num**2 for num in range(1, 5)}\n",
    "print(square_dict)"
   ]
  },
  {
   "cell_type": "markdown",
   "id": "07e28992-f7a8-41b8-993d-678b3638253a",
   "metadata": {},
   "source": [
    "# Sorting "
   ]
  },
  {
   "cell_type": "markdown",
   "id": "9c39a1b3-cc32-4b2b-9949-424ea14824da",
   "metadata": {},
   "source": [
    "### Sorting a List in Ascending Order"
   ]
  },
  {
   "cell_type": "code",
   "execution_count": 91,
   "id": "cc217e27-56ab-444d-b694-c400e72bf1ac",
   "metadata": {},
   "outputs": [],
   "source": [
    "numbers = [10, 3, 7, 1, 9, 4, 2, 8, 5, 6]"
   ]
  },
  {
   "cell_type": "code",
   "execution_count": 92,
   "id": "320094bc-8fb3-4bfb-b266-e0ebe492f9dd",
   "metadata": {},
   "outputs": [],
   "source": [
    "numbers.sort()"
   ]
  },
  {
   "cell_type": "code",
   "execution_count": 93,
   "id": "3851cfc4-d280-48dd-a644-898d9bd90968",
   "metadata": {},
   "outputs": [
    {
     "data": {
      "text/plain": [
       "[1, 2, 3, 4, 5, 6, 7, 8, 9, 10]"
      ]
     },
     "execution_count": 93,
     "metadata": {},
     "output_type": "execute_result"
    }
   ],
   "source": [
    "numbers"
   ]
  },
  {
   "cell_type": "code",
   "execution_count": 94,
   "id": "cae7134f-df2c-479a-ad03-492b19b77858",
   "metadata": {},
   "outputs": [],
   "source": [
    "ascending_numbers = numbers.copy()"
   ]
  },
  {
   "cell_type": "code",
   "execution_count": 95,
   "id": "dd34063f-dbc0-435c-9e28-f0aec3c9d50c",
   "metadata": {},
   "outputs": [
    {
     "data": {
      "text/plain": [
       "[1, 2, 3, 4, 5, 6, 7, 8, 9, 10]"
      ]
     },
     "execution_count": 95,
     "metadata": {},
     "output_type": "execute_result"
    }
   ],
   "source": [
    "ascending_numbers"
   ]
  },
  {
   "cell_type": "markdown",
   "id": "37f2fad4-647c-45bf-a146-e81bb0a64f53",
   "metadata": {},
   "source": [
    "### Sorting a List in Descending Order"
   ]
  },
  {
   "cell_type": "code",
   "execution_count": 96,
   "id": "42726def-7821-4e5c-aa91-8c4ebad7c976",
   "metadata": {},
   "outputs": [],
   "source": [
    "numbers.sort(reverse=True)"
   ]
  },
  {
   "cell_type": "code",
   "execution_count": 97,
   "id": "3c5b1dfe-029a-46c4-8525-8c5003255492",
   "metadata": {},
   "outputs": [
    {
     "data": {
      "text/plain": [
       "[10, 9, 8, 7, 6, 5, 4, 3, 2, 1]"
      ]
     },
     "execution_count": 97,
     "metadata": {},
     "output_type": "execute_result"
    }
   ],
   "source": [
    "numbers"
   ]
  },
  {
   "cell_type": "markdown",
   "id": "24ae3f17-0ee0-480d-9891-d77ee6d24766",
   "metadata": {},
   "source": [
    "### Built-In Function `sorted`"
   ]
  },
  {
   "cell_type": "code",
   "execution_count": 1,
   "id": "30da9843-c288-4db0-8860-05c3e861edee",
   "metadata": {},
   "outputs": [],
   "source": [
    "numbers = [10, 3, 7, 1, 9, 4, 2, 8, 5, 6]"
   ]
  },
  {
   "cell_type": "code",
   "execution_count": 2,
   "id": "fc563be0-848e-46c4-8a7e-568b520b69a5",
   "metadata": {},
   "outputs": [],
   "source": [
    "ascending_numbers = sorted(numbers)"
   ]
  },
  {
   "cell_type": "code",
   "execution_count": 98,
   "id": "86916a70-cb54-4993-b57d-82bf4108bad7",
   "metadata": {},
   "outputs": [
    {
     "data": {
      "text/plain": [
       "[1, 2, 3, 4, 5, 6, 7, 8, 9, 10]"
      ]
     },
     "execution_count": 98,
     "metadata": {},
     "output_type": "execute_result"
    }
   ],
   "source": [
    "ascending_numbers"
   ]
  },
  {
   "cell_type": "code",
   "execution_count": 99,
   "id": "f96e92a0-a04a-411e-a04e-b30c52c78234",
   "metadata": {},
   "outputs": [
    {
     "data": {
      "text/plain": [
       "[10, 9, 8, 7, 6, 5, 4, 3, 2, 1]"
      ]
     },
     "execution_count": 99,
     "metadata": {},
     "output_type": "execute_result"
    }
   ],
   "source": [
    "numbers"
   ]
  },
  {
   "cell_type": "code",
   "execution_count": 100,
   "id": "103b1e62-a731-49dd-8d6b-a86f7a2a46f6",
   "metadata": {},
   "outputs": [],
   "source": [
    "letters = 'fadgchjebi'"
   ]
  },
  {
   "cell_type": "code",
   "execution_count": 101,
   "id": "1b1c9769-f6a6-4fd5-b1a0-69ba1a9ec1a6",
   "metadata": {},
   "outputs": [],
   "source": [
    "ascending_letters = sorted(letters)"
   ]
  },
  {
   "cell_type": "code",
   "execution_count": 102,
   "id": "dc93211b-3392-4208-b906-11b3474c5062",
   "metadata": {},
   "outputs": [
    {
     "data": {
      "text/plain": [
       "['a', 'b', 'c', 'd', 'e', 'f', 'g', 'h', 'i', 'j']"
      ]
     },
     "execution_count": 102,
     "metadata": {},
     "output_type": "execute_result"
    }
   ],
   "source": [
    "ascending_letters"
   ]
  },
  {
   "cell_type": "code",
   "execution_count": 103,
   "id": "52175c7e-7133-4734-913e-5c3ca395f2ef",
   "metadata": {},
   "outputs": [
    {
     "data": {
      "text/plain": [
       "'fadgchjebi'"
      ]
     },
     "execution_count": 103,
     "metadata": {},
     "output_type": "execute_result"
    }
   ],
   "source": [
    "letters"
   ]
  },
  {
   "cell_type": "code",
   "execution_count": 104,
   "id": "afa13f72-c59d-45ff-bbbf-32dc15f15faa",
   "metadata": {},
   "outputs": [],
   "source": [
    "colors = ('red', 'orange', 'yellow', 'green', 'blue')"
   ]
  },
  {
   "cell_type": "code",
   "execution_count": 105,
   "id": "dbbc3354-c20b-42fa-850b-a4b777fec7c3",
   "metadata": {},
   "outputs": [],
   "source": [
    "ascending_colors = sorted(colors)"
   ]
  },
  {
   "cell_type": "code",
   "execution_count": 106,
   "id": "8f916d39-bc0b-48f5-8081-271010170974",
   "metadata": {},
   "outputs": [
    {
     "data": {
      "text/plain": [
       "['blue', 'green', 'orange', 'red', 'yellow']"
      ]
     },
     "execution_count": 106,
     "metadata": {},
     "output_type": "execute_result"
    }
   ],
   "source": [
    "ascending_colors"
   ]
  },
  {
   "cell_type": "code",
   "execution_count": 107,
   "id": "ca78bb8a-07e2-4c71-9551-e55ffe762ff6",
   "metadata": {},
   "outputs": [
    {
     "data": {
      "text/plain": [
       "('red', 'orange', 'yellow', 'green', 'blue')"
      ]
     },
     "execution_count": 107,
     "metadata": {},
     "output_type": "execute_result"
    }
   ],
   "source": [
    "colors"
   ]
  },
  {
   "cell_type": "markdown",
   "id": "0724466b-e83b-4ad9-8579-dda8ab19fe40",
   "metadata": {},
   "source": [
    "# Difference between sort() and sorted() in Python"
   ]
  },
  {
   "cell_type": "markdown",
   "id": "91554a5e-ec05-4563-ab4e-cc229e6a3572",
   "metadata": {},
   "source": [
    "\n",
    "`sort()` <ins>method</ins> and `sorted()` <ins>function</ins> are used in Python to sort iterables like lists, but there are important differences between them.\n"
   ]
  },
  {
   "cell_type": "markdown",
   "id": "c5c89009-2145-42e9-b0c4-639efa5cce9c",
   "metadata": {},
   "source": [
    "## `sort()`"
   ]
  },
  {
   "cell_type": "markdown",
   "id": "cfcd2304-01f3-4e6b-9045-4f0d4c0015a8",
   "metadata": {},
   "source": [
    "\n",
    "- `sort()` modifies the list in place and changes the original list's order. It sorts the list \"in-place\" and returns `None`.\n",
    "- The `sort()` method can only be used with lists.\n",
    "\n",
    "```python\n",
    "my_list = [3, 1, 4, 1, 5, 9, 2]\n",
    "my_list.sort()\n",
    "print(my_list)  # [1, 1, 2, 3, 4, 5, 9]\n",
    "```\n"
   ]
  },
  {
   "cell_type": "markdown",
   "id": "e32df599-0831-4971-b4b0-d366564f6634",
   "metadata": {},
   "source": [
    "## `sorted()`"
   ]
  },
  {
   "cell_type": "markdown",
   "id": "b3aef96a-0393-4d43-8169-3a173f9e5604",
   "metadata": {},
   "source": [
    "\n",
    "- `sorted()` takes any iterable and returns a new sorted list. The original data is not changed.\n",
    "- The `sorted()` function can be used with lists, tuples, strings, and other iterable objects, making it more versatile.\n",
    "\n",
    "```python\n",
    "my_list = [3, 1, 4, 1, 5, 9, 2]\n",
    "new_list = sorted(my_list)\n",
    "print(my_list)  # Original list is not changed: [3, 1, 4, 1, 5, 9, 2]\n",
    "print(new_list)  # New sorted list: [1, 1, 2, 3, 4, 5, 9]\n",
    "```\n"
   ]
  },
  {
   "cell_type": "markdown",
   "id": "845554f7-0b2e-4a8c-bc5f-8c6a8ab1711e",
   "metadata": {},
   "source": [
    "## Key Differences Summary"
   ]
  },
  {
   "cell_type": "markdown",
   "id": "c497e0b8-a3f7-46f6-8360-aae6e5db0cc9",
   "metadata": {},
   "source": [
    "\n",
    "- **Modification**: `sort()` changes the original list, whereas `sorted()` does not alter the original but returns a new sorted list.\n",
    "- **Versatility**: `sort()` can only be used with lists, while `sorted()` can be applied to any iterable.\n",
    "- **Return Value**: `sort()` returns `None`, while `sorted()` returns a new sorted list.\n",
    "\n",
    "Depending on the situation, if you need to preserve the original data, `sorted()` should be used. If modifying the original list directly is acceptable, then `sort()` can be applied.\n"
   ]
  },
  {
   "cell_type": "markdown",
   "id": "0b5eb3b7-a463-4dc6-bbbe-401630ee3be4",
   "metadata": {},
   "source": [
    "# 6. Other List Methods "
   ]
  },
  {
   "cell_type": "code",
   "execution_count": 109,
   "id": "0116a95f-c6f6-4ced-b95b-212d8adcc32d",
   "metadata": {},
   "outputs": [],
   "source": [
    "color_names = ['orange', 'yellow', 'green']"
   ]
  },
  {
   "cell_type": "markdown",
   "id": "651a7d57-9480-42cc-8bd3-752f4af5b47c",
   "metadata": {},
   "source": [
    "### Inserting an Element at a Specific List Index"
   ]
  },
  {
   "cell_type": "code",
   "execution_count": 110,
   "id": "2ada08da-85a6-445b-af6e-914a301ab4bc",
   "metadata": {},
   "outputs": [],
   "source": [
    "color_names.insert(0, 'red')"
   ]
  },
  {
   "cell_type": "code",
   "execution_count": 111,
   "id": "5c24c600-ac8f-4423-a66f-69326508d555",
   "metadata": {},
   "outputs": [
    {
     "data": {
      "text/plain": [
       "['red', 'orange', 'yellow', 'green']"
      ]
     },
     "execution_count": 111,
     "metadata": {},
     "output_type": "execute_result"
    }
   ],
   "source": [
    "color_names"
   ]
  },
  {
   "cell_type": "markdown",
   "id": "590cbcb4-4b0e-479f-8a50-24974ec2ed36",
   "metadata": {},
   "source": [
    "### Adding an Element to the End of a List"
   ]
  },
  {
   "cell_type": "code",
   "execution_count": 112,
   "id": "604c74a5-4137-4adf-b8ee-a6646b716e55",
   "metadata": {},
   "outputs": [],
   "source": [
    "color_names.append('blue')"
   ]
  },
  {
   "cell_type": "code",
   "execution_count": 113,
   "id": "2863794e-2cc5-41c4-b7a9-76b6206f5049",
   "metadata": {},
   "outputs": [
    {
     "data": {
      "text/plain": [
       "['red', 'orange', 'yellow', 'green', 'blue']"
      ]
     },
     "execution_count": 113,
     "metadata": {},
     "output_type": "execute_result"
    }
   ],
   "source": [
    "color_names"
   ]
  },
  {
   "cell_type": "markdown",
   "id": "f8ae53e9-f17f-4cce-a7aa-728f35143857",
   "metadata": {},
   "source": [
    "### Adding All the Elements of a Sequence to the End of a List"
   ]
  },
  {
   "cell_type": "code",
   "execution_count": 115,
   "id": "f1b87094-f5c1-40ba-9cbf-b84b4923020c",
   "metadata": {},
   "outputs": [],
   "source": [
    "color_names.extend(['indigo', 'violet'])"
   ]
  },
  {
   "cell_type": "code",
   "execution_count": 116,
   "id": "fb68d296-2055-4701-ab98-2d163d039d8f",
   "metadata": {},
   "outputs": [
    {
     "data": {
      "text/plain": [
       "['red',\n",
       " 'orange',\n",
       " 'yellow',\n",
       " 'green',\n",
       " 'blue',\n",
       " 'indigo',\n",
       " 'violet',\n",
       " 'indigo',\n",
       " 'violet']"
      ]
     },
     "execution_count": 116,
     "metadata": {},
     "output_type": "execute_result"
    }
   ],
   "source": [
    "color_names"
   ]
  },
  {
   "cell_type": "code",
   "execution_count": 118,
   "id": "752fe227-2b0d-4df3-8635-16f52d191c56",
   "metadata": {},
   "outputs": [],
   "source": [
    "sample_list = []"
   ]
  },
  {
   "cell_type": "code",
   "execution_count": 119,
   "id": "7e65e1d4-829b-4257-beab-bad8fc9ca68c",
   "metadata": {},
   "outputs": [],
   "source": [
    "s = 'abc'"
   ]
  },
  {
   "cell_type": "code",
   "execution_count": 120,
   "id": "70a9b2d2-dc8c-4789-83ad-ea4d11955372",
   "metadata": {},
   "outputs": [],
   "source": [
    "sample_list.extend(s)"
   ]
  },
  {
   "cell_type": "code",
   "execution_count": 121,
   "id": "85a33d2d-74a1-4628-9262-54fb15cd99be",
   "metadata": {},
   "outputs": [
    {
     "data": {
      "text/plain": [
       "['a', 'b', 'c']"
      ]
     },
     "execution_count": 121,
     "metadata": {},
     "output_type": "execute_result"
    }
   ],
   "source": [
    "sample_list"
   ]
  },
  {
   "cell_type": "code",
   "execution_count": 123,
   "id": "f7c5f44e-54b8-49d1-a199-f1550336ffed",
   "metadata": {},
   "outputs": [],
   "source": [
    "t = (1, 2, 3)"
   ]
  },
  {
   "cell_type": "code",
   "execution_count": 124,
   "id": "c731d487-6ff9-4646-b5c5-71e2d90dc90a",
   "metadata": {},
   "outputs": [],
   "source": [
    "sample_list.extend(t)"
   ]
  },
  {
   "cell_type": "code",
   "execution_count": 125,
   "id": "4c42bcec-a1d3-4a3f-8e6f-19585f403b7d",
   "metadata": {},
   "outputs": [
    {
     "data": {
      "text/plain": [
       "['a', 'b', 'c', 1, 2, 3]"
      ]
     },
     "execution_count": 125,
     "metadata": {},
     "output_type": "execute_result"
    }
   ],
   "source": [
    "sample_list"
   ]
  },
  {
   "cell_type": "code",
   "execution_count": 126,
   "id": "c853e856-cb49-4433-afa7-436bc2775249",
   "metadata": {},
   "outputs": [],
   "source": [
    "sample_list.extend((4, 5, 6))  # note the extra parentheses"
   ]
  },
  {
   "cell_type": "code",
   "execution_count": 127,
   "id": "7f4b8825-2233-43c2-9f1f-d9c546546abd",
   "metadata": {},
   "outputs": [
    {
     "data": {
      "text/plain": [
       "['a', 'b', 'c', 1, 2, 3, 4, 5, 6]"
      ]
     },
     "execution_count": 127,
     "metadata": {},
     "output_type": "execute_result"
    }
   ],
   "source": [
    "sample_list"
   ]
  },
  {
   "cell_type": "markdown",
   "id": "4ff393e9-248b-4572-8e40-8b0009015537",
   "metadata": {},
   "source": [
    "### Removing the First Occurrence of an Element in a List "
   ]
  },
  {
   "cell_type": "code",
   "execution_count": 128,
   "id": "fc4f34a3-787c-405b-bfc9-f27f613145b5",
   "metadata": {},
   "outputs": [],
   "source": [
    "color_names.remove('green')"
   ]
  },
  {
   "cell_type": "code",
   "execution_count": 129,
   "id": "c9e094cb-06d7-4f3f-aa43-2e53c9b7a0fc",
   "metadata": {},
   "outputs": [
    {
     "data": {
      "text/plain": [
       "['red', 'orange', 'yellow', 'blue', 'indigo', 'violet', 'indigo', 'violet']"
      ]
     },
     "execution_count": 129,
     "metadata": {},
     "output_type": "execute_result"
    }
   ],
   "source": [
    "color_names"
   ]
  },
  {
   "cell_type": "markdown",
   "id": "069d3d29-68fd-4b32-a728-a9fdba42af0c",
   "metadata": {},
   "source": [
    "### Emptying a List"
   ]
  },
  {
   "cell_type": "code",
   "execution_count": 130,
   "id": "974b5e70-ba96-4416-89af-ff11f09c1b26",
   "metadata": {},
   "outputs": [],
   "source": [
    "color_names.clear()"
   ]
  },
  {
   "cell_type": "code",
   "execution_count": 131,
   "id": "8d2cd2d8-f1b6-4b2f-9a95-de1f6782f203",
   "metadata": {},
   "outputs": [
    {
     "data": {
      "text/plain": [
       "[]"
      ]
     },
     "execution_count": 131,
     "metadata": {},
     "output_type": "execute_result"
    }
   ],
   "source": [
    "color_names"
   ]
  },
  {
   "cell_type": "markdown",
   "id": "d6fe8f64-a3dd-4874-8759-9f549918fb9d",
   "metadata": {},
   "source": [
    "### Counting the Number of Occurrences of an Item"
   ]
  },
  {
   "cell_type": "code",
   "execution_count": 132,
   "id": "c74dc416-36ba-4880-bb8d-5d5bcc3b682d",
   "metadata": {},
   "outputs": [],
   "source": [
    "responses = [1, 2, 5, 4, 3, 5, 2, 1, 3, 3, 1, 4, 3, 3, 3, 2, 3, 3, 2, 2]"
   ]
  },
  {
   "cell_type": "code",
   "execution_count": 134,
   "id": "ef027f58-11f9-4be4-a6a9-228a22f84515",
   "metadata": {},
   "outputs": [
    {
     "name": "stdout",
     "output_type": "stream",
     "text": [
      "1 appears 3 times in responses\n",
      "2 appears 5 times in responses\n",
      "3 appears 8 times in responses\n",
      "4 appears 2 times in responses\n",
      "5 appears 2 times in responses\n"
     ]
    }
   ],
   "source": [
    "for i in range(1, 6):\n",
    "    print(f'{i} appears {responses.count(i)} times in responses')"
   ]
  },
  {
   "cell_type": "markdown",
   "id": "8f6e9487-9e5f-4e7b-9353-62b512977cac",
   "metadata": {},
   "source": [
    "### Reversing a List’s Elements"
   ]
  },
  {
   "cell_type": "code",
   "execution_count": 135,
   "id": "270a8d03-fb42-4eb3-9a94-5fb70d321bf6",
   "metadata": {},
   "outputs": [],
   "source": [
    "color_names = ['red', 'orange', 'yellow', 'green', 'blue']"
   ]
  },
  {
   "cell_type": "code",
   "execution_count": 136,
   "id": "7b4a5fbc-1ed5-42f6-a2fc-9114b7fff16e",
   "metadata": {},
   "outputs": [],
   "source": [
    "color_names.reverse()"
   ]
  },
  {
   "cell_type": "code",
   "execution_count": 137,
   "id": "b808d4aa-2956-4d1e-8144-3aa930544b3b",
   "metadata": {},
   "outputs": [
    {
     "data": {
      "text/plain": [
       "['blue', 'green', 'yellow', 'orange', 'red']"
      ]
     },
     "execution_count": 137,
     "metadata": {},
     "output_type": "execute_result"
    }
   ],
   "source": [
    "color_names"
   ]
  },
  {
   "cell_type": "markdown",
   "id": "5327401a-60a8-4136-a663-107f9cd0ee62",
   "metadata": {},
   "source": [
    "### Copying a List"
   ]
  },
  {
   "cell_type": "code",
   "execution_count": 138,
   "id": "5a153f1c-7f2f-4422-b555-43a3ac706d11",
   "metadata": {},
   "outputs": [],
   "source": [
    "copied_list = color_names.copy()"
   ]
  },
  {
   "cell_type": "code",
   "execution_count": 139,
   "id": "3175bb2d-57b2-4003-8db4-2d5dce808b34",
   "metadata": {},
   "outputs": [
    {
     "data": {
      "text/plain": [
       "['blue', 'green', 'yellow', 'orange', 'red']"
      ]
     },
     "execution_count": 139,
     "metadata": {},
     "output_type": "execute_result"
    }
   ],
   "source": [
    "copied_list"
   ]
  },
  {
   "cell_type": "markdown",
   "id": "496b84a7-7ad5-48ac-a601-f93a882b2bc7",
   "metadata": {},
   "source": [
    "# 7 Two-Dimensional Lists"
   ]
  },
  {
   "cell_type": "markdown",
   "id": "184bdeb5-9449-4d6a-b683-0455d2070477",
   "metadata": {},
   "source": [
    "### Creating a Two-Dimensional List"
   ]
  },
  {
   "cell_type": "code",
   "execution_count": 140,
   "id": "04ff355e-5231-4c47-904e-928c27b46be1",
   "metadata": {},
   "outputs": [],
   "source": [
    "a = [[77, 68, 86, 73], [96, 87, 89, 81], [70, 90, 86, 81]]"
   ]
  },
  {
   "cell_type": "markdown",
   "id": "86c6fcbc-e968-49f8-949e-77d73c5e9540",
   "metadata": {},
   "source": [
    "### Illustrating a Two-Dimensional List"
   ]
  },
  {
   "cell_type": "markdown",
   "id": "272c313e-1884-4b4d-adc4-53ee7301b698",
   "metadata": {},
   "source": [
    "### Identifying the Elements in a Two-Dimensional List"
   ]
  },
  {
   "cell_type": "code",
   "execution_count": 147,
   "id": "faf7bd02-5bfa-4458-ace9-c9a2ae1dc136",
   "metadata": {},
   "outputs": [
    {
     "name": "stdout",
     "output_type": "stream",
     "text": [
      "77 68 86 73 \n",
      "96 87 89 81 \n",
      "70 90 86 81 \n"
     ]
    }
   ],
   "source": [
    "for row in a:\n",
    "    for item in row:\n",
    "        print(item, end=' ')\n",
    "    print('')\n",
    "        "
   ]
  },
  {
   "cell_type": "markdown",
   "id": "4756ba5f-39ba-47f8-8c74-05f0b00f067b",
   "metadata": {},
   "source": [
    "### How the Nested Loops Execute"
   ]
  },
  {
   "cell_type": "code",
   "execution_count": 148,
   "id": "bb00fb5f-8471-4ff5-847e-af0c55e84bb4",
   "metadata": {},
   "outputs": [
    {
     "name": "stdout",
     "output_type": "stream",
     "text": [
      "a[0][0]=77  a[0][1]=68  a[0][2]=86  a[0][3]=73  \n",
      "a[1][0]=96  a[1][1]=87  a[1][2]=89  a[1][3]=81  \n",
      "a[2][0]=70  a[2][1]=90  a[2][2]=86  a[2][3]=81  \n"
     ]
    }
   ],
   "source": [
    "for i, row in enumerate(a):\n",
    "    for j, item in enumerate(row):\n",
    "        print(f'a[{i}][{j}]={item} ', end=' ')\n",
    "    print()"
   ]
  },
  {
   "cell_type": "markdown",
   "id": "4abbe0ec-9b39-4d10-a86b-7440dcd74629",
   "metadata": {},
   "source": [
    "The \"end\" parameter in the print function specifies what character to append at the end of the output. By default, the print function ends with a newline character (\\n), meaning it moves to a new line after printing. However, you can use the end parameter to change this behavior.\n",
    "\n",
    "When you use print(item, end=' '), it means that instead of ending the output with a newline, the print function should add a space character (' ') after printing item. Therefore, if you call the print function multiple times, the outputs will appear on the same line, separated by spaces, rather than each output appearing on a new line.\n"
   ]
  }
 ],
 "metadata": {
  "kernelspec": {
   "display_name": "base",
   "language": "python",
   "name": "python3"
  },
  "language_info": {
   "codemirror_mode": {
    "name": "ipython",
    "version": 3
   },
   "file_extension": ".py",
   "mimetype": "text/x-python",
   "name": "python",
   "nbconvert_exporter": "python",
   "pygments_lexer": "ipython3",
   "version": "3.12.7"
  }
 },
 "nbformat": 4,
 "nbformat_minor": 5
}
