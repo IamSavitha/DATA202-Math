{
 "cells": [
  {
   "cell_type": "markdown",
   "metadata": {},
   "source": [
    "# 1. Using the `print()` Function in Python\n",
    "\n",
    "In Python, the `print()` function is one of the most fundamental and important functions. It allows you to display text in the console or terminal. In this document, we will look at the basic usage of the `print()` function with a few simple examples."
   ]
  },
  {
   "cell_type": "markdown",
   "metadata": {},
   "source": [
    "## Basic Usage\n",
    "\n",
    "The most basic way to use the `print()` function is as follows:\n",
    "\n",
    "```python\n",
    "print(value)\n",
    "```\n",
    "\n",
    "Here, `value` can be a string, number, variable, or other data types that you want in the output."
   ]
  },
  {
   "cell_type": "code",
   "execution_count": 1,
   "metadata": {},
   "outputs": [
    {
     "name": "stdout",
     "output_type": "stream",
     "text": [
      "Hello, World!\n"
     ]
    }
   ],
   "source": [
    "# Printing a string\n",
    "print(\"Hello, World!\")"
   ]
  },
  {
   "cell_type": "code",
   "execution_count": 2,
   "metadata": {},
   "outputs": [
    {
     "name": "stdout",
     "output_type": "stream",
     "text": [
      "123\n",
      "3.14\n"
     ]
    }
   ],
   "source": [
    "# Printing numbers\n",
    "print(123)\n",
    "print(3.14)"
   ]
  },
  {
   "cell_type": "code",
   "execution_count": 3,
   "metadata": {},
   "outputs": [
    {
     "name": "stdout",
     "output_type": "stream",
     "text": [
      "Hello!\n"
     ]
    }
   ],
   "source": [
    "# Using variables for printing\n",
    "message = \"Hello!\"\n",
    "print(message)"
   ]
  },
  {
   "cell_type": "code",
   "execution_count": 4,
   "metadata": {},
   "outputs": [
    {
     "name": "stdout",
     "output_type": "stream",
     "text": [
      "John Doe is 30 years old.\n"
     ]
    }
   ],
   "source": [
    "# Printing multiple values\n",
    "name = \"John Doe\"\n",
    "age = 30\n",
    "print(name, \"is\", age, \"years old.\")"
   ]
  },
  {
   "cell_type": "code",
   "execution_count": 4,
   "metadata": {},
   "outputs": [
    {
     "name": "stdout",
     "output_type": "stream",
     "text": [
      "First line\n",
      "Second line\n"
     ]
    }
   ],
   "source": [
    "# Line breaks and special characters\n",
    "print(\"First line\\nSecond line\")"
   ]
  },
  {
   "cell_type": "code",
   "execution_count": 2,
   "metadata": {},
   "outputs": [
    {
     "name": "stdout",
     "output_type": "stream",
     "text": [
      "Jane Doe is 25 years old.\n"
     ]
    }
   ],
   "source": [
    "# Printing with formatting\n",
    "name = \"Jane Doe\"\n",
    "age = 25\n",
    "print(f\"{name} is {age} years old.\")"
   ]
  },
  {
   "cell_type": "markdown",
   "metadata": {},
   "source": [
    "# Printing with Formatting in Python"
   ]
  },
  {
   "cell_type": "markdown",
   "metadata": {},
   "source": [
    "\n",
    "Printing with formatting in Python allows you to control how strings, numbers, and other data types are presented when printed to the console. Python provides several ways to format output, including old-style `%` formatting, `str.format()`, and the newer f-strings (formatted string literals) introduced in Python 3.6. Each method offers different advantages and can be chosen based on preference or the specific needs of your program.\n"
   ]
  },
  {
   "cell_type": "markdown",
   "metadata": {},
   "source": [
    "## 1. Old-Style `%` Formatting"
   ]
  },
  {
   "cell_type": "markdown",
   "metadata": {},
   "source": [
    "\n",
    "This is the original formatting option in Python. It uses the `%` operator to substitute values into a format string. The `%` operator is followed by format specifiers that dictate how the values should be presented.\n",
    "```python\n",
    "name = \"John\"\n",
    "age = 30\n",
    "print(\"My name is %s and I am %d years old.\" % (name, age))\n",
    "```\n",
    "- `%s` is used for strings.\n",
    "- `%d` is used for integers.\n"
   ]
  },
  {
   "cell_type": "markdown",
   "metadata": {},
   "source": [
    "## 2. `str.format()`"
   ]
  },
  {
   "cell_type": "markdown",
   "metadata": {},
   "source": [
    "\n",
    "Introduced in Python 2.6 and 3.0, `str.format()` offers more flexibility and readability than `%` formatting. It uses curly braces `{}` as placeholders for values that will be formatted and inserted.\n",
    "```python\n",
    "name = \"John\"\n",
    "age = 30\n",
    "print(\"My name is {} and I am {} years old.\".format(name, age))\n",
    "```\n",
    "You can also refer to the variables by index or keyword to make the formatting clearer and to allow for the reuse of variables within the string.\n",
    "```python\n",
    "print(\"My name is {0} and I am {1} years old. Yes, I am {1}.\".format(name, age))\n",
    "print(\"My name is {name} and I am {age} years old.\".format(name=name, age=age))\n",
    "```\n"
   ]
  },
  {
   "cell_type": "markdown",
   "metadata": {},
   "source": [
    "## 3. f-Strings (Formatted String Literals)"
   ]
  },
  {
   "cell_type": "markdown",
   "metadata": {},
   "source": [
    "\n",
    "Introduced in Python 3.6, f-strings offer a concise and readable way to embed expressions inside string literals using minimal syntax. You simply prefix the string with `f` and write expressions as `{expression}` directly within the string.\n",
    "```python\n",
    "name = \"John\"\n",
    "age = 30\n",
    "print(f\"My name is {name} and I am {age} years old.\")\n",
    "```\n",
    "You can also perform operations and call functions within the curly braces.\n",
    "```python\n",
    "print(f\"Next year, I will be {age + 1}.\")\n",
    "```\n"
   ]
  },
  {
   "cell_type": "markdown",
   "metadata": {},
   "source": [
    "## Choosing a Formatting Method"
   ]
  },
  {
   "cell_type": "markdown",
   "metadata": {},
   "source": [
    "\n",
    "- **Use `%` formatting** if you're working with a very old Python codebase that doesn't use `str.format()` or f-strings.\n",
    "- **Use `str.format()`** for somewhat newer codebases or for complex formatting that might benefit from the method's advanced options.\n",
    "- **Use f-strings** for the most modern, readable, and concise syntax, provided you're using Python 3.6 or newer.\n",
    "\n",
    "Each method has its place, but f-strings are generally recommended for new code due to their simplicity and efficiency.\n",
    "\n",
    "\n",
    "You can connect mutliple \"strings\" with commas(,):"
   ]
  },
  {
   "cell_type": "code",
   "execution_count": 1,
   "metadata": {},
   "outputs": [
    {
     "name": "stdout",
     "output_type": "stream",
     "text": [
      "My name is John and I am 30 years old.\n"
     ]
    }
   ],
   "source": [
    "name = \"John\"\n",
    "age = 30\n",
    "print(\"My name is\", name, \"and I am\", age, \"years old.\")"
   ]
  },
  {
   "cell_type": "markdown",
   "metadata": {},
   "source": [
    "# 2. Python's if-else Syntax\n",
    "\n",
    "In Python, the `if-else` statement is a widely used control flow statement. It allows for conditional execution of code fragments. Python evaluates the condition in the `if` statement. If the condition is true, it executes the block of code within the `if` statement. If the condition is false, it executes the code within the `else` statement (if present)."
   ]
  },
  {
   "cell_type": "markdown",
   "metadata": {},
   "source": [
    "## Basic Syntax\n",
    "\n",
    "The basic syntax of an `if-else` statement in Python is:\n",
    "\n",
    "```python\n",
    "if condition:\n",
    "    # code to execute if the condition is true\n",
    "else:\n",
    "    # code to execute if the condition is false\n",
    "```"
   ]
  },
  {
   "cell_type": "code",
   "execution_count": null,
   "metadata": {},
   "outputs": [],
   "source": [
    "# Simple if-else example\n",
    "number = 10\n",
    "\n",
    "if number > 5:\n",
    "    print(\"Number is greater than 5\")\n",
    "else:\n",
    "    print(\"Number is 5 or less\")"
   ]
  },
  {
   "cell_type": "markdown",
   "metadata": {},
   "source": [
    "### Using elif for Multiple Conditions\n",
    "\n",
    "```python\n",
    "# Define a variable\n",
    "age = 18\n",
    "\n",
    "# Check multiple conditions\n",
    "if age < 13:\n",
    "    print(\"Child\")\n",
    "elif age < 20:\n",
    "    print(\"Teenager\")\n",
    "else:\n",
    "    print(\"Adult\")\n",
    "```"
   ]
  },
  {
   "cell_type": "markdown",
   "metadata": {},
   "source": [
    "# 3. Understanding Indentation in Python\n",
    "\n",
    "Python uses indentation to define the scope and grouping of statements. Indentation is crucial in Python and is used to determine the flow of control in constructs like loops, conditional statements, functions, etc."
   ]
  },
  {
   "cell_type": "markdown",
   "metadata": {},
   "source": [
    "## Basic Rules\n",
    "\n",
    "- A consistent number of spaces (usually 4) or a tab is used for indentation.\n",
    "- All statements within the same block of code must have the same indentation level."
   ]
  },
  {
   "cell_type": "code",
   "execution_count": 1,
   "metadata": {},
   "outputs": [
    {
     "name": "stdout",
     "output_type": "stream",
     "text": [
      "Number is greater than 5\n",
      "Number is also greater than 7\n"
     ]
    }
   ],
   "source": [
    "# Correct indentation\n",
    "number = 10\n",
    "\n",
    "if number > 5:\n",
    "    print(\"Number is greater than 5\")\n",
    "    if number > 7:\n",
    "        print(\"Number is also greater than 7\")\n",
    "else:\n",
    "    print(\"Number is 5 or less\")"
   ]
  },
  {
   "cell_type": "markdown",
   "metadata": {},
   "source": [
    "### Incorrect Indentation\n",
    "\n",
    "```python\n",
    "# This will result in an indentation error\n",
    "number = 10\n",
    "\n",
    "if number > 5:\n",
    "print(\"Number is greater than 5\")  # This line should be indented\n",
    "```"
   ]
  },
  {
   "cell_type": "code",
   "execution_count": 2,
   "metadata": {},
   "outputs": [
    {
     "name": "stdout",
     "output_type": "stream",
     "text": [
      "0 is even\n",
      "1 is odd\n",
      "2 is even\n",
      "3 is odd\n",
      "4 is even\n"
     ]
    }
   ],
   "source": [
    "# Loops and functions\n",
    "def print_numbers(max_number):\n",
    "    for i in range(max_number):\n",
    "        if i % 2 == 0:\n",
    "            print(i, \"is even\")\n",
    "        else:\n",
    "            print(i, \"is odd\")\n",
    "\n",
    "print_numbers(5)"
   ]
  },
  {
   "cell_type": "markdown",
   "metadata": {},
   "source": [
    "# 4. Python For and While Loops\n",
    "\n",
    "In Python, `for` loops and `while` loops are fundamental control structures used for iteration. Each type of loop is used to execute repetitive tasks under specific conditions."
   ]
  },
  {
   "cell_type": "markdown",
   "metadata": {},
   "source": [
    "## For Loop\n",
    "\n",
    "A `for` loop iterates over a sequence (like a list, tuple, or string) and executes a block of code for each element in the sequence.\n",
    "### Basic Syntax\n",
    "\n",
    "```python\n",
    "for element in sequence:\n",
    "    # Do something with element\n",
    "```"
   ]
  },
  {
   "cell_type": "code",
   "execution_count": 1,
   "metadata": {},
   "outputs": [
    {
     "name": "stdout",
     "output_type": "stream",
     "text": [
      "1\n",
      "2\n",
      "3\n",
      "4\n",
      "5\n"
     ]
    }
   ],
   "source": [
    "# List of numbers\n",
    "numbers = [1, 2, 3, 4, 5]\n",
    "\n",
    "# Iterating over the list\n",
    "for number in numbers:\n",
    "    print(number)"
   ]
  },
  {
   "cell_type": "markdown",
   "metadata": {},
   "source": [
    "## While Loop\n",
    "\n",
    "A `while` loop repeatedly executes a block of code as long as a given condition is true.\n",
    "### Basic Syntax\n",
    "\n",
    "```python\n",
    "while condition:\n",
    "    # Execute code block\n",
    "```"
   ]
  },
  {
   "cell_type": "code",
   "execution_count": 2,
   "metadata": {},
   "outputs": [
    {
     "name": "stdout",
     "output_type": "stream",
     "text": [
      "1\n",
      "2\n",
      "3\n",
      "4\n",
      "5\n"
     ]
    }
   ],
   "source": [
    "# Initializing a counter\n",
    "counter = 1\n",
    "\n",
    "# Looping while the counter is less than or equal to 5\n",
    "while counter <= 5:\n",
    "    print(counter)\n",
    "    counter += 1"
   ]
  },
  {
   "cell_type": "code",
   "execution_count": null,
   "metadata": {},
   "outputs": [],
   "source": []
  }
 ],
 "metadata": {
  "kernelspec": {
   "display_name": "base",
   "language": "python",
   "name": "python3"
  },
  "language_info": {
   "codemirror_mode": {
    "name": "ipython",
    "version": 3
   },
   "file_extension": ".py",
   "mimetype": "text/x-python",
   "name": "python",
   "nbconvert_exporter": "python",
   "pygments_lexer": "ipython3",
   "version": "3.12.7"
  }
 },
 "nbformat": 4,
 "nbformat_minor": 4
}
