{
 "cells": [
  {
   "cell_type": "code",
   "execution_count": 7,
   "id": "9d2a90fc-4b49-4187-8fdc-103e5f5f91ba",
   "metadata": {},
   "outputs": [],
   "source": [
    "from scipy import optimize\n",
    "import matplotlib.pyplot as plt\n"
   ]
  },
  {
   "cell_type": "code",
   "execution_count": 8,
   "id": "6f174f19-14b5-4c42-9d67-f3bff85615cf",
   "metadata": {},
   "outputs": [],
   "source": [
    "def f1(x):\n",
    "    return (x**2 -  1)"
   ]
  },
  {
   "cell_type": "code",
   "execution_count": 10,
   "id": "4329ec46-2133-4a22-af15-b05d40c1d1a2",
   "metadata": {},
   "outputs": [
    {
     "name": "stdout",
     "output_type": "stream",
     "text": [
      "By CG:       fun: -0.9999999999999836\n",
      "     jac: array([-2.4586916e-07])\n",
      " message: 'Optimization terminated successfully.'\n",
      "    nfev: 6\n",
      "     nit: 1\n",
      "    njev: 3\n",
      "  status: 0\n",
      " success: True\n",
      "       x: array([-1.28079007e-07])\n",
      "By BFGS:         fun: array([-1.])\n",
      " hess_inv: <1x1 LbfgsInvHessProduct with dtype=float64>\n",
      "      jac: array([1.11022302e-08])\n",
      "  message: 'CONVERGENCE: NORM_OF_PROJECTED_GRADIENT_<=_PGTOL'\n",
      "     nfev: 6\n",
      "      nit: 2\n",
      "     njev: 3\n",
      "   status: 0\n",
      "  success: True\n",
      "        x: array([0.])\n",
      "By 1d:        fun: -1.0\n",
      "    nfev: 40\n",
      "     nit: 36\n",
      " success: True\n",
      "       x: 4.4020875904303335e-09\n"
     ]
    }
   ],
   "source": [
    "x0 = 2.5\n",
    "\n",
    "opt2 = optimize.minimize(f1, x0, method='CG')  #  'CG' (Conjugate Gradient)\n",
    "opt1 = optimize.minimize(f1, x0, method='L-BFGS-B')\n",
    "#  Broyden-Fletcher-Goldfarb-Shanno (BFGS) for limited memory\n",
    "\n",
    "opt = optimize.minimize_scalar(f1)\n",
    "\n",
    "print(\"By CG: \", opt2)\n",
    "print(\"By BFGS:  \", opt1)\n",
    "print(\"By 1d:  \", opt)"
   ]
  },
  {
   "cell_type": "code",
   "execution_count": null,
   "id": "0b2f44f5-01a4-4562-8de3-b3be3e5c87e8",
   "metadata": {},
   "outputs": [],
   "source": []
  }
 ],
 "metadata": {
  "kernelspec": {
   "display_name": "Python 3",
   "language": "python",
   "name": "python3"
  },
  "language_info": {
   "codemirror_mode": {
    "name": "ipython",
    "version": 3
   },
   "file_extension": ".py",
   "mimetype": "text/x-python",
   "name": "python",
   "nbconvert_exporter": "python",
   "pygments_lexer": "ipython3",
   "version": "3.8.8"
  }
 },
 "nbformat": 4,
 "nbformat_minor": 5
}
