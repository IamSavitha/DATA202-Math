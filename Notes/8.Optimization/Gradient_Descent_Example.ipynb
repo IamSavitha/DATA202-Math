{
 "cells": [
  {
   "cell_type": "markdown",
   "id": "a2a2ff89",
   "metadata": {},
   "source": [
    "\n",
    "# Finding the Minimum of a Function Using Gradient Descent\n",
    "\n",
    "This notebook demonstrates how to find the minimum value of a function using the Gradient Descent method. Gradient Descent is an optimization algorithm used for minimizing the function by iteratively moving towards the minimum value of the function. \n"
   ]
  },
  {
   "cell_type": "markdown",
   "id": "97882dd5",
   "metadata": {},
   "source": [
    "\n",
    "## Function Definition\n",
    "\n",
    "We'll use a simple quadratic function for this demonstration, which is defined as:\n",
    "\n",
    "$$ f(x) = x^2 + 4x + 4 $$\n",
    "\n",
    "This function has a minimum value at $x = -2$.\n"
   ]
  },
  {
   "cell_type": "code",
   "execution_count": 12,
   "id": "87df86d7",
   "metadata": {},
   "outputs": [],
   "source": [
    "\n",
    "import numpy as np\n",
    "import matplotlib.pyplot as plt\n",
    "\n",
    "# Define the function\n",
    "def func(x):\n",
    "    return x**2 + 4*x + 4\n",
    "\n",
    "# Define the derivative of the function\n",
    "def derivative(x):\n",
    "    return 2*x + 4\n"
   ]
  },
  {
   "cell_type": "markdown",
   "id": "a96969b2",
   "metadata": {},
   "source": [
    "\n",
    "## Gradient Descent\n",
    "\n",
    "Gradient Descent is an iterative optimization algorithm. To find a local minimum of a function, we take steps proportional to the negative of the gradient (or approximate gradient) of the function at the current point.\n",
    "\n",
    "The general formula to update the parameter $x$ is:\n",
    "\n",
    "$$ x_{new} = x_{old} - \\alpha * \\frac{df}{dx} $$\n",
    "\n",
    "where $\\alpha$ is the learning rate.\n"
   ]
  },
  {
   "cell_type": "code",
   "execution_count": 11,
   "id": "938f0579",
   "metadata": {},
   "outputs": [
    {
     "name": "stdout",
     "output_type": "stream",
     "text": [
      "History of x values: [0, -0.4, -0.7200000000000001, -0.976, -1.1808, -1.34464, -1.4757120000000001, -1.5805696, -1.66445568, -1.731564544, -1.7852516352, -1.8282013081600001, -1.862561046528, -1.8900488372224, -1.91203906977792, -1.9296312558223359, -1.9437050046578688, -1.954964003726295, -1.963971202981036, -1.9711769623848288, -1.976941569907863, -1.9815532559262903, -1.9852426047410323, -1.9881940837928258, -1.9905552670342606, -1.9924442136274085, -1.9939553709019269, -1.9951642967215415, -1.9961314373772332, -1.9969051499017865, -1.997524119921429, -1.9980192959371432, -1.9984154367497147, -1.9987323493997717, -1.9989858795198174, -1.999188703615854, -1.999350962892683, -1.9994807703141464, -1.9995846162513171, -1.9996676930010537, -1.999734154400843]\n"
     ]
    }
   ],
   "source": [
    "\n",
    "# Gradient Descent Function\n",
    "def gradient_descent(start_x, learn_rate, epochs):\n",
    "    x = start_x\n",
    "    x_history = [x]\n",
    "    for _ in range(epochs):\n",
    "        grad = derivative(x)\n",
    "        x = x - learn_rate * grad\n",
    "        x_history.append(x)\n",
    "    return x_history\n",
    "\n",
    "# Parameters\n",
    "start_x = 0  # Starting value of x\n",
    "learn_rate = 0.1  # Learning rate\n",
    "epochs = 40  # Number of iterations\n",
    "\n",
    "# Run Gradient Descent\n",
    "x_history = gradient_descent(start_x, learn_rate, epochs)\n",
    "\n",
    "# Print the history of x values\n",
    "print(\"History of x values:\", x_history)\n"
   ]
  },
  {
   "cell_type": "markdown",
   "id": "b90f9f47",
   "metadata": {},
   "source": [
    "\n",
    "## Visualization of Gradient Descent\n",
    "\n",
    "Let's visualize how gradient descent updates the values of $x$ to reach the minimum value of the function.\n"
   ]
  },
  {
   "cell_type": "code",
   "execution_count": 7,
   "id": "82ec4253",
   "metadata": {},
   "outputs": [
    {
     "data": {
      "image/png": "[encoded data removed]",
      "text/plain": [
       "<Figure size 720x432 with 1 Axes>"
      ]
     },
     "metadata": {
      "needs_background": "light"
     },
     "output_type": "display_data"
    }
   ],
   "source": [
    "\n",
    "# Plotting\n",
    "x_values = np.linspace(-6, 2, 400)\n",
    "y_values = func(x_values)\n",
    "plt.figure(figsize=(10, 6))\n",
    "plt.plot(x_values, y_values, '-r', label='Function')\n",
    "plt.scatter(x_history, [func(x) for x in x_history], color='b', label='Gradient Descent Steps')\n",
    "plt.title('Gradient Descent Optimization')\n",
    "plt.xlabel('x')\n",
    "plt.ylabel('f(x)')\n",
    "plt.legend()\n",
    "plt.grid(True)\n",
    "plt.show()\n"
   ]
  },
  {
   "cell_type": "code",
   "execution_count": 10,
   "id": "8b7df5a5-14af-4802-9dfd-84656d04229d",
   "metadata": {},
   "outputs": [
    {
     "name": "stdout",
     "output_type": "stream",
     "text": [
      "By CG:       fun: 5.329070518200751e-15\n",
      "     jac: array([-1.1920929e-07])\n",
      " message: 'Optimization terminated successfully.'\n",
      "    nfev: 6\n",
      "     nit: 1\n",
      "    njev: 3\n",
      "  status: 0\n",
      " success: True\n",
      "       x: array([-2.00000007])\n"
     ]
    }
   ],
   "source": [
    "from scipy import optimize\n",
    "\n",
    "opt2 = optimize.minimize(func, start_x, method='CG')  #  'CG' (Conjugate Gradient)\n",
    "print(\"By CG: \", opt2)"
   ]
  },
  {
   "cell_type": "code",
   "execution_count": null,
   "id": "06fbe683-0466-4452-98d9-b8ef2395ed53",
   "metadata": {},
   "outputs": [],
   "source": []
  }
 ],
 "metadata": {
  "kernelspec": {
   "display_name": "Python 3",
   "language": "python",
   "name": "python3"
  },
  "language_info": {
   "codemirror_mode": {
    "name": "ipython",
    "version": 3
   },
   "file_extension": ".py",
   "mimetype": "text/x-python",
   "name": "python",
   "nbconvert_exporter": "python",
   "pygments_lexer": "ipython3",
   "version": "3.8.8"
  }
 },
 "nbformat": 4,
 "nbformat_minor": 5
}
