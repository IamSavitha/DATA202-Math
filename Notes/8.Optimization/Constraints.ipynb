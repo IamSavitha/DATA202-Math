{
 "cells": [
  {
   "cell_type": "code",
   "execution_count": 1,
   "id": "d33ad99b-465e-40a9-b81b-4fafcd93ad99",
   "metadata": {
    "tags": []
   },
   "outputs": [],
   "source": [
    "import numpy as np\n",
    "from scipy.optimize import minimize\n",
    "import matplotlib.pyplot as plt"
   ]
  },
  {
   "cell_type": "code",
   "execution_count": 2,
   "id": "f12607c8-296a-465c-9276-38ed4755ee12",
   "metadata": {},
   "outputs": [],
   "source": [
    "def resen(x):\n",
    "    \"\"\"The Rosenbrock function\"\"\"\n",
    "    return sum(100.0*(x[1:]-x[:-1]**2.0)**2.0 + (1-x[:-1])**2.0)"
   ]
  },
  {
   "cell_type": "code",
   "execution_count": 3,
   "id": "26bfebb8-7608-4b08-bb4f-2cc845313937",
   "metadata": {},
   "outputs": [],
   "source": [
    "from scipy.optimize import LinearConstraint\n",
    "linear_constraint = LinearConstraint([[1, 2, 0, 0, 0],[0, 1, 3, 0, 0]], [-np.inf, 1], [1, 1] )"
   ]
  },
  {
   "cell_type": "code",
   "execution_count": 4,
   "id": "e86d7805-61b6-4deb-a0ff-25475865ae93",
   "metadata": {},
   "outputs": [],
   "source": [
    "from scipy.optimize import NonlinearConstraint\n",
    "\n",
    "def cons_f(x):\n",
    "    return [x[0]**2 + x[1],  x[0]**2 - x[1]]\n",
    "\n",
    "nonlinear_constraint = NonlinearConstraint(cons_f, [-np.inf, 0.2], [0.5, 0.6])"
   ]
  },
  {
   "cell_type": "code",
   "execution_count": 5,
   "id": "9c0c09a5-5bbf-413b-a69a-5c29cdb0f931",
   "metadata": {},
   "outputs": [
    {
     "name": "stdout",
     "output_type": "stream",
     "text": [
      "[0.59160798 0.15       0.28333333 0.0893877  0.00799397]\n"
     ]
    },
    {
     "name": "stderr",
     "output_type": "stream",
     "text": [
      "C:\\Users\\Jung.Suh\\Anaconda3\\lib\\site-packages\\scipy\\optimize\\_constraints.py:432: OptimizeWarning: Equality and inequality constraints are specified in the same element of the constraint list. For efficient use with this method, equality and inequality constraints should be specified in separate elements of the constraint list. \n",
      "  warn(\"Equality and inequality constraints are specified in the same \"\n"
     ]
    }
   ],
   "source": [
    "x0 = np.array([1.3, 0.7, 0.8, 1.9, 1.2])\n",
    "#res = minimize(resen, x0)\n",
    "res = minimize(resen, x0, constraints=[linear_constraint, nonlinear_constraint])\n",
    "\n",
    "print(res.x)"
   ]
  },
  {
   "cell_type": "code",
   "execution_count": null,
   "id": "ec8a42bd-42e7-4d75-ad60-f53b31d58363",
   "metadata": {},
   "outputs": [],
   "source": []
  }
 ],
 "metadata": {
  "kernelspec": {
   "display_name": "Python 3",
   "language": "python",
   "name": "python3"
  },
  "language_info": {
   "codemirror_mode": {
    "name": "ipython",
    "version": 3
   },
   "file_extension": ".py",
   "mimetype": "text/x-python",
   "name": "python",
   "nbconvert_exporter": "python",
   "pygments_lexer": "ipython3",
   "version": "3.8.8"
  }
 },
 "nbformat": 4,
 "nbformat_minor": 5
}
