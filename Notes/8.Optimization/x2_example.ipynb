{
 "cells": [
  {
   "cell_type": "code",
   "execution_count": 1,
   "id": "a1cbd8e4-bad6-4d33-8fe2-22e0220954a0",
   "metadata": {},
   "outputs": [],
   "source": [
    "from scipy import optimize\n",
    "import matplotlib.pyplot as plt\n"
   ]
  },
  {
   "cell_type": "code",
   "execution_count": 2,
   "id": "85136ae5-24a2-4fbc-b9d1-4c613902b118",
   "metadata": {},
   "outputs": [],
   "source": [
    "def f2(x):\n",
    "    return (x[0]**2 + x[1]**2)"
   ]
  },
  {
   "cell_type": "code",
   "execution_count": 3,
   "id": "c52b3e9f-193f-4d5f-a1cf-7237f4bd49dc",
   "metadata": {},
   "outputs": [
    {
     "name": "stdout",
     "output_type": "stream",
     "text": [
      "By CG:       fun: 6.132712907869941e-15\n",
      "     jac: array([1.45219607e-07, 1.01780125e-07])\n",
      " message: 'Optimization terminated successfully.'\n",
      "    nfev: 9\n",
      "     nit: 1\n",
      "    njev: 3\n",
      "  status: 0\n",
      " success: True\n",
      "       x: array([6.51592229e-08, 4.34394818e-08])\n",
      "By BFGS:         fun: 3.330879607185062e-14\n",
      " hess_inv: <2x2 LbfgsInvHessProduct with dtype=float64>\n",
      "      jac: array([3.7385391e-07, 3.9077770e-08])\n",
      "  message: 'CONVERGENCE: NORM_OF_PROJECTED_GRADIENT_<=_PGTOL'\n",
      "     nfev: 9\n",
      "      nit: 2\n",
      "     njev: 3\n",
      "   status: 0\n",
      "  success: True\n",
      "        x: array([1.81926955e-07, 1.45388850e-08])\n"
     ]
    }
   ],
   "source": [
    "x0 = [3, 2]\n",
    "\n",
    "opt2 = optimize.minimize(f2, x0, method='CG')  #  'CG' (Conjugate Gradient)\n",
    "opt1 = optimize.minimize(f2, x0, method='L-BFGS-B')\n",
    "#  Broyden-Fletcher-Goldfarb-Shanno (BFGS) for limited memory\n",
    "\n",
    "print(\"By CG: \", opt2)\n",
    "print(\"By BFGS:  \", opt1)"
   ]
  },
  {
   "cell_type": "code",
   "execution_count": null,
   "id": "e97474d1-7d75-4e32-8d8e-3ce7329dca99",
   "metadata": {},
   "outputs": [],
   "source": []
  }
 ],
 "metadata": {
  "kernelspec": {
   "display_name": "Python 3",
   "language": "python",
   "name": "python3"
  },
  "language_info": {
   "codemirror_mode": {
    "name": "ipython",
    "version": 3
   },
   "file_extension": ".py",
   "mimetype": "text/x-python",
   "name": "python",
   "nbconvert_exporter": "python",
   "pygments_lexer": "ipython3",
   "version": "3.8.8"
  }
 },
 "nbformat": 4,
 "nbformat_minor": 5
}
