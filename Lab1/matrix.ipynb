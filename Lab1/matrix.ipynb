{
 "cells": [
  {
   "cell_type": "markdown",
   "metadata": {},
   "source": [
    "PART B"
   ]
  },
  {
   "cell_type": "markdown",
   "metadata": {},
   "source": [
    "\n",
    "   1.Basic Matrix Multiplication\n",
    "   \n",
    "   Multiplies two matrices A and B. \n",
    "     \n",
    "    Parameters: \n",
    "    A (numpy.ndarray): First matrix. \n",
    "    B (numpy.ndarray): Second matrix. \n",
    "     \n",
    "    Returns: \n",
    "    numpy.ndarray: The product of matrices A and B.\n",
    "\n",
    "STEPS : \n",
    "\n",
    "    -Iterate over rows of A\n",
    "    -For each row, iterate over columns of B\n",
    "    -Multiply corresponding elements and sum them up\n",
    "    "
   ]
  },
  {
   "cell_type": "code",
   "execution_count": 1,
   "metadata": {},
   "outputs": [
    {
     "name": "stdout",
     "output_type": "stream",
     "text": [
      "[[92990, 97033], [93082, 97129]]\n"
     ]
    }
   ],
   "source": [
    "import numpy as np \n",
    "\n",
    "def matrix_multiply(A, B): \n",
    "\n",
    "    rows_A, cols_A = len(A), len(A[0])\n",
    "    rows_B, cols_B = len(B), len(B[0])\n",
    "\n",
    "    result = [[0]*cols_B for i in range(rows_A)]\n",
    "    \n",
    "    for i in range(rows_A):  \n",
    "        for j in range(cols_B):  \n",
    "            for k in range(cols_A):  \n",
    "                result[i][j] += A[i][k] * B[k][j]\n",
    "    return result                \n",
    "\n",
    "A = np.array([[2021, 2022], \n",
    "            [2023, 2024]]) \n",
    "B = np.array([[22, 23],\n",
    "            [24, 25]]) \n",
    "print(matrix_multiply(A, B))"
   ]
  },
  {
   "cell_type": "markdown",
   "metadata": {},
   "source": [
    "2. Solve a System of Linear Equations (20 pts) \n",
    " \n",
    "Write a Python function that solves a 2×2 system of linear equations given in matrix form Ax = b, \n",
    "where A is a coefficient matrix and b is a constant vector. Do not use numpy.linalg.solve() and \n",
    "build it from scratch.  \n",
    " \n",
    " \n",
    "def solve_linear_system(A, b): \n",
    "\"\"\"  \n",
    "Solves a 2x2 system of linear equations Ax = b.  \n",
    " \n",
    "Parameters: A (list of lists): A 2x2 coefficient matrix. b (list): A 2-element constant vector.  \n",
    " \n",
    "Returns: tuple: Solution (x1, x2), or None if the system has no unique solution.  \n",
    "\"\"\" "
   ]
  },
  {
   "cell_type": "markdown",
   "metadata": {},
   "source": [
    "Ax = B \n",
    "\n",
    "A is Coefficient matrix \n",
    "x is unknown variables \n",
    "B is output matrix\n",
    "\n",
    " x = A^-1 * B\n",
    "\n",
    "\n",
    "A = [[a, b], [c, d]]\n",
    "A^-1 exist only if determinant det = ((a*d)- (b*c)) != 0\n",
    "A^-1 = 1/det * [[d, -b], [-c, a]]\n",
    "\n",
    "\n"
   ]
  },
  {
   "cell_type": "code",
   "execution_count": 2,
   "metadata": {},
   "outputs": [
    {
     "name": "stdout",
     "output_type": "stream",
     "text": [
      "Solution x:\n",
      " [0.42857143 1.42857143]\n"
     ]
    }
   ],
   "source": [
    "def inverse(input_matrix):\n",
    "    a, b = input_matrix[0]\n",
    "    c, d = input_matrix[1]\n",
    "\n",
    "    determinant = (a * d) - (b * c)\n",
    "    \n",
    "    if determinant == 0:\n",
    "        return \"Error: Determinant is zero, inverse does not exist.\"\n",
    "    \n",
    "    invA = (1/determinant) * np.array([[d, -b], [-c, a]])\n",
    "    return invA\n",
    "\n",
    "\n",
    "def solve_linear_system(A, B): \n",
    "    A_inv = inverse(A)  \n",
    "    \n",
    "    if isinstance(A_inv, str):  # If inverse function returns an error\n",
    "        return A_inv  \n",
    "\n",
    "    # Ensure B is a column vector\n",
    "    B = B.reshape(-1, 1)\n",
    "\n",
    "    # Convert A_inv and B to lists for compatibility with matrix_multiply()\n",
    "    A_inv_list = A_inv.tolist()\n",
    "    B_list = B.tolist()\n",
    "\n",
    "    # Multiply A_inv by B\n",
    "    x = matrix_multiply(A_inv_list, B_list)\n",
    "    \n",
    "    return np.array(x).flatten()  # Convert result back to a 1D NumPy array\n",
    "\n",
    "# Example matrices\n",
    "A = np.array([[3, 4], [2, 5]]) \n",
    "B = np.array([7, 8]) \n",
    "\n",
    "# Solve the system\n",
    "solution = solve_linear_system(A, B)\n",
    "print(\"Solution x:\\n\", solution)"
   ]
  }
 ],
 "metadata": {
  "kernelspec": {
   "display_name": "base",
   "language": "python",
   "name": "python3"
  },
  "language_info": {
   "codemirror_mode": {
    "name": "ipython",
    "version": 3
   },
   "file_extension": ".py",
   "mimetype": "text/x-python",
   "name": "python",
   "nbconvert_exporter": "python",
   "pygments_lexer": "ipython3",
   "version": "3.12.7"
  }
 },
 "nbformat": 4,
 "nbformat_minor": 2
}
